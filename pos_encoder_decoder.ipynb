{
 "cells": [
  {
   "cell_type": "markdown",
   "id": "d5a4e086",
   "metadata": {
    "id": "W6rJLIXgsSMY",
    "papermill": {
     "duration": 0.008518,
     "end_time": "2025-08-24T21:07:28.446011",
     "exception": false,
     "start_time": "2025-08-24T21:07:28.437493",
     "status": "completed"
    },
    "tags": []
   },
   "source": [
    "# Text Preparation"
   ]
  },
  {
   "cell_type": "code",
   "execution_count": 1,
   "id": "9cffe4e7",
   "metadata": {
    "execution": {
     "iopub.execute_input": "2025-08-24T21:07:28.458803Z",
     "iopub.status.busy": "2025-08-24T21:07:28.458538Z",
     "iopub.status.idle": "2025-08-24T21:07:30.601786Z",
     "shell.execute_reply": "2025-08-24T21:07:30.601191Z"
    },
    "executionInfo": {
     "elapsed": 3,
     "status": "ok",
     "timestamp": 1755937470012,
     "user": {
      "displayName": "Rishikesh Kumar",
      "userId": "11543712667587350306"
     },
     "user_tz": -330
    },
    "id": "ca52WBPSsHyq",
    "papermill": {
     "duration": 2.151269,
     "end_time": "2025-08-24T21:07:30.603195",
     "exception": false,
     "start_time": "2025-08-24T21:07:28.451926",
     "status": "completed"
    },
    "tags": []
   },
   "outputs": [],
   "source": [
    "import nltk\n",
    "from nltk.corpus import brown\n",
    "from collections import Counter\n",
    "import numpy as np\n",
    "from sklearn.model_selection import train_test_split"
   ]
  },
  {
   "cell_type": "code",
   "execution_count": 2,
   "id": "87482a77",
   "metadata": {
    "execution": {
     "iopub.execute_input": "2025-08-24T21:07:30.615980Z",
     "iopub.status.busy": "2025-08-24T21:07:30.615663Z",
     "iopub.status.idle": "2025-08-24T21:07:32.587996Z",
     "shell.execute_reply": "2025-08-24T21:07:32.587200Z"
    },
    "papermill": {
     "duration": 1.979995,
     "end_time": "2025-08-24T21:07:32.589281",
     "exception": false,
     "start_time": "2025-08-24T21:07:30.609286",
     "status": "completed"
    },
    "tags": []
   },
   "outputs": [
    {
     "data": {
      "text/plain": [
       "57340"
      ]
     },
     "execution_count": 2,
     "metadata": {},
     "output_type": "execute_result"
    }
   ],
   "source": [
    "len(brown.sents())"
   ]
  },
  {
   "cell_type": "code",
   "execution_count": 3,
   "id": "2469d056",
   "metadata": {
    "execution": {
     "iopub.execute_input": "2025-08-24T21:07:32.603321Z",
     "iopub.status.busy": "2025-08-24T21:07:32.603082Z",
     "iopub.status.idle": "2025-08-24T21:07:32.609852Z",
     "shell.execute_reply": "2025-08-24T21:07:32.609326Z"
    },
    "executionInfo": {
     "elapsed": 7,
     "status": "ok",
     "timestamp": 1755937470023,
     "user": {
      "displayName": "Rishikesh Kumar",
      "userId": "11543712667587350306"
     },
     "user_tz": -330
    },
    "id": "_ZdyvdbPr4AW",
    "papermill": {
     "duration": 0.014189,
     "end_time": "2025-08-24T21:07:32.610830",
     "exception": false,
     "start_time": "2025-08-24T21:07:32.596641",
     "status": "completed"
    },
    "tags": []
   },
   "outputs": [],
   "source": [
    "def prepare_brown_data(min_freq: int = 3):\n",
    "    \"\"\"\n",
    "    Returns:\n",
    "      X: List[np.ndarray] of word indices\n",
    "      Y: List[np.ndarray] of tag indices (gold, for supervised)\n",
    "      word2idx, idx2word, tag2idx, idx2tag\n",
    "    \"\"\"\n",
    "\n",
    "\n",
    "    nltk.download(\"brown\", quiet=True)\n",
    "    nltk.download(\"universal_tagset\", quiet=True)\n",
    "\n",
    "    tagged_sents = brown.tagged_sents(tagset=\"universal\")\n",
    "\n",
    "    # vocab with <UNK>\n",
    "    words = [w.lower() for sent in tagged_sents for (w, _) in sent]\n",
    "    freqs = Counter(words)\n",
    "    vocab = [\"<UNK>\", \"<PAD>\"] + [w for w, c in freqs.items() if c >= min_freq]\n",
    "    word2idx = {w: i for i, w in enumerate(vocab)}\n",
    "    idx2word = {i: w for w, i in word2idx.items()}\n",
    "\n",
    "    # tags (fixed small set)\n",
    "    tags = sorted({t for sent in tagged_sents for (_, t) in sent})\n",
    "    tag2idx = {t: i for i, t in enumerate(tags)}\n",
    "    idx2tag = {i: t for t, i in tag2idx.items()}\n",
    "\n",
    "    X, Y = [], []\n",
    "    for sent in tagged_sents:\n",
    "        ws, ts = zip(*sent)\n",
    "        x = np.array([word2idx.get(w.lower(), 0) for w in ws], dtype=np.int32)\n",
    "        y = np.array([tag2idx[t] for t in ts], dtype=np.int32)\n",
    "        X.append(x)\n",
    "        Y.append(y)\n",
    "\n",
    "    # print(f\"Vocab size: {len(vocab)}, #Tags: {len(tags)}, #Sentences: {len(X)}\")\n",
    "    return X, Y, word2idx, idx2word, tag2idx, idx2tag"
   ]
  },
  {
   "cell_type": "code",
   "execution_count": 4,
   "id": "13ac8a56",
   "metadata": {
    "execution": {
     "iopub.execute_input": "2025-08-24T21:07:32.623077Z",
     "iopub.status.busy": "2025-08-24T21:07:32.622864Z",
     "iopub.status.idle": "2025-08-24T21:07:32.626559Z",
     "shell.execute_reply": "2025-08-24T21:07:32.626009Z"
    },
    "executionInfo": {
     "elapsed": 7,
     "status": "ok",
     "timestamp": 1755937470026,
     "user": {
      "displayName": "Rishikesh Kumar",
      "userId": "11543712667587350306"
     },
     "user_tz": -330
    },
    "id": "uIPyuDZ81BGN",
    "papermill": {
     "duration": 0.010867,
     "end_time": "2025-08-24T21:07:32.627515",
     "exception": false,
     "start_time": "2025-08-24T21:07:32.616648",
     "status": "completed"
    },
    "tags": []
   },
   "outputs": [],
   "source": [
    "def get_training_data():\n",
    "    X, Y, word2idx, idx2word, tag2idx, idx2tag = prepare_brown_data(min_freq=1)\n",
    "    # Split into train/dev\n",
    "    X_train, X_dev, Y_train, Y_dev = train_test_split(\n",
    "        X, Y, test_size=0.1, random_state=42, shuffle=True\n",
    "    )\n",
    "    return X_train, Y_train, X_dev, Y_dev, word2idx, idx2word, tag2idx, idx2tag"
   ]
  },
  {
   "cell_type": "code",
   "execution_count": 5,
   "id": "b18f1b61",
   "metadata": {
    "execution": {
     "iopub.execute_input": "2025-08-24T21:07:32.639504Z",
     "iopub.status.busy": "2025-08-24T21:07:32.639282Z",
     "iopub.status.idle": "2025-08-24T21:07:40.019573Z",
     "shell.execute_reply": "2025-08-24T21:07:40.018991Z"
    },
    "executionInfo": {
     "elapsed": 7481,
     "status": "ok",
     "timestamp": 1755937477509,
     "user": {
      "displayName": "Rishikesh Kumar",
      "userId": "11543712667587350306"
     },
     "user_tz": -330
    },
    "id": "gfuDzr-_2qJh",
    "papermill": {
     "duration": 7.387942,
     "end_time": "2025-08-24T21:07:40.021070",
     "exception": false,
     "start_time": "2025-08-24T21:07:32.633128",
     "status": "completed"
    },
    "tags": []
   },
   "outputs": [],
   "source": [
    "X_train, Y_train, X_dev, Y_dev, word2idx, idx2word, tag2idx, idx2tag = get_training_data()"
   ]
  },
  {
   "cell_type": "code",
   "execution_count": 6,
   "id": "52000faa",
   "metadata": {
    "execution": {
     "iopub.execute_input": "2025-08-24T21:07:40.034043Z",
     "iopub.status.busy": "2025-08-24T21:07:40.033846Z",
     "iopub.status.idle": "2025-08-24T21:07:40.038539Z",
     "shell.execute_reply": "2025-08-24T21:07:40.038021Z"
    },
    "executionInfo": {
     "elapsed": 27,
     "status": "ok",
     "timestamp": 1755937477512,
     "user": {
      "displayName": "Rishikesh Kumar",
      "userId": "11543712667587350306"
     },
     "user_tz": -330
    },
    "id": "OLgzZUfSAL8R",
    "outputId": "f95d2cb9-09c5-4405-88e4-156aecbfc8fb",
    "papermill": {
     "duration": 0.012208,
     "end_time": "2025-08-24T21:07:40.039693",
     "exception": false,
     "start_time": "2025-08-24T21:07:40.027485",
     "status": "completed"
    },
    "tags": []
   },
   "outputs": [
    {
     "data": {
      "text/plain": [
       "(1, '<UNK>')"
      ]
     },
     "execution_count": 6,
     "metadata": {},
     "output_type": "execute_result"
    }
   ],
   "source": [
    "word2idx.get('<PAD>'), idx2word.get(0)"
   ]
  },
  {
   "cell_type": "markdown",
   "id": "b6aa1123",
   "metadata": {
    "id": "nhSnsFPgsVo4",
    "papermill": {
     "duration": 0.005486,
     "end_time": "2025-08-24T21:07:40.051011",
     "exception": false,
     "start_time": "2025-08-24T21:07:40.045525",
     "status": "completed"
    },
    "tags": []
   },
   "source": [
    "# Model"
   ]
  },
  {
   "cell_type": "code",
   "execution_count": 7,
   "id": "2c0e59ba",
   "metadata": {
    "execution": {
     "iopub.execute_input": "2025-08-24T21:07:40.063054Z",
     "iopub.status.busy": "2025-08-24T21:07:40.062846Z",
     "iopub.status.idle": "2025-08-24T21:07:44.909690Z",
     "shell.execute_reply": "2025-08-24T21:07:44.909112Z"
    },
    "executionInfo": {
     "elapsed": 10,
     "status": "ok",
     "timestamp": 1755937477513,
     "user": {
      "displayName": "Rishikesh Kumar",
      "userId": "11543712667587350306"
     },
     "user_tz": -330
    },
    "id": "MX2ACUo7sidh",
    "papermill": {
     "duration": 4.854417,
     "end_time": "2025-08-24T21:07:44.911133",
     "exception": false,
     "start_time": "2025-08-24T21:07:40.056716",
     "status": "completed"
    },
    "tags": []
   },
   "outputs": [],
   "source": [
    "import torch\n",
    "import torch.nn as nn"
   ]
  },
  {
   "cell_type": "code",
   "execution_count": 8,
   "id": "fe1228fe",
   "metadata": {
    "execution": {
     "iopub.execute_input": "2025-08-24T21:07:44.924407Z",
     "iopub.status.busy": "2025-08-24T21:07:44.924070Z",
     "iopub.status.idle": "2025-08-24T21:07:44.930930Z",
     "shell.execute_reply": "2025-08-24T21:07:44.930346Z"
    },
    "papermill": {
     "duration": 0.014452,
     "end_time": "2025-08-24T21:07:44.931956",
     "exception": false,
     "start_time": "2025-08-24T21:07:44.917504",
     "status": "completed"
    },
    "tags": []
   },
   "outputs": [],
   "source": [
    "import torch\n",
    "import torch.nn as nn\n",
    "\n",
    "class LSTM(nn.Module):\n",
    "    def __init__(self, input_dim, hidden_dim):\n",
    "        super().__init__()\n",
    "        self.input_dim = input_dim\n",
    "        self.hidden_dim = hidden_dim\n",
    "        self.W = nn.Linear(input_dim + hidden_dim, 4 * hidden_dim)\n",
    "\n",
    "    def forward(self, x):\n",
    "        if x.ndim != 3:\n",
    "            raise ValueError(\"Expected input shape (batch_size, seq_len, input_dim)\")\n",
    "\n",
    "        batch_size, seq_len, _ = x.size()\n",
    "        device = x.device\n",
    "\n",
    "        h_t = torch.zeros(batch_size, self.hidden_dim, device=device)\n",
    "        c_t = torch.zeros(batch_size, self.hidden_dim, device=device)\n",
    "\n",
    "        all_ht = []\n",
    "\n",
    "        for t in range(seq_len):\n",
    "            x_t = x[:, t, :]  # (batch_size, input_dim)\n",
    "            combined = torch.cat((x_t, h_t), dim=1)  # (batch_size, input_dim + hidden_dim)\n",
    "\n",
    "            gates = self.W(combined)\n",
    "            i_t, f_t, g_t, o_t = torch.chunk(gates, 4, dim=1)\n",
    "\n",
    "            i_t = torch.sigmoid(i_t)\n",
    "            f_t = torch.sigmoid(f_t)\n",
    "            g_t = torch.tanh(g_t)\n",
    "            o_t = torch.sigmoid(o_t)\n",
    "\n",
    "            c_t = f_t * c_t + i_t * g_t\n",
    "            h_t = o_t * torch.tanh(c_t)\n",
    "\n",
    "            all_ht.append(h_t)\n",
    "\n",
    "        outputs = torch.stack(all_ht, dim=1)\n",
    "\n",
    "        return outputs\n"
   ]
  },
  {
   "cell_type": "code",
   "execution_count": 9,
   "id": "d1fb58b5",
   "metadata": {
    "execution": {
     "iopub.execute_input": "2025-08-24T21:07:44.944523Z",
     "iopub.status.busy": "2025-08-24T21:07:44.944284Z",
     "iopub.status.idle": "2025-08-24T21:07:44.948131Z",
     "shell.execute_reply": "2025-08-24T21:07:44.947612Z"
    },
    "executionInfo": {
     "elapsed": 8,
     "status": "ok",
     "timestamp": 1755937477516,
     "user": {
      "displayName": "Rishikesh Kumar",
      "userId": "11543712667587350306"
     },
     "user_tz": -330
    },
    "id": "gZyEJochs6-B",
    "papermill": {
     "duration": 0.011459,
     "end_time": "2025-08-24T21:07:44.949159",
     "exception": false,
     "start_time": "2025-08-24T21:07:44.937700",
     "status": "completed"
    },
    "tags": []
   },
   "outputs": [],
   "source": [
    "class Encoder(nn.Module):\n",
    "  def __init__(self, input_dim, hidden_dim):\n",
    "    super().__init__()\n",
    "\n",
    "    self.encoder = LSTM(input_dim, hidden_dim)\n",
    "    self.fc = nn.Linear(hidden_dim, hidden_dim)\n",
    "\n",
    "  def forward(self, x):\n",
    "    \n",
    "    x = self.encoder(x)\n",
    "    x = self.fc(x)\n",
    "\n",
    "\n",
    "    return x"
   ]
  },
  {
   "cell_type": "code",
   "execution_count": 10,
   "id": "0a30060e",
   "metadata": {
    "execution": {
     "iopub.execute_input": "2025-08-24T21:07:44.961160Z",
     "iopub.status.busy": "2025-08-24T21:07:44.960767Z",
     "iopub.status.idle": "2025-08-24T21:07:44.964486Z",
     "shell.execute_reply": "2025-08-24T21:07:44.963962Z"
    },
    "executionInfo": {
     "elapsed": 2,
     "status": "ok",
     "timestamp": 1755937477520,
     "user": {
      "displayName": "Rishikesh Kumar",
      "userId": "11543712667587350306"
     },
     "user_tz": -330
    },
    "id": "JVljnMQ9tY8Q",
    "papermill": {
     "duration": 0.010844,
     "end_time": "2025-08-24T21:07:44.965574",
     "exception": false,
     "start_time": "2025-08-24T21:07:44.954730",
     "status": "completed"
    },
    "tags": []
   },
   "outputs": [],
   "source": [
    "class Decoder(nn.Module):\n",
    "  def __init__(self, hidden_dim, output_dim):\n",
    "    super().__init__()\n",
    "\n",
    "    self.decoder = LSTM(hidden_dim, hidden_dim)\n",
    "    self.fc = nn.Linear(hidden_dim, output_dim)\n",
    "\n",
    "  def forward(self, x):\n",
    "    x = self.decoder(x)\n",
    "    x = self.fc(x)\n",
    "\n",
    "    return x"
   ]
  },
  {
   "cell_type": "code",
   "execution_count": 11,
   "id": "0812a8f5",
   "metadata": {
    "execution": {
     "iopub.execute_input": "2025-08-24T21:07:44.978136Z",
     "iopub.status.busy": "2025-08-24T21:07:44.977586Z",
     "iopub.status.idle": "2025-08-24T21:07:44.981992Z",
     "shell.execute_reply": "2025-08-24T21:07:44.981400Z"
    },
    "executionInfo": {
     "elapsed": 4,
     "status": "ok",
     "timestamp": 1755937477539,
     "user": {
      "displayName": "Rishikesh Kumar",
      "userId": "11543712667587350306"
     },
     "user_tz": -330
    },
    "id": "En79hlm5sQ7G",
    "papermill": {
     "duration": 0.011771,
     "end_time": "2025-08-24T21:07:44.983011",
     "exception": false,
     "start_time": "2025-08-24T21:07:44.971240",
     "status": "completed"
    },
    "tags": []
   },
   "outputs": [],
   "source": [
    "class POSModel(nn.Module):\n",
    "  def __init__(self, vocab_size, input_dim, hidden_dim, output_dim):\n",
    "    super().__init__()\n",
    "\n",
    "    self.embedding = nn.Embedding(vocab_size, input_dim)\n",
    "    self.encoder = Encoder(input_dim, hidden_dim)\n",
    "    self.decoder = Decoder(hidden_dim, output_dim)\n",
    "\n",
    "    self.softmax = nn.Softmax(dim=-1)\n",
    "\n",
    "  def forward(self, x):\n",
    "    x = self.embedding(x)\n",
    "    x = self.encoder(x)\n",
    "    x = self.decoder(x)\n",
    "    x = self.softmax(x)\n",
    "    return x"
   ]
  },
  {
   "cell_type": "code",
   "execution_count": 12,
   "id": "8e34a8c0",
   "metadata": {
    "execution": {
     "iopub.execute_input": "2025-08-24T21:07:44.995106Z",
     "iopub.status.busy": "2025-08-24T21:07:44.994736Z",
     "iopub.status.idle": "2025-08-24T21:07:45.012558Z",
     "shell.execute_reply": "2025-08-24T21:07:45.012000Z"
    },
    "executionInfo": {
     "elapsed": 8,
     "status": "ok",
     "timestamp": 1755937477549,
     "user": {
      "displayName": "Rishikesh Kumar",
      "userId": "11543712667587350306"
     },
     "user_tz": -330
    },
    "id": "9airusfCupOW",
    "outputId": "57d57f5f-e40a-4691-adcc-a0d67130d6df",
    "papermill": {
     "duration": 0.02488,
     "end_time": "2025-08-24T21:07:45.013547",
     "exception": false,
     "start_time": "2025-08-24T21:07:44.988667",
     "status": "completed"
    },
    "tags": []
   },
   "outputs": [
    {
     "data": {
      "text/plain": [
       "(49817, 12, 180, 100, 64)"
      ]
     },
     "execution_count": 12,
     "metadata": {},
     "output_type": "execute_result"
    }
   ],
   "source": [
    "vocab_size = len(word2idx)\n",
    "output_dim = len(tag2idx)\n",
    "max_len = max([len(x) for x in X_train])\n",
    "embedding_dim = 100\n",
    "hidden_dim = 64\n",
    "\n",
    "vocab_size, output_dim, max_len, embedding_dim, hidden_dim"
   ]
  },
  {
   "cell_type": "code",
   "execution_count": 13,
   "id": "fd02e6f0",
   "metadata": {
    "execution": {
     "iopub.execute_input": "2025-08-24T21:07:45.025755Z",
     "iopub.status.busy": "2025-08-24T21:07:45.025354Z",
     "iopub.status.idle": "2025-08-24T21:07:45.105543Z",
     "shell.execute_reply": "2025-08-24T21:07:45.104754Z"
    },
    "executionInfo": {
     "elapsed": 21,
     "status": "ok",
     "timestamp": 1755937477569,
     "user": {
      "displayName": "Rishikesh Kumar",
      "userId": "11543712667587350306"
     },
     "user_tz": -330
    },
    "id": "Gp0jmkkRxBPR",
    "outputId": "2a6531c4-56a5-42af-f7f2-358cbdfc205e",
    "papermill": {
     "duration": 0.087436,
     "end_time": "2025-08-24T21:07:45.106764",
     "exception": false,
     "start_time": "2025-08-24T21:07:45.019328",
     "status": "completed"
    },
    "tags": []
   },
   "outputs": [
    {
     "data": {
      "text/plain": [
       "POSModel(\n",
       "  (embedding): Embedding(49817, 100)\n",
       "  (encoder): Encoder(\n",
       "    (encoder): LSTM(\n",
       "      (W): Linear(in_features=164, out_features=256, bias=True)\n",
       "    )\n",
       "    (fc): Linear(in_features=64, out_features=64, bias=True)\n",
       "  )\n",
       "  (decoder): Decoder(\n",
       "    (decoder): LSTM(\n",
       "      (W): Linear(in_features=128, out_features=256, bias=True)\n",
       "    )\n",
       "    (fc): Linear(in_features=64, out_features=12, bias=True)\n",
       "  )\n",
       "  (softmax): Softmax(dim=-1)\n",
       ")"
      ]
     },
     "execution_count": 13,
     "metadata": {},
     "output_type": "execute_result"
    }
   ],
   "source": [
    "model = POSModel(vocab_size, embedding_dim, hidden_dim, output_dim)\n",
    "model"
   ]
  },
  {
   "cell_type": "code",
   "execution_count": 14,
   "id": "5a07d4c5",
   "metadata": {
    "execution": {
     "iopub.execute_input": "2025-08-24T21:07:45.170257Z",
     "iopub.status.busy": "2025-08-24T21:07:45.169698Z",
     "iopub.status.idle": "2025-08-24T21:07:45.320272Z",
     "shell.execute_reply": "2025-08-24T21:07:45.319663Z"
    },
    "executionInfo": {
     "elapsed": 10,
     "status": "ok",
     "timestamp": 1755937477583,
     "user": {
      "displayName": "Rishikesh Kumar",
      "userId": "11543712667587350306"
     },
     "user_tz": -330
    },
    "id": "Iys8kms4yAg3",
    "outputId": "7c78c865-e0d2-420c-d664-d0c80d3e8d5d",
    "papermill": {
     "duration": 0.206426,
     "end_time": "2025-08-24T21:07:45.321299",
     "exception": false,
     "start_time": "2025-08-24T21:07:45.114873",
     "status": "completed"
    },
    "tags": []
   },
   "outputs": [
    {
     "data": {
      "text/plain": [
       "(tensor([[[0.0873, 0.0877, 0.0829, 0.0913, 0.0869, 0.0885, 0.0825, 0.0803,\n",
       "           0.0778, 0.0823, 0.0781, 0.0743],\n",
       "          [0.0871, 0.0881, 0.0822, 0.0912, 0.0869, 0.0887, 0.0820, 0.0804,\n",
       "           0.0782, 0.0819, 0.0787, 0.0746],\n",
       "          [0.0870, 0.0883, 0.0817, 0.0911, 0.0869, 0.0889, 0.0817, 0.0805,\n",
       "           0.0784, 0.0816, 0.0791, 0.0748],\n",
       "          [0.0869, 0.0885, 0.0814, 0.0910, 0.0868, 0.0891, 0.0815, 0.0806,\n",
       "           0.0785, 0.0815, 0.0793, 0.0749],\n",
       "          [0.0869, 0.0885, 0.0813, 0.0910, 0.0868, 0.0892, 0.0815, 0.0807,\n",
       "           0.0786, 0.0814, 0.0794, 0.0749],\n",
       "          [0.0869, 0.0886, 0.0812, 0.0909, 0.0868, 0.0893, 0.0814, 0.0807,\n",
       "           0.0786, 0.0813, 0.0795, 0.0749],\n",
       "          [0.0868, 0.0886, 0.0811, 0.0909, 0.0867, 0.0893, 0.0814, 0.0807,\n",
       "           0.0787, 0.0813, 0.0795, 0.0749],\n",
       "          [0.0868, 0.0886, 0.0811, 0.0908, 0.0867, 0.0893, 0.0814, 0.0807,\n",
       "           0.0787, 0.0813, 0.0795, 0.0749],\n",
       "          [0.0869, 0.0886, 0.0811, 0.0908, 0.0867, 0.0894, 0.0814, 0.0807,\n",
       "           0.0787, 0.0813, 0.0795, 0.0749],\n",
       "          [0.0869, 0.0886, 0.0811, 0.0908, 0.0867, 0.0894, 0.0814, 0.0807,\n",
       "           0.0787, 0.0813, 0.0795, 0.0749],\n",
       "          [0.0869, 0.0886, 0.0811, 0.0908, 0.0867, 0.0894, 0.0814, 0.0807,\n",
       "           0.0787, 0.0813, 0.0795, 0.0749],\n",
       "          [0.0869, 0.0886, 0.0811, 0.0908, 0.0867, 0.0894, 0.0814, 0.0807,\n",
       "           0.0787, 0.0813, 0.0795, 0.0749],\n",
       "          [0.0869, 0.0886, 0.0811, 0.0908, 0.0867, 0.0894, 0.0814, 0.0807,\n",
       "           0.0787, 0.0813, 0.0795, 0.0749],\n",
       "          [0.0869, 0.0886, 0.0811, 0.0908, 0.0867, 0.0894, 0.0814, 0.0807,\n",
       "           0.0787, 0.0813, 0.0795, 0.0749],\n",
       "          [0.0869, 0.0886, 0.0811, 0.0908, 0.0867, 0.0894, 0.0814, 0.0807,\n",
       "           0.0787, 0.0813, 0.0795, 0.0749],\n",
       "          [0.0869, 0.0886, 0.0811, 0.0908, 0.0867, 0.0894, 0.0814, 0.0807,\n",
       "           0.0787, 0.0813, 0.0795, 0.0749],\n",
       "          [0.0869, 0.0886, 0.0811, 0.0908, 0.0867, 0.0894, 0.0814, 0.0807,\n",
       "           0.0787, 0.0813, 0.0795, 0.0749],\n",
       "          [0.0869, 0.0886, 0.0811, 0.0908, 0.0867, 0.0894, 0.0814, 0.0807,\n",
       "           0.0787, 0.0813, 0.0795, 0.0748],\n",
       "          [0.0869, 0.0886, 0.0811, 0.0908, 0.0867, 0.0894, 0.0814, 0.0807,\n",
       "           0.0787, 0.0813, 0.0795, 0.0748],\n",
       "          [0.0869, 0.0886, 0.0811, 0.0908, 0.0867, 0.0894, 0.0814, 0.0807,\n",
       "           0.0787, 0.0813, 0.0795, 0.0748]],\n",
       " \n",
       "         [[0.0873, 0.0877, 0.0829, 0.0913, 0.0869, 0.0885, 0.0825, 0.0803,\n",
       "           0.0778, 0.0823, 0.0781, 0.0743],\n",
       "          [0.0871, 0.0881, 0.0822, 0.0912, 0.0869, 0.0887, 0.0820, 0.0804,\n",
       "           0.0782, 0.0819, 0.0787, 0.0746],\n",
       "          [0.0870, 0.0883, 0.0817, 0.0911, 0.0869, 0.0889, 0.0817, 0.0805,\n",
       "           0.0784, 0.0816, 0.0791, 0.0748],\n",
       "          [0.0869, 0.0885, 0.0814, 0.0910, 0.0868, 0.0891, 0.0815, 0.0806,\n",
       "           0.0785, 0.0815, 0.0793, 0.0749],\n",
       "          [0.0869, 0.0885, 0.0813, 0.0910, 0.0868, 0.0892, 0.0815, 0.0807,\n",
       "           0.0786, 0.0814, 0.0794, 0.0749],\n",
       "          [0.0869, 0.0886, 0.0812, 0.0909, 0.0868, 0.0893, 0.0814, 0.0807,\n",
       "           0.0786, 0.0813, 0.0795, 0.0749],\n",
       "          [0.0868, 0.0886, 0.0811, 0.0909, 0.0867, 0.0893, 0.0814, 0.0807,\n",
       "           0.0787, 0.0813, 0.0795, 0.0749],\n",
       "          [0.0868, 0.0886, 0.0811, 0.0908, 0.0867, 0.0893, 0.0814, 0.0807,\n",
       "           0.0787, 0.0813, 0.0795, 0.0749],\n",
       "          [0.0869, 0.0886, 0.0811, 0.0908, 0.0867, 0.0894, 0.0814, 0.0807,\n",
       "           0.0787, 0.0813, 0.0795, 0.0749],\n",
       "          [0.0869, 0.0886, 0.0811, 0.0908, 0.0867, 0.0894, 0.0814, 0.0807,\n",
       "           0.0787, 0.0813, 0.0795, 0.0749],\n",
       "          [0.0869, 0.0886, 0.0811, 0.0908, 0.0867, 0.0894, 0.0814, 0.0807,\n",
       "           0.0787, 0.0813, 0.0795, 0.0749],\n",
       "          [0.0869, 0.0886, 0.0811, 0.0908, 0.0867, 0.0894, 0.0814, 0.0807,\n",
       "           0.0787, 0.0813, 0.0795, 0.0749],\n",
       "          [0.0869, 0.0886, 0.0811, 0.0908, 0.0867, 0.0894, 0.0814, 0.0807,\n",
       "           0.0787, 0.0813, 0.0795, 0.0749],\n",
       "          [0.0869, 0.0886, 0.0811, 0.0908, 0.0867, 0.0894, 0.0814, 0.0807,\n",
       "           0.0787, 0.0813, 0.0795, 0.0749],\n",
       "          [0.0869, 0.0886, 0.0811, 0.0908, 0.0867, 0.0894, 0.0814, 0.0807,\n",
       "           0.0787, 0.0813, 0.0795, 0.0749],\n",
       "          [0.0869, 0.0886, 0.0811, 0.0908, 0.0867, 0.0894, 0.0814, 0.0807,\n",
       "           0.0787, 0.0813, 0.0795, 0.0749],\n",
       "          [0.0869, 0.0886, 0.0811, 0.0908, 0.0867, 0.0894, 0.0814, 0.0807,\n",
       "           0.0787, 0.0813, 0.0795, 0.0749],\n",
       "          [0.0869, 0.0886, 0.0811, 0.0908, 0.0867, 0.0894, 0.0814, 0.0807,\n",
       "           0.0787, 0.0813, 0.0795, 0.0748],\n",
       "          [0.0869, 0.0886, 0.0811, 0.0908, 0.0867, 0.0894, 0.0814, 0.0807,\n",
       "           0.0787, 0.0813, 0.0795, 0.0748],\n",
       "          [0.0869, 0.0886, 0.0811, 0.0908, 0.0867, 0.0894, 0.0814, 0.0807,\n",
       "           0.0787, 0.0813, 0.0795, 0.0748]]], grad_fn=<SoftmaxBackward0>),\n",
       " torch.Size([2, 20, 12]))"
      ]
     },
     "execution_count": 14,
     "metadata": {},
     "output_type": "execute_result"
    }
   ],
   "source": [
    "output = model(torch.zeros(2, 20, dtype=torch.long))\n",
    "output, output.shape\n",
    "\n",
    "# output = nn.Linear(10, 8)(torch.zeros(3, 5, 10))\n",
    "# output, output.shape"
   ]
  },
  {
   "cell_type": "code",
   "execution_count": 15,
   "id": "70bf5cc9",
   "metadata": {
    "execution": {
     "iopub.execute_input": "2025-08-24T21:07:45.334579Z",
     "iopub.status.busy": "2025-08-24T21:07:45.334222Z",
     "iopub.status.idle": "2025-08-24T21:07:45.377486Z",
     "shell.execute_reply": "2025-08-24T21:07:45.376866Z"
    },
    "executionInfo": {
     "elapsed": 10,
     "status": "ok",
     "timestamp": 1755937477590,
     "user": {
      "displayName": "Rishikesh Kumar",
      "userId": "11543712667587350306"
     },
     "user_tz": -330
    },
    "id": "Q7xXDdTY5Ep-",
    "outputId": "abcc3254-e7c2-4951-fdc1-46d993286cfb",
    "papermill": {
     "duration": 0.050851,
     "end_time": "2025-08-24T21:07:45.378508",
     "exception": false,
     "start_time": "2025-08-24T21:07:45.327657",
     "status": "completed"
    },
    "tags": []
   },
   "outputs": [
    {
     "data": {
      "text/plain": [
       "(tensor([[[0.0873, 0.0877, 0.0829,  ..., 0.0823, 0.0781, 0.0743],\n",
       "          [0.0871, 0.0881, 0.0822,  ..., 0.0819, 0.0787, 0.0746],\n",
       "          [0.0870, 0.0883, 0.0817,  ..., 0.0816, 0.0791, 0.0748],\n",
       "          ...,\n",
       "          [0.0869, 0.0886, 0.0811,  ..., 0.0813, 0.0795, 0.0748],\n",
       "          [0.0869, 0.0886, 0.0811,  ..., 0.0813, 0.0795, 0.0748],\n",
       "          [0.0869, 0.0886, 0.0811,  ..., 0.0813, 0.0795, 0.0748]],\n",
       " \n",
       "         [[0.0873, 0.0877, 0.0829,  ..., 0.0823, 0.0781, 0.0743],\n",
       "          [0.0871, 0.0881, 0.0822,  ..., 0.0819, 0.0787, 0.0746],\n",
       "          [0.0870, 0.0883, 0.0817,  ..., 0.0816, 0.0791, 0.0748],\n",
       "          ...,\n",
       "          [0.0869, 0.0886, 0.0811,  ..., 0.0813, 0.0795, 0.0748],\n",
       "          [0.0869, 0.0886, 0.0811,  ..., 0.0813, 0.0795, 0.0748],\n",
       "          [0.0869, 0.0886, 0.0811,  ..., 0.0813, 0.0795, 0.0748]],\n",
       " \n",
       "         [[0.0873, 0.0877, 0.0829,  ..., 0.0823, 0.0781, 0.0743],\n",
       "          [0.0871, 0.0881, 0.0822,  ..., 0.0819, 0.0787, 0.0746],\n",
       "          [0.0870, 0.0883, 0.0817,  ..., 0.0816, 0.0791, 0.0748],\n",
       "          ...,\n",
       "          [0.0869, 0.0886, 0.0811,  ..., 0.0813, 0.0795, 0.0748],\n",
       "          [0.0869, 0.0886, 0.0811,  ..., 0.0813, 0.0795, 0.0748],\n",
       "          [0.0869, 0.0886, 0.0811,  ..., 0.0813, 0.0795, 0.0748]]],\n",
       "        grad_fn=<SoftmaxBackward0>),\n",
       " torch.Size([3, 100, 12]))"
      ]
     },
     "execution_count": 15,
     "metadata": {},
     "output_type": "execute_result"
    }
   ],
   "source": [
    "output = model(torch.zeros(3, 100, dtype=torch.long))\n",
    "output, output.shape"
   ]
  },
  {
   "cell_type": "markdown",
   "id": "aa62e801",
   "metadata": {
    "id": "7AcHJ4bb2Ewd",
    "papermill": {
     "duration": 0.005955,
     "end_time": "2025-08-24T21:07:45.390853",
     "exception": false,
     "start_time": "2025-08-24T21:07:45.384898",
     "status": "completed"
    },
    "tags": []
   },
   "source": [
    "# Dataset and Dataloader"
   ]
  },
  {
   "cell_type": "code",
   "execution_count": 16,
   "id": "7d1fa935",
   "metadata": {
    "execution": {
     "iopub.execute_input": "2025-08-24T21:07:45.403685Z",
     "iopub.status.busy": "2025-08-24T21:07:45.403439Z",
     "iopub.status.idle": "2025-08-24T21:07:45.406802Z",
     "shell.execute_reply": "2025-08-24T21:07:45.406116Z"
    },
    "executionInfo": {
     "elapsed": 2,
     "status": "ok",
     "timestamp": 1755937477593,
     "user": {
      "displayName": "Rishikesh Kumar",
      "userId": "11543712667587350306"
     },
     "user_tz": -330
    },
    "id": "fr38R-qM2MRi",
    "papermill": {
     "duration": 0.010897,
     "end_time": "2025-08-24T21:07:45.407809",
     "exception": false,
     "start_time": "2025-08-24T21:07:45.396912",
     "status": "completed"
    },
    "tags": []
   },
   "outputs": [],
   "source": [
    "from torch.utils.data import Dataset, DataLoader"
   ]
  },
  {
   "cell_type": "code",
   "execution_count": 17,
   "id": "b4883a30",
   "metadata": {
    "execution": {
     "iopub.execute_input": "2025-08-24T21:07:45.420421Z",
     "iopub.status.busy": "2025-08-24T21:07:45.420216Z",
     "iopub.status.idle": "2025-08-24T21:07:45.424082Z",
     "shell.execute_reply": "2025-08-24T21:07:45.423592Z"
    },
    "executionInfo": {
     "elapsed": 1,
     "status": "ok",
     "timestamp": 1755937477597,
     "user": {
      "displayName": "Rishikesh Kumar",
      "userId": "11543712667587350306"
     },
     "user_tz": -330
    },
    "id": "hUUZkoUi2GgE",
    "papermill": {
     "duration": 0.011433,
     "end_time": "2025-08-24T21:07:45.425120",
     "exception": false,
     "start_time": "2025-08-24T21:07:45.413687",
     "status": "completed"
    },
    "tags": []
   },
   "outputs": [],
   "source": [
    "class POSDataset(Dataset):\n",
    "  def __init__(self, X, Y):\n",
    "    self.X = X\n",
    "    self.Y = Y\n",
    "\n",
    "  def __len__(self):\n",
    "    return len(self.X)\n",
    "\n",
    "  def __getitem__(self, idx):\n",
    "    return torch.tensor(self.X[idx], dtype=torch.long), torch.tensor(self.Y[idx], dtype=torch.long)"
   ]
  },
  {
   "cell_type": "code",
   "execution_count": 18,
   "id": "bad73187",
   "metadata": {
    "execution": {
     "iopub.execute_input": "2025-08-24T21:07:45.437818Z",
     "iopub.status.busy": "2025-08-24T21:07:45.437645Z",
     "iopub.status.idle": "2025-08-24T21:07:45.441274Z",
     "shell.execute_reply": "2025-08-24T21:07:45.440613Z"
    },
    "executionInfo": {
     "elapsed": 2,
     "status": "ok",
     "timestamp": 1755937477602,
     "user": {
      "displayName": "Rishikesh Kumar",
      "userId": "11543712667587350306"
     },
     "user_tz": -330
    },
    "id": "v1vcMDlR33dy",
    "papermill": {
     "duration": 0.011131,
     "end_time": "2025-08-24T21:07:45.442322",
     "exception": false,
     "start_time": "2025-08-24T21:07:45.431191",
     "status": "completed"
    },
    "tags": []
   },
   "outputs": [],
   "source": [
    "def collate_fn(batch):\n",
    "  X, Y = zip(*batch)\n",
    "\n",
    "  X = torch.nn.utils.rnn.pad_sequence(X, batch_first=True)\n",
    "  Y = torch.nn.utils.rnn.pad_sequence(Y, batch_first=True)\n",
    "\n",
    "  return X, Y"
   ]
  },
  {
   "cell_type": "code",
   "execution_count": 19,
   "id": "9f5ef2a9",
   "metadata": {
    "execution": {
     "iopub.execute_input": "2025-08-24T21:07:45.455104Z",
     "iopub.status.busy": "2025-08-24T21:07:45.454904Z",
     "iopub.status.idle": "2025-08-24T21:07:45.458524Z",
     "shell.execute_reply": "2025-08-24T21:07:45.457997Z"
    },
    "executionInfo": {
     "elapsed": 16,
     "status": "ok",
     "timestamp": 1755937477620,
     "user": {
      "displayName": "Rishikesh Kumar",
      "userId": "11543712667587350306"
     },
     "user_tz": -330
    },
    "id": "aTPIwdNg2iRQ",
    "papermill": {
     "duration": 0.011215,
     "end_time": "2025-08-24T21:07:45.459537",
     "exception": false,
     "start_time": "2025-08-24T21:07:45.448322",
     "status": "completed"
    },
    "tags": []
   },
   "outputs": [],
   "source": [
    "train_data = POSDataset(X_train, Y_train)\n",
    "dev_data = POSDataset(X_dev, Y_dev)\n",
    "\n",
    "train_loader = DataLoader(train_data, batch_size=64, collate_fn=collate_fn, shuffle=True)\n",
    "dev_loader = DataLoader(dev_data, batch_size=64, collate_fn=collate_fn, shuffle=False)"
   ]
  },
  {
   "cell_type": "code",
   "execution_count": 20,
   "id": "4cdfda93",
   "metadata": {
    "execution": {
     "iopub.execute_input": "2025-08-24T21:07:45.472663Z",
     "iopub.status.busy": "2025-08-24T21:07:45.472479Z",
     "iopub.status.idle": "2025-08-24T21:07:45.476533Z",
     "shell.execute_reply": "2025-08-24T21:07:45.475856Z"
    },
    "executionInfo": {
     "elapsed": 12,
     "status": "ok",
     "timestamp": 1755937477631,
     "user": {
      "displayName": "Rishikesh Kumar",
      "userId": "11543712667587350306"
     },
     "user_tz": -330
    },
    "id": "oduHsh3w3C9V",
    "outputId": "d12e79f6-a88f-47d0-8699-af1c4ea71833",
    "papermill": {
     "duration": 0.011957,
     "end_time": "2025-08-24T21:07:45.477677",
     "exception": false,
     "start_time": "2025-08-24T21:07:45.465720",
     "status": "completed"
    },
    "tags": []
   },
   "outputs": [
    {
     "data": {
      "text/plain": [
       "(<torch.utils.data.dataloader.DataLoader at 0x7e4023ce8190>,\n",
       " <torch.utils.data.dataloader.DataLoader at 0x7e40241a3150>)"
      ]
     },
     "execution_count": 20,
     "metadata": {},
     "output_type": "execute_result"
    }
   ],
   "source": [
    "train_loader, dev_loader"
   ]
  },
  {
   "cell_type": "code",
   "execution_count": 21,
   "id": "86524c83",
   "metadata": {
    "execution": {
     "iopub.execute_input": "2025-08-24T21:07:45.490765Z",
     "iopub.status.busy": "2025-08-24T21:07:45.490307Z",
     "iopub.status.idle": "2025-08-24T21:07:45.506580Z",
     "shell.execute_reply": "2025-08-24T21:07:45.505795Z"
    },
    "executionInfo": {
     "elapsed": 11,
     "status": "ok",
     "timestamp": 1755937477644,
     "user": {
      "displayName": "Rishikesh Kumar",
      "userId": "11543712667587350306"
     },
     "user_tz": -330
    },
    "id": "W-6IRm7fADn3",
    "outputId": "e3e1013d-dacb-4aad-f0ad-40379f6767e2",
    "papermill": {
     "duration": 0.02386,
     "end_time": "2025-08-24T21:07:45.507692",
     "exception": false,
     "start_time": "2025-08-24T21:07:45.483832",
     "status": "completed"
    },
    "tags": []
   },
   "outputs": [
    {
     "name": "stdout",
     "output_type": "stream",
     "text": [
      "(tensor([[  399,  4517,    34,  ...,     0,     0,     0],\n",
      "        [  408,   276,     2,  ...,     0,     0,     0],\n",
      "        [35984,    34,     9,  ...,     0,     0,     0],\n",
      "        ...,\n",
      "        [ 2214,    81,   138,  ...,     0,     0,     0],\n",
      "        [ 2456, 33994,   483,  ...,     0,     0,     0],\n",
      "        [  201,   478,  1661,  ...,     0,     0,     0]]), tensor([[ 8, 10,  0,  ...,  0,  0,  0],\n",
      "        [10,  3,  5,  ...,  0,  0,  0],\n",
      "        [ 6,  0,  5,  ...,  0,  0,  0],\n",
      "        ...,\n",
      "        [ 3,  8, 10,  ...,  0,  0,  0],\n",
      "        [ 6,  6, 10,  ...,  0,  0,  0],\n",
      "        [ 8, 10,  3,  ...,  0,  0,  0]]))\n"
     ]
    }
   ],
   "source": [
    "print(next(iter(train_loader)))"
   ]
  },
  {
   "cell_type": "markdown",
   "id": "edb254f5",
   "metadata": {
    "id": "-v_1CwFD1qfI",
    "papermill": {
     "duration": 0.005959,
     "end_time": "2025-08-24T21:07:45.519947",
     "exception": false,
     "start_time": "2025-08-24T21:07:45.513988",
     "status": "completed"
    },
    "tags": []
   },
   "source": [
    "# Training"
   ]
  },
  {
   "cell_type": "code",
   "execution_count": 22,
   "id": "ed5bfb40",
   "metadata": {
    "execution": {
     "iopub.execute_input": "2025-08-24T21:07:45.532653Z",
     "iopub.status.busy": "2025-08-24T21:07:45.532425Z",
     "iopub.status.idle": "2025-08-24T21:07:45.535635Z",
     "shell.execute_reply": "2025-08-24T21:07:45.534979Z"
    },
    "executionInfo": {
     "elapsed": 2,
     "status": "ok",
     "timestamp": 1755937477648,
     "user": {
      "displayName": "Rishikesh Kumar",
      "userId": "11543712667587350306"
     },
     "user_tz": -330
    },
    "id": "FQKWmDRT12oP",
    "papermill": {
     "duration": 0.010854,
     "end_time": "2025-08-24T21:07:45.536775",
     "exception": false,
     "start_time": "2025-08-24T21:07:45.525921",
     "status": "completed"
    },
    "tags": []
   },
   "outputs": [],
   "source": [
    "from tqdm import tqdm"
   ]
  },
  {
   "cell_type": "code",
   "execution_count": 23,
   "id": "22ab2576",
   "metadata": {
    "execution": {
     "iopub.execute_input": "2025-08-24T21:07:45.549881Z",
     "iopub.status.busy": "2025-08-24T21:07:45.549680Z",
     "iopub.status.idle": "2025-08-24T21:07:50.312073Z",
     "shell.execute_reply": "2025-08-24T21:07:50.311309Z"
    },
    "executionInfo": {
     "elapsed": 25,
     "status": "ok",
     "timestamp": 1755937477675,
     "user": {
      "displayName": "Rishikesh Kumar",
      "userId": "11543712667587350306"
     },
     "user_tz": -330
    },
    "id": "Pt7b1chC1XKp",
    "papermill": {
     "duration": 4.770606,
     "end_time": "2025-08-24T21:07:50.313561",
     "exception": false,
     "start_time": "2025-08-24T21:07:45.542955",
     "status": "completed"
    },
    "tags": []
   },
   "outputs": [],
   "source": [
    "loss_fn = nn.CrossEntropyLoss()\n",
    "optimizer = torch.optim.Adam(model.parameters(), lr=0.001)"
   ]
  },
  {
   "cell_type": "code",
   "execution_count": 24,
   "id": "012691e5",
   "metadata": {
    "execution": {
     "iopub.execute_input": "2025-08-24T21:07:50.328182Z",
     "iopub.status.busy": "2025-08-24T21:07:50.327579Z",
     "iopub.status.idle": "2025-08-24T21:07:50.395378Z",
     "shell.execute_reply": "2025-08-24T21:07:50.394757Z"
    },
    "executionInfo": {
     "elapsed": 12,
     "status": "ok",
     "timestamp": 1755937477678,
     "user": {
      "displayName": "Rishikesh Kumar",
      "userId": "11543712667587350306"
     },
     "user_tz": -330
    },
    "id": "kPVGxSgj1lul",
    "outputId": "cfd0066a-2f10-4918-f611-1c53ae0605d3",
    "papermill": {
     "duration": 0.076069,
     "end_time": "2025-08-24T21:07:50.396534",
     "exception": false,
     "start_time": "2025-08-24T21:07:50.320465",
     "status": "completed"
    },
    "tags": []
   },
   "outputs": [
    {
     "data": {
      "text/plain": [
       "device(type='cuda')"
      ]
     },
     "execution_count": 24,
     "metadata": {},
     "output_type": "execute_result"
    }
   ],
   "source": [
    "device = torch.device(\"cuda\" if torch.cuda.is_available() else \"cpu\")\n",
    "device"
   ]
  },
  {
   "cell_type": "code",
   "execution_count": 25,
   "id": "0b2227e7",
   "metadata": {
    "execution": {
     "iopub.execute_input": "2025-08-24T21:07:50.410336Z",
     "iopub.status.busy": "2025-08-24T21:07:50.410136Z",
     "iopub.status.idle": "2025-08-24T23:04:46.565952Z",
     "shell.execute_reply": "2025-08-24T23:04:46.565249Z"
    },
    "executionInfo": {
     "elapsed": 118926,
     "status": "ok",
     "timestamp": 1755937596600,
     "user": {
      "displayName": "Rishikesh Kumar",
      "userId": "11543712667587350306"
     },
     "user_tz": -330
    },
    "id": "HU6TBxNw1pSa",
    "outputId": "3a6e5522-6663-4e14-abd5-22c391102f3d",
    "papermill": {
     "duration": 7016.177871,
     "end_time": "2025-08-24T23:04:46.581160",
     "exception": false,
     "start_time": "2025-08-24T21:07:50.403289",
     "status": "completed"
    },
    "tags": []
   },
   "outputs": [
    {
     "name": "stderr",
     "output_type": "stream",
     "text": [
      "Epoch 100/100, Train Loss: 1.6267, Dev Loss: 1.6326, Dev Accuracy: 0.9868: 100%|██████████| 100/100 [1:56:55<00:00, 70.16s/it]"
     ]
    },
    {
     "name": "stdout",
     "output_type": "stream",
     "text": [
      "\n",
      "Training complete!\n"
     ]
    },
    {
     "name": "stderr",
     "output_type": "stream",
     "text": [
      "\n"
     ]
    }
   ],
   "source": [
    "epochs = 100\n",
    "model = model.to(device)\n",
    "\n",
    "pbar = tqdm(range(epochs))\n",
    "for epoch in pbar:\n",
    "    model.train()\n",
    "    total_loss = 0\n",
    "    for X, Y in train_loader:\n",
    "        X = X.to(device)\n",
    "        Y = Y.to(device)\n",
    "\n",
    "        optimizer.zero_grad()\n",
    "        y_pred = model(X)\n",
    "\n",
    "        # Create a mask to ignore padding tokens\n",
    "        mask = (Y != 1) # Assuming 1 is the index for <PAD> tag\n",
    "\n",
    "        # Apply mask to loss calculation\n",
    "        loss = loss_fn(y_pred.view(-1, output_dim)[mask.view(-1)], Y.view(-1)[mask.view(-1)])\n",
    "        loss.backward()\n",
    "        optimizer.step()\n",
    "        total_loss += loss.item()\n",
    "\n",
    "    average_train_loss = total_loss / len(train_loader)\n",
    "\n",
    "    model.eval()\n",
    "    total_eval_loss = 0\n",
    "    correct_predictions = 0\n",
    "    total_tokens = 0\n",
    "    with torch.no_grad():\n",
    "        for X_dev, Y_dev in dev_loader:\n",
    "            X_dev = X_dev.to(device)\n",
    "            Y_dev = Y_dev.to(device)\n",
    "\n",
    "            y_pred_dev = model(X_dev)\n",
    "            # Create a mask to ignore padding tokens\n",
    "            mask = (Y_dev != 1) # Assuming 1 is the index for <PAD> tag\n",
    "\n",
    "            # Apply mask to evaluation loss calculation\n",
    "            eval_loss = loss_fn(y_pred_dev.view(-1, output_dim)[mask.view(-1)], Y_dev.view(-1)[mask.view(-1)])\n",
    "            total_eval_loss += eval_loss.item()\n",
    "\n",
    "            # Calculate accuracy, only considering non-padding tokens\n",
    "            predicted_tags = torch.argmax(y_pred_dev, dim=-1)\n",
    "            correct_predictions += ((predicted_tags == Y_dev) * mask).sum().item()\n",
    "            total_tokens += mask.sum().item()\n",
    "\n",
    "\n",
    "    average_eval_loss = total_eval_loss / len(dev_loader)\n",
    "    accuracy = correct_predictions / total_tokens if total_tokens > 0 else 0\n",
    "\n",
    "    pbar.set_description(f\"Epoch {epoch+1}/{epochs}, Train Loss: {average_train_loss:.4f}, Dev Loss: {average_eval_loss:.4f}, Dev Accuracy: {accuracy:.4f}\")\n",
    "\n",
    "print(\"\\nTraining complete!\")"
   ]
  },
  {
   "cell_type": "code",
   "execution_count": 26,
   "id": "a11be600",
   "metadata": {
    "execution": {
     "iopub.execute_input": "2025-08-24T23:04:46.610076Z",
     "iopub.status.busy": "2025-08-24T23:04:46.609860Z",
     "iopub.status.idle": "2025-08-24T23:04:46.653792Z",
     "shell.execute_reply": "2025-08-24T23:04:46.653269Z"
    },
    "papermill": {
     "duration": 0.059556,
     "end_time": "2025-08-24T23:04:46.654882",
     "exception": false,
     "start_time": "2025-08-24T23:04:46.595326",
     "status": "completed"
    },
    "tags": []
   },
   "outputs": [],
   "source": [
    "# save the model\n",
    "PATH = \"model_weights.pth\"\n",
    "\n",
    "# Save only the model's learned parameters (state_dict)\n",
    "torch.save(model.state_dict(), PATH)\n",
    "# model = MyModel()\n",
    "# PATH = \"model_parameters.pth\"\n",
    "# model.load_state_dict(torch.load(PATH))\n",
    "# model.eval() # Set model to evaluation mode for inference"
   ]
  },
  {
   "cell_type": "code",
   "execution_count": 27,
   "id": "23299d30",
   "metadata": {
    "execution": {
     "iopub.execute_input": "2025-08-24T23:04:46.683125Z",
     "iopub.status.busy": "2025-08-24T23:04:46.682920Z",
     "iopub.status.idle": "2025-08-24T23:04:48.927888Z",
     "shell.execute_reply": "2025-08-24T23:04:48.927120Z"
    },
    "executionInfo": {
     "elapsed": 358,
     "status": "ok",
     "timestamp": 1755937687502,
     "user": {
      "displayName": "Rishikesh Kumar",
      "userId": "11543712667587350306"
     },
     "user_tz": -330
    },
    "id": "2a02c784",
    "papermill": {
     "duration": 2.260465,
     "end_time": "2025-08-24T23:04:48.929221",
     "exception": false,
     "start_time": "2025-08-24T23:04:46.668756",
     "status": "completed"
    },
    "tags": []
   },
   "outputs": [],
   "source": [
    "all_true_labels = []\n",
    "all_predicted_labels = []\n",
    "\n",
    "model.eval()\n",
    "with torch.no_grad():\n",
    "    for X_dev, Y_dev in dev_loader:\n",
    "        X_dev = X_dev.to(device)\n",
    "        Y_dev = Y_dev.to(device)\n",
    "\n",
    "        y_pred_dev = model(X_dev)\n",
    "        predicted_tags = torch.argmax(y_pred_dev, dim=-1)\n",
    "\n",
    "        all_true_labels.extend(Y_dev.view(-1).cpu().numpy())\n",
    "        all_predicted_labels.extend(predicted_tags.view(-1).cpu().numpy())"
   ]
  },
  {
   "cell_type": "code",
   "execution_count": 28,
   "id": "8c988719",
   "metadata": {
    "execution": {
     "iopub.execute_input": "2025-08-24T23:04:48.958882Z",
     "iopub.status.busy": "2025-08-24T23:04:48.958322Z",
     "iopub.status.idle": "2025-08-24T23:04:49.945570Z",
     "shell.execute_reply": "2025-08-24T23:04:49.944677Z"
    },
    "executionInfo": {
     "elapsed": 1135,
     "status": "ok",
     "timestamp": 1755937689052,
     "user": {
      "displayName": "Rishikesh Kumar",
      "userId": "11543712667587350306"
     },
     "user_tz": -330
    },
    "id": "3a53a154",
    "outputId": "cd1fcdcd-b72f-4d93-cc36-18b8e271ec6b",
    "papermill": {
     "duration": 1.002922,
     "end_time": "2025-08-24T23:04:49.946783",
     "exception": false,
     "start_time": "2025-08-24T23:04:48.943861",
     "status": "completed"
    },
    "tags": []
   },
   "outputs": [
    {
     "name": "stdout",
     "output_type": "stream",
     "text": [
      "Overall Precision: 0.9468\n",
      "Overall Recall: 0.9650\n",
      "Overall F1-score: 0.9551\n",
      "Overall Accuracy: 0.9650\n"
     ]
    }
   ],
   "source": [
    "from sklearn.metrics import precision_score, recall_score, f1_score, accuracy_score\n",
    "\n",
    "overall_precision = precision_score(all_true_labels, all_predicted_labels, average='weighted', zero_division=0)\n",
    "overall_recall = recall_score(all_true_labels, all_predicted_labels, average='weighted', zero_division=0)\n",
    "overall_f1 = f1_score(all_true_labels, all_predicted_labels, average='weighted', zero_division=0)\n",
    "overall_accuracy = accuracy_score(all_true_labels, all_predicted_labels)\n",
    "\n",
    "print(f\"Overall Precision: {overall_precision:.4f}\")\n",
    "print(f\"Overall Recall: {overall_recall:.4f}\")\n",
    "print(f\"Overall F1-score: {overall_f1:.4f}\")\n",
    "print(f\"Overall Accuracy: {overall_accuracy:.4f}\")"
   ]
  },
  {
   "cell_type": "code",
   "execution_count": 29,
   "id": "04fa51e1",
   "metadata": {
    "execution": {
     "iopub.execute_input": "2025-08-24T23:04:49.977125Z",
     "iopub.status.busy": "2025-08-24T23:04:49.976900Z",
     "iopub.status.idle": "2025-08-24T23:04:50.324845Z",
     "shell.execute_reply": "2025-08-24T23:04:50.324040Z"
    },
    "executionInfo": {
     "elapsed": 249,
     "status": "ok",
     "timestamp": 1755937689679,
     "user": {
      "displayName": "Rishikesh Kumar",
      "userId": "11543712667587350306"
     },
     "user_tz": -330
    },
    "id": "6ce8dcae",
    "outputId": "82ccbf07-960d-4188-801e-fb0d808dd7ae",
    "papermill": {
     "duration": 0.364061,
     "end_time": "2025-08-24T23:04:50.326024",
     "exception": false,
     "start_time": "2025-08-24T23:04:49.961963",
     "status": "completed"
    },
    "tags": []
   },
   "outputs": [
    {
     "name": "stdout",
     "output_type": "stream",
     "text": [
      "              precision    recall  f1-score   support\n",
      "\n",
      "           .       1.00      1.00      1.00    270721\n",
      "         ADJ       0.00      0.00      0.00      8194\n",
      "         ADP       0.93      0.93      0.93     14111\n",
      "         ADV       0.81      0.88      0.84      5617\n",
      "        CONJ       0.99      0.98      0.99      3743\n",
      "         DET       0.98      0.99      0.98     13626\n",
      "        NOUN       0.79      0.97      0.87     27030\n",
      "         NUM       0.72      0.58      0.64      1420\n",
      "        PRON       0.97      0.97      0.97      4962\n",
      "         PRT       0.78      0.86      0.82      2867\n",
      "        VERB       0.87      0.96      0.91     18117\n",
      "           X       0.06      0.04      0.05       178\n",
      "\n",
      "    accuracy                           0.96    370586\n",
      "   macro avg       0.74      0.76      0.75    370586\n",
      "weighted avg       0.95      0.96      0.96    370586\n",
      "\n"
     ]
    }
   ],
   "source": [
    "from sklearn.metrics import classification_report\n",
    "import numpy as np\n",
    "\n",
    "# Get unique labels present in the true labels, sorted\n",
    "unique_labels = np.unique(all_true_labels)\n",
    "\n",
    "print(classification_report(all_true_labels, all_predicted_labels, zero_division=0, target_names=list(tag2idx.keys()), labels=unique_labels))"
   ]
  },
  {
   "cell_type": "code",
   "execution_count": 30,
   "id": "47b089ef",
   "metadata": {
    "execution": {
     "iopub.execute_input": "2025-08-24T23:04:50.355631Z",
     "iopub.status.busy": "2025-08-24T23:04:50.355387Z",
     "iopub.status.idle": "2025-08-24T23:04:50.498268Z",
     "shell.execute_reply": "2025-08-24T23:04:50.497689Z"
    },
    "executionInfo": {
     "elapsed": 314,
     "status": "ok",
     "timestamp": 1755937598516,
     "user": {
      "displayName": "Rishikesh Kumar",
      "userId": "11543712667587350306"
     },
     "user_tz": -330
    },
    "id": "7699f06d",
    "papermill": {
     "duration": 0.15873,
     "end_time": "2025-08-24T23:04:50.499617",
     "exception": false,
     "start_time": "2025-08-24T23:04:50.340887",
     "status": "completed"
    },
    "tags": []
   },
   "outputs": [],
   "source": [
    "from sklearn.metrics import confusion_matrix\n",
    "\n",
    "cm = confusion_matrix(all_true_labels, all_predicted_labels)"
   ]
  },
  {
   "cell_type": "code",
   "execution_count": 31,
   "id": "88157e43",
   "metadata": {
    "execution": {
     "iopub.execute_input": "2025-08-24T23:04:50.529477Z",
     "iopub.status.busy": "2025-08-24T23:04:50.529232Z",
     "iopub.status.idle": "2025-08-24T23:04:53.213813Z",
     "shell.execute_reply": "2025-08-24T23:04:53.213096Z"
    },
    "executionInfo": {
     "elapsed": 524,
     "status": "ok",
     "timestamp": 1755937599052,
     "user": {
      "displayName": "Rishikesh Kumar",
      "userId": "11543712667587350306"
     },
     "user_tz": -330
    },
    "id": "d3162d9a",
    "outputId": "09e66767-471e-4e1d-8065-937ecba69b35",
    "papermill": {
     "duration": 2.700843,
     "end_time": "2025-08-24T23:04:53.215092",
     "exception": false,
     "start_time": "2025-08-24T23:04:50.514249",
     "status": "completed"
    },
    "tags": []
   },
   "outputs": [
    {
     "data": {
      "image/png": "[encoded data removed]",
      "text/plain": [
       "<Figure size 1000x800 with 2 Axes>"
      ]
     },
     "metadata": {},
     "output_type": "display_data"
    }
   ],
   "source": [
    "import seaborn as sns\n",
    "import matplotlib.pyplot as plt\n",
    "\n",
    "plt.figure(figsize=(10, 8))\n",
    "sns.heatmap(cm, annot=True, fmt='d', cmap='Blues')\n",
    "plt.xlabel('Predicted Label')\n",
    "plt.ylabel('True Label')\n",
    "plt.title('Confusion Matrix')\n",
    "plt.xticks(ticks=np.arange(len(tag2idx)) + 0.5, labels=list(tag2idx.keys()), rotation=45, ha='right')\n",
    "plt.yticks(ticks=np.arange(len(tag2idx)) + 0.5, labels=list(tag2idx.keys()))\n",
    "plt.show()"
   ]
  },
  {
   "cell_type": "code",
   "execution_count": 32,
   "id": "99ef52f3",
   "metadata": {
    "execution": {
     "iopub.execute_input": "2025-08-24T23:04:53.247495Z",
     "iopub.status.busy": "2025-08-24T23:04:53.247125Z",
     "iopub.status.idle": "2025-08-24T23:04:53.586865Z",
     "shell.execute_reply": "2025-08-24T23:04:53.586020Z"
    },
    "executionInfo": {
     "elapsed": 219,
     "status": "ok",
     "timestamp": 1755937690271,
     "user": {
      "displayName": "Rishikesh Kumar",
      "userId": "11543712667587350306"
     },
     "user_tz": -330
    },
    "id": "2291cca8",
    "outputId": "1fdd5fca-c96b-4433-80b2-b2b915424fc1",
    "papermill": {
     "duration": 0.356794,
     "end_time": "2025-08-24T23:04:53.588115",
     "exception": false,
     "start_time": "2025-08-24T23:04:53.231321",
     "status": "completed"
    },
    "tags": []
   },
   "outputs": [
    {
     "name": "stdout",
     "output_type": "stream",
     "text": [
      "Overall Metrics:\n",
      "Overall Precision: 0.95\n",
      "Overall Recall: 0.96\n",
      "Overall F1-score: 0.96\n",
      "Overall Accuracy: 0.96\n",
      "\n",
      "Class-Specific Metrics:\n",
      "              precision    recall  f1-score   support\n",
      "\n",
      "           .       1.00      1.00      1.00    270721\n",
      "         ADJ       0.00      0.00      0.00      8194\n",
      "         ADP       0.93      0.93      0.93     14111\n",
      "         ADV       0.81      0.88      0.84      5617\n",
      "        CONJ       0.99      0.98      0.99      3743\n",
      "         DET       0.98      0.99      0.98     13626\n",
      "        NOUN       0.79      0.97      0.87     27030\n",
      "         NUM       0.72      0.58      0.64      1420\n",
      "        PRON       0.97      0.97      0.97      4962\n",
      "         PRT       0.78      0.86      0.82      2867\n",
      "        VERB       0.87      0.96      0.91     18117\n",
      "           X       0.06      0.04      0.05       178\n",
      "\n",
      "    accuracy                           0.96    370586\n",
      "   macro avg       0.74      0.76      0.75    370586\n",
      "weighted avg       0.95      0.96      0.96    370586\n",
      "\n"
     ]
    }
   ],
   "source": [
    "print(\"Overall Metrics:\")\n",
    "print(f\"Overall Precision: {overall_precision:.2f}\")\n",
    "print(f\"Overall Recall: {overall_recall:.2f}\")\n",
    "print(f\"Overall F1-score: {overall_f1:.2f}\")\n",
    "print(f\"Overall Accuracy: {overall_accuracy:.2f}\")\n",
    "\n",
    "print(\"\\nClass-Specific Metrics:\")\n",
    "print(classification_report(all_true_labels, all_predicted_labels, zero_division=0, target_names=list(tag2idx.keys()), labels=np.unique(all_true_labels)))\n",
    "\n",
    "# Heatmap is already displayed by plt.show() in the previous step"
   ]
  }
 ],
 "metadata": {
  "accelerator": "GPU",
  "colab": {
   "authorship_tag": "ABX9TyMDK3PWGDnUD2UNDiVoJsOz",
   "gpuType": "T4",
   "provenance": []
  },
  "kaggle": {
   "accelerator": "gpu",
   "dataSources": [],
   "dockerImageVersionId": 31090,
   "isGpuEnabled": true,
   "isInternetEnabled": true,
   "language": "python",
   "sourceType": "notebook"
  },
  "kernelspec": {
   "display_name": "Python 3",
   "language": "python",
   "name": "python3"
  },
  "language_info": {
   "codemirror_mode": {
    "name": "ipython",
    "version": 3
   },
   "file_extension": ".py",
   "mimetype": "text/x-python",
   "name": "python",
   "nbconvert_exporter": "python",
   "pygments_lexer": "ipython3",
   "version": "3.11.13"
  },
  "papermill": {
   "default_parameters": {},
   "duration": 7052.228763,
   "end_time": "2025-08-24T23:04:55.999150",
   "environment_variables": {},
   "exception": null,
   "input_path": "__notebook__.ipynb",
   "output_path": "__notebook__.ipynb",
   "parameters": {},
   "start_time": "2025-08-24T21:07:23.770387",
   "version": "2.6.0"
  }
 },
 "nbformat": 4,
 "nbformat_minor": 5
}
