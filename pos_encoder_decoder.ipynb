{
 "cells": [
  {
   "cell_type": "markdown",
   "id": "406ee142",
   "metadata": {
    "id": "W6rJLIXgsSMY",
    "papermill": {
     "duration": 0.006757,
     "end_time": "2025-08-23T08:41:01.153030",
     "exception": false,
     "start_time": "2025-08-23T08:41:01.146273",
     "status": "completed"
    },
    "tags": []
   },
   "source": [
    "# Text Preparation"
   ]
  },
  {
   "cell_type": "code",
   "execution_count": 1,
   "id": "f7d3c3c3",
   "metadata": {
    "execution": {
     "iopub.execute_input": "2025-08-23T08:41:01.165476Z",
     "iopub.status.busy": "2025-08-23T08:41:01.165216Z",
     "iopub.status.idle": "2025-08-23T08:41:02.948347Z",
     "shell.execute_reply": "2025-08-23T08:41:02.947531Z"
    },
    "executionInfo": {
     "elapsed": 3,
     "status": "ok",
     "timestamp": 1755937470012,
     "user": {
      "displayName": "Rishikesh Kumar",
      "userId": "11543712667587350306"
     },
     "user_tz": -330
    },
    "id": "ca52WBPSsHyq",
    "papermill": {
     "duration": 1.791027,
     "end_time": "2025-08-23T08:41:02.949929",
     "exception": false,
     "start_time": "2025-08-23T08:41:01.158902",
     "status": "completed"
    },
    "tags": []
   },
   "outputs": [],
   "source": [
    "import nltk\n",
    "from nltk.corpus import brown\n",
    "from collections import Counter\n",
    "import numpy as np\n",
    "from sklearn.model_selection import train_test_split"
   ]
  },
  {
   "cell_type": "code",
   "execution_count": 2,
   "id": "de60de2c",
   "metadata": {
    "execution": {
     "iopub.execute_input": "2025-08-23T08:41:02.964111Z",
     "iopub.status.busy": "2025-08-23T08:41:02.963736Z",
     "iopub.status.idle": "2025-08-23T08:41:04.887065Z",
     "shell.execute_reply": "2025-08-23T08:41:04.886346Z"
    },
    "papermill": {
     "duration": 1.931712,
     "end_time": "2025-08-23T08:41:04.888248",
     "exception": false,
     "start_time": "2025-08-23T08:41:02.956536",
     "status": "completed"
    },
    "tags": []
   },
   "outputs": [
    {
     "data": {
      "text/plain": [
       "57340"
      ]
     },
     "execution_count": 2,
     "metadata": {},
     "output_type": "execute_result"
    }
   ],
   "source": [
    "len(brown.sents())"
   ]
  },
  {
   "cell_type": "code",
   "execution_count": 3,
   "id": "a8b8730e",
   "metadata": {
    "execution": {
     "iopub.execute_input": "2025-08-23T08:41:04.902127Z",
     "iopub.status.busy": "2025-08-23T08:41:04.901523Z",
     "iopub.status.idle": "2025-08-23T08:41:04.908233Z",
     "shell.execute_reply": "2025-08-23T08:41:04.907706Z"
    },
    "executionInfo": {
     "elapsed": 7,
     "status": "ok",
     "timestamp": 1755937470023,
     "user": {
      "displayName": "Rishikesh Kumar",
      "userId": "11543712667587350306"
     },
     "user_tz": -330
    },
    "id": "_ZdyvdbPr4AW",
    "papermill": {
     "duration": 0.014245,
     "end_time": "2025-08-23T08:41:04.909221",
     "exception": false,
     "start_time": "2025-08-23T08:41:04.894976",
     "status": "completed"
    },
    "tags": []
   },
   "outputs": [],
   "source": [
    "def prepare_brown_data(min_freq: int = 3):\n",
    "    \"\"\"\n",
    "    Returns:\n",
    "      X: List[np.ndarray] of word indices\n",
    "      Y: List[np.ndarray] of tag indices (gold, for supervised)\n",
    "      word2idx, idx2word, tag2idx, idx2tag\n",
    "    \"\"\"\n",
    "\n",
    "\n",
    "    nltk.download(\"brown\", quiet=True)\n",
    "    nltk.download(\"universal_tagset\", quiet=True)\n",
    "\n",
    "    tagged_sents = brown.tagged_sents(tagset=\"universal\")\n",
    "\n",
    "    # vocab with <UNK>\n",
    "    words = [w.lower() for sent in tagged_sents for (w, _) in sent]\n",
    "    freqs = Counter(words)\n",
    "    vocab = [\"<UNK>\", \"<PAD>\"] + [w for w, c in freqs.items() if c >= min_freq]\n",
    "    word2idx = {w: i for i, w in enumerate(vocab)}\n",
    "    idx2word = {i: w for w, i in word2idx.items()}\n",
    "\n",
    "    # tags (fixed small set)\n",
    "    tags = sorted({t for sent in tagged_sents for (_, t) in sent})\n",
    "    tag2idx = {t: i for i, t in enumerate(tags)}\n",
    "    idx2tag = {i: t for t, i in tag2idx.items()}\n",
    "\n",
    "    X, Y = [], []\n",
    "    for sent in tagged_sents:\n",
    "        ws, ts = zip(*sent)\n",
    "        x = np.array([word2idx.get(w.lower(), 0) for w in ws], dtype=np.int32)\n",
    "        y = np.array([tag2idx[t] for t in ts], dtype=np.int32)\n",
    "        X.append(x)\n",
    "        Y.append(y)\n",
    "\n",
    "    # print(f\"Vocab size: {len(vocab)}, #Tags: {len(tags)}, #Sentences: {len(X)}\")\n",
    "    return X, Y, word2idx, idx2word, tag2idx, idx2tag"
   ]
  },
  {
   "cell_type": "code",
   "execution_count": 4,
   "id": "f99e12b9",
   "metadata": {
    "execution": {
     "iopub.execute_input": "2025-08-23T08:41:04.921192Z",
     "iopub.status.busy": "2025-08-23T08:41:04.920732Z",
     "iopub.status.idle": "2025-08-23T08:41:04.924351Z",
     "shell.execute_reply": "2025-08-23T08:41:04.923859Z"
    },
    "executionInfo": {
     "elapsed": 7,
     "status": "ok",
     "timestamp": 1755937470026,
     "user": {
      "displayName": "Rishikesh Kumar",
      "userId": "11543712667587350306"
     },
     "user_tz": -330
    },
    "id": "uIPyuDZ81BGN",
    "papermill": {
     "duration": 0.010617,
     "end_time": "2025-08-23T08:41:04.925364",
     "exception": false,
     "start_time": "2025-08-23T08:41:04.914747",
     "status": "completed"
    },
    "tags": []
   },
   "outputs": [],
   "source": [
    "def get_training_data():\n",
    "    X, Y, word2idx, idx2word, tag2idx, idx2tag = prepare_brown_data(min_freq=1)\n",
    "    # Split into train/dev\n",
    "    X_train, X_dev, Y_train, Y_dev = train_test_split(\n",
    "        X, Y, test_size=0.1, random_state=42, shuffle=True\n",
    "    )\n",
    "    return X_train, Y_train, X_dev, Y_dev, word2idx, idx2word, tag2idx, idx2tag"
   ]
  },
  {
   "cell_type": "code",
   "execution_count": 5,
   "id": "3fea0e64",
   "metadata": {
    "execution": {
     "iopub.execute_input": "2025-08-23T08:41:04.937454Z",
     "iopub.status.busy": "2025-08-23T08:41:04.937065Z",
     "iopub.status.idle": "2025-08-23T08:41:12.408046Z",
     "shell.execute_reply": "2025-08-23T08:41:12.407361Z"
    },
    "executionInfo": {
     "elapsed": 7481,
     "status": "ok",
     "timestamp": 1755937477509,
     "user": {
      "displayName": "Rishikesh Kumar",
      "userId": "11543712667587350306"
     },
     "user_tz": -330
    },
    "id": "gfuDzr-_2qJh",
    "papermill": {
     "duration": 7.478522,
     "end_time": "2025-08-23T08:41:12.409455",
     "exception": false,
     "start_time": "2025-08-23T08:41:04.930933",
     "status": "completed"
    },
    "tags": []
   },
   "outputs": [],
   "source": [
    "X_train, Y_train, X_dev, Y_dev, word2idx, idx2word, tag2idx, idx2tag = get_training_data()"
   ]
  },
  {
   "cell_type": "code",
   "execution_count": 6,
   "id": "97b85981",
   "metadata": {
    "execution": {
     "iopub.execute_input": "2025-08-23T08:41:12.422264Z",
     "iopub.status.busy": "2025-08-23T08:41:12.422031Z",
     "iopub.status.idle": "2025-08-23T08:41:12.426699Z",
     "shell.execute_reply": "2025-08-23T08:41:12.426100Z"
    },
    "executionInfo": {
     "elapsed": 27,
     "status": "ok",
     "timestamp": 1755937477512,
     "user": {
      "displayName": "Rishikesh Kumar",
      "userId": "11543712667587350306"
     },
     "user_tz": -330
    },
    "id": "OLgzZUfSAL8R",
    "outputId": "f95d2cb9-09c5-4405-88e4-156aecbfc8fb",
    "papermill": {
     "duration": 0.012586,
     "end_time": "2025-08-23T08:41:12.427955",
     "exception": false,
     "start_time": "2025-08-23T08:41:12.415369",
     "status": "completed"
    },
    "tags": []
   },
   "outputs": [
    {
     "data": {
      "text/plain": [
       "(1, '<UNK>')"
      ]
     },
     "execution_count": 6,
     "metadata": {},
     "output_type": "execute_result"
    }
   ],
   "source": [
    "word2idx.get('<PAD>'), idx2word.get(0)"
   ]
  },
  {
   "cell_type": "markdown",
   "id": "b6d0601d",
   "metadata": {
    "id": "nhSnsFPgsVo4",
    "papermill": {
     "duration": 0.005385,
     "end_time": "2025-08-23T08:41:12.439139",
     "exception": false,
     "start_time": "2025-08-23T08:41:12.433754",
     "status": "completed"
    },
    "tags": []
   },
   "source": [
    "# Model"
   ]
  },
  {
   "cell_type": "code",
   "execution_count": 7,
   "id": "6979d718",
   "metadata": {
    "execution": {
     "iopub.execute_input": "2025-08-23T08:41:12.451197Z",
     "iopub.status.busy": "2025-08-23T08:41:12.450939Z",
     "iopub.status.idle": "2025-08-23T08:41:16.563267Z",
     "shell.execute_reply": "2025-08-23T08:41:16.562457Z"
    },
    "executionInfo": {
     "elapsed": 10,
     "status": "ok",
     "timestamp": 1755937477513,
     "user": {
      "displayName": "Rishikesh Kumar",
      "userId": "11543712667587350306"
     },
     "user_tz": -330
    },
    "id": "MX2ACUo7sidh",
    "papermill": {
     "duration": 4.120236,
     "end_time": "2025-08-23T08:41:16.565044",
     "exception": false,
     "start_time": "2025-08-23T08:41:12.444808",
     "status": "completed"
    },
    "tags": []
   },
   "outputs": [],
   "source": [
    "import torch\n",
    "import torch.nn as nn"
   ]
  },
  {
   "cell_type": "code",
   "execution_count": 8,
   "id": "13602d95",
   "metadata": {
    "execution": {
     "iopub.execute_input": "2025-08-23T08:41:16.577624Z",
     "iopub.status.busy": "2025-08-23T08:41:16.577312Z",
     "iopub.status.idle": "2025-08-23T08:41:16.582347Z",
     "shell.execute_reply": "2025-08-23T08:41:16.581568Z"
    },
    "executionInfo": {
     "elapsed": 8,
     "status": "ok",
     "timestamp": 1755937477516,
     "user": {
      "displayName": "Rishikesh Kumar",
      "userId": "11543712667587350306"
     },
     "user_tz": -330
    },
    "id": "gZyEJochs6-B",
    "papermill": {
     "duration": 0.01237,
     "end_time": "2025-08-23T08:41:16.583370",
     "exception": false,
     "start_time": "2025-08-23T08:41:16.571000",
     "status": "completed"
    },
    "tags": []
   },
   "outputs": [],
   "source": [
    "class Encoder(nn.Module):\n",
    "  def __init__(self, input_dim, hidden_dim):\n",
    "    super().__init__()\n",
    "\n",
    "    self.encoder = nn.LSTM(input_dim, hidden_dim, batch_first=True)\n",
    "    self.fc = nn.Linear(hidden_dim, hidden_dim)\n",
    "\n",
    "  def forward(self, x):\n",
    "    x, _ = self.encoder(x)\n",
    "    x = self.fc(x)\n",
    "\n",
    "    return x"
   ]
  },
  {
   "cell_type": "code",
   "execution_count": 9,
   "id": "6a9fd300",
   "metadata": {
    "execution": {
     "iopub.execute_input": "2025-08-23T08:41:16.595437Z",
     "iopub.status.busy": "2025-08-23T08:41:16.595241Z",
     "iopub.status.idle": "2025-08-23T08:41:16.599420Z",
     "shell.execute_reply": "2025-08-23T08:41:16.598840Z"
    },
    "executionInfo": {
     "elapsed": 2,
     "status": "ok",
     "timestamp": 1755937477520,
     "user": {
      "displayName": "Rishikesh Kumar",
      "userId": "11543712667587350306"
     },
     "user_tz": -330
    },
    "id": "JVljnMQ9tY8Q",
    "papermill": {
     "duration": 0.011434,
     "end_time": "2025-08-23T08:41:16.600512",
     "exception": false,
     "start_time": "2025-08-23T08:41:16.589078",
     "status": "completed"
    },
    "tags": []
   },
   "outputs": [],
   "source": [
    "class Decoder(nn.Module):\n",
    "  def __init__(self, hidden_dim, output_dim):\n",
    "    super().__init__()\n",
    "\n",
    "    self.decoder = nn.LSTM(hidden_dim, hidden_dim, batch_first=True)\n",
    "    self.fc = nn.Linear(hidden_dim, output_dim)\n",
    "\n",
    "  def forward(self, x):\n",
    "    x, _ = self.decoder(x)\n",
    "    x = self.fc(x)\n",
    "\n",
    "    return x"
   ]
  },
  {
   "cell_type": "code",
   "execution_count": 10,
   "id": "46b6fe05",
   "metadata": {
    "execution": {
     "iopub.execute_input": "2025-08-23T08:41:16.612712Z",
     "iopub.status.busy": "2025-08-23T08:41:16.612490Z",
     "iopub.status.idle": "2025-08-23T08:41:16.617191Z",
     "shell.execute_reply": "2025-08-23T08:41:16.616458Z"
    },
    "executionInfo": {
     "elapsed": 4,
     "status": "ok",
     "timestamp": 1755937477539,
     "user": {
      "displayName": "Rishikesh Kumar",
      "userId": "11543712667587350306"
     },
     "user_tz": -330
    },
    "id": "En79hlm5sQ7G",
    "papermill": {
     "duration": 0.012244,
     "end_time": "2025-08-23T08:41:16.618317",
     "exception": false,
     "start_time": "2025-08-23T08:41:16.606073",
     "status": "completed"
    },
    "tags": []
   },
   "outputs": [],
   "source": [
    "class POSModel(nn.Module):\n",
    "  def __init__(self, vocab_size, input_dim, hidden_dim, output_dim):\n",
    "    super().__init__()\n",
    "\n",
    "    self.embedding = nn.Embedding(vocab_size, input_dim)\n",
    "    self.encoder = Encoder(input_dim, hidden_dim)\n",
    "    self.decoder = Decoder(hidden_dim, output_dim)\n",
    "\n",
    "    self.softmax = nn.Softmax(dim=-1)\n",
    "\n",
    "  def forward(self, x):\n",
    "    x = self.embedding(x)\n",
    "    x = self.encoder(x)\n",
    "    x = self.decoder(x)\n",
    "    x = self.softmax(x)\n",
    "    return x"
   ]
  },
  {
   "cell_type": "code",
   "execution_count": 11,
   "id": "3df0a358",
   "metadata": {
    "execution": {
     "iopub.execute_input": "2025-08-23T08:41:16.630635Z",
     "iopub.status.busy": "2025-08-23T08:41:16.630412Z",
     "iopub.status.idle": "2025-08-23T08:41:16.648386Z",
     "shell.execute_reply": "2025-08-23T08:41:16.647719Z"
    },
    "executionInfo": {
     "elapsed": 8,
     "status": "ok",
     "timestamp": 1755937477549,
     "user": {
      "displayName": "Rishikesh Kumar",
      "userId": "11543712667587350306"
     },
     "user_tz": -330
    },
    "id": "9airusfCupOW",
    "outputId": "57d57f5f-e40a-4691-adcc-a0d67130d6df",
    "papermill": {
     "duration": 0.025195,
     "end_time": "2025-08-23T08:41:16.649447",
     "exception": false,
     "start_time": "2025-08-23T08:41:16.624252",
     "status": "completed"
    },
    "tags": []
   },
   "outputs": [
    {
     "data": {
      "text/plain": [
       "(49817, 12, 180, 100, 64)"
      ]
     },
     "execution_count": 11,
     "metadata": {},
     "output_type": "execute_result"
    }
   ],
   "source": [
    "vocab_size = len(word2idx)\n",
    "output_dim = len(tag2idx)\n",
    "max_len = max([len(x) for x in X_train])\n",
    "embedding_dim = 100\n",
    "hidden_dim = 64\n",
    "\n",
    "vocab_size, output_dim, max_len, embedding_dim, hidden_dim"
   ]
  },
  {
   "cell_type": "code",
   "execution_count": 12,
   "id": "6697605e",
   "metadata": {
    "execution": {
     "iopub.execute_input": "2025-08-23T08:41:16.661729Z",
     "iopub.status.busy": "2025-08-23T08:41:16.661499Z",
     "iopub.status.idle": "2025-08-23T08:41:16.737523Z",
     "shell.execute_reply": "2025-08-23T08:41:16.736887Z"
    },
    "executionInfo": {
     "elapsed": 21,
     "status": "ok",
     "timestamp": 1755937477569,
     "user": {
      "displayName": "Rishikesh Kumar",
      "userId": "11543712667587350306"
     },
     "user_tz": -330
    },
    "id": "Gp0jmkkRxBPR",
    "outputId": "2a6531c4-56a5-42af-f7f2-358cbdfc205e",
    "papermill": {
     "duration": 0.083728,
     "end_time": "2025-08-23T08:41:16.738869",
     "exception": false,
     "start_time": "2025-08-23T08:41:16.655141",
     "status": "completed"
    },
    "tags": []
   },
   "outputs": [
    {
     "data": {
      "text/plain": [
       "POSModel(\n",
       "  (embedding): Embedding(49817, 100)\n",
       "  (encoder): Encoder(\n",
       "    (encoder): LSTM(100, 64, batch_first=True)\n",
       "    (fc): Linear(in_features=64, out_features=64, bias=True)\n",
       "  )\n",
       "  (decoder): Decoder(\n",
       "    (decoder): LSTM(64, 64, batch_first=True)\n",
       "    (fc): Linear(in_features=64, out_features=12, bias=True)\n",
       "  )\n",
       "  (softmax): Softmax(dim=-1)\n",
       ")"
      ]
     },
     "execution_count": 12,
     "metadata": {},
     "output_type": "execute_result"
    }
   ],
   "source": [
    "model = POSModel(vocab_size, embedding_dim, hidden_dim, output_dim)\n",
    "model"
   ]
  },
  {
   "cell_type": "code",
   "execution_count": 13,
   "id": "d1ae7919",
   "metadata": {
    "execution": {
     "iopub.execute_input": "2025-08-23T08:41:16.752525Z",
     "iopub.status.busy": "2025-08-23T08:41:16.751979Z",
     "iopub.status.idle": "2025-08-23T08:41:16.979518Z",
     "shell.execute_reply": "2025-08-23T08:41:16.978781Z"
    },
    "executionInfo": {
     "elapsed": 10,
     "status": "ok",
     "timestamp": 1755937477583,
     "user": {
      "displayName": "Rishikesh Kumar",
      "userId": "11543712667587350306"
     },
     "user_tz": -330
    },
    "id": "Iys8kms4yAg3",
    "outputId": "7c78c865-e0d2-420c-d664-d0c80d3e8d5d",
    "papermill": {
     "duration": 0.235321,
     "end_time": "2025-08-23T08:41:16.980756",
     "exception": false,
     "start_time": "2025-08-23T08:41:16.745435",
     "status": "completed"
    },
    "tags": []
   },
   "outputs": [
    {
     "data": {
      "text/plain": [
       "(tensor([[[0.0896, 0.0800, 0.0784,  ..., 0.0858, 0.0776, 0.0950],\n",
       "          [0.0895, 0.0802, 0.0783,  ..., 0.0866, 0.0776, 0.0948],\n",
       "          [0.0896, 0.0803, 0.0780,  ..., 0.0871, 0.0775, 0.0947],\n",
       "          ...,\n",
       "          [0.0896, 0.0803, 0.0770,  ..., 0.0880, 0.0770, 0.0952],\n",
       "          [0.0896, 0.0803, 0.0770,  ..., 0.0880, 0.0770, 0.0952],\n",
       "          [0.0896, 0.0803, 0.0770,  ..., 0.0880, 0.0770, 0.0952]],\n",
       " \n",
       "         [[0.0896, 0.0800, 0.0784,  ..., 0.0858, 0.0776, 0.0950],\n",
       "          [0.0895, 0.0802, 0.0783,  ..., 0.0866, 0.0776, 0.0948],\n",
       "          [0.0896, 0.0803, 0.0780,  ..., 0.0871, 0.0775, 0.0947],\n",
       "          ...,\n",
       "          [0.0896, 0.0803, 0.0770,  ..., 0.0880, 0.0770, 0.0952],\n",
       "          [0.0896, 0.0803, 0.0770,  ..., 0.0880, 0.0770, 0.0952],\n",
       "          [0.0896, 0.0803, 0.0770,  ..., 0.0880, 0.0770, 0.0952]]],\n",
       "        grad_fn=<SoftmaxBackward0>),\n",
       " torch.Size([2, 180, 12]))"
      ]
     },
     "execution_count": 13,
     "metadata": {},
     "output_type": "execute_result"
    }
   ],
   "source": [
    "output = model(torch.zeros(2, max_len, dtype=torch.long))\n",
    "output, output.shape"
   ]
  },
  {
   "cell_type": "code",
   "execution_count": 14,
   "id": "3840ce97",
   "metadata": {
    "execution": {
     "iopub.execute_input": "2025-08-23T08:41:16.993294Z",
     "iopub.status.busy": "2025-08-23T08:41:16.993080Z",
     "iopub.status.idle": "2025-08-23T08:41:17.004611Z",
     "shell.execute_reply": "2025-08-23T08:41:17.003928Z"
    },
    "executionInfo": {
     "elapsed": 10,
     "status": "ok",
     "timestamp": 1755937477590,
     "user": {
      "displayName": "Rishikesh Kumar",
      "userId": "11543712667587350306"
     },
     "user_tz": -330
    },
    "id": "Q7xXDdTY5Ep-",
    "outputId": "abcc3254-e7c2-4951-fdc1-46d993286cfb",
    "papermill": {
     "duration": 0.01905,
     "end_time": "2025-08-23T08:41:17.005799",
     "exception": false,
     "start_time": "2025-08-23T08:41:16.986749",
     "status": "completed"
    },
    "tags": []
   },
   "outputs": [
    {
     "data": {
      "text/plain": [
       "(tensor([[[0.0896, 0.0800, 0.0784,  ..., 0.0858, 0.0776, 0.0950],\n",
       "          [0.0895, 0.0802, 0.0783,  ..., 0.0866, 0.0776, 0.0948],\n",
       "          [0.0896, 0.0803, 0.0780,  ..., 0.0871, 0.0775, 0.0947],\n",
       "          ...,\n",
       "          [0.0896, 0.0803, 0.0770,  ..., 0.0880, 0.0770, 0.0952],\n",
       "          [0.0896, 0.0803, 0.0770,  ..., 0.0880, 0.0770, 0.0952],\n",
       "          [0.0896, 0.0803, 0.0770,  ..., 0.0880, 0.0770, 0.0952]],\n",
       " \n",
       "         [[0.0896, 0.0800, 0.0784,  ..., 0.0858, 0.0776, 0.0950],\n",
       "          [0.0895, 0.0802, 0.0783,  ..., 0.0866, 0.0776, 0.0948],\n",
       "          [0.0896, 0.0803, 0.0780,  ..., 0.0871, 0.0775, 0.0947],\n",
       "          ...,\n",
       "          [0.0896, 0.0803, 0.0770,  ..., 0.0880, 0.0770, 0.0952],\n",
       "          [0.0896, 0.0803, 0.0770,  ..., 0.0880, 0.0770, 0.0952],\n",
       "          [0.0896, 0.0803, 0.0770,  ..., 0.0880, 0.0770, 0.0952]],\n",
       " \n",
       "         [[0.0896, 0.0800, 0.0784,  ..., 0.0858, 0.0776, 0.0950],\n",
       "          [0.0895, 0.0802, 0.0783,  ..., 0.0866, 0.0776, 0.0948],\n",
       "          [0.0896, 0.0803, 0.0780,  ..., 0.0871, 0.0775, 0.0947],\n",
       "          ...,\n",
       "          [0.0896, 0.0803, 0.0770,  ..., 0.0880, 0.0770, 0.0952],\n",
       "          [0.0896, 0.0803, 0.0770,  ..., 0.0880, 0.0770, 0.0952],\n",
       "          [0.0896, 0.0803, 0.0770,  ..., 0.0880, 0.0770, 0.0952]]],\n",
       "        grad_fn=<SoftmaxBackward0>),\n",
       " torch.Size([3, 100, 12]))"
      ]
     },
     "execution_count": 14,
     "metadata": {},
     "output_type": "execute_result"
    }
   ],
   "source": [
    "output = model(torch.zeros(3, 100, dtype=torch.long))\n",
    "output, output.shape"
   ]
  },
  {
   "cell_type": "markdown",
   "id": "84b77ae6",
   "metadata": {
    "id": "7AcHJ4bb2Ewd",
    "papermill": {
     "duration": 0.055245,
     "end_time": "2025-08-23T08:41:17.067046",
     "exception": false,
     "start_time": "2025-08-23T08:41:17.011801",
     "status": "completed"
    },
    "tags": []
   },
   "source": [
    "# Dataset and Dataloader"
   ]
  },
  {
   "cell_type": "code",
   "execution_count": 15,
   "id": "e0105e36",
   "metadata": {
    "execution": {
     "iopub.execute_input": "2025-08-23T08:41:17.080461Z",
     "iopub.status.busy": "2025-08-23T08:41:17.079932Z",
     "iopub.status.idle": "2025-08-23T08:41:17.083553Z",
     "shell.execute_reply": "2025-08-23T08:41:17.082963Z"
    },
    "executionInfo": {
     "elapsed": 2,
     "status": "ok",
     "timestamp": 1755937477593,
     "user": {
      "displayName": "Rishikesh Kumar",
      "userId": "11543712667587350306"
     },
     "user_tz": -330
    },
    "id": "fr38R-qM2MRi",
    "papermill": {
     "duration": 0.011484,
     "end_time": "2025-08-23T08:41:17.084598",
     "exception": false,
     "start_time": "2025-08-23T08:41:17.073114",
     "status": "completed"
    },
    "tags": []
   },
   "outputs": [],
   "source": [
    "from torch.utils.data import Dataset, DataLoader"
   ]
  },
  {
   "cell_type": "code",
   "execution_count": 16,
   "id": "2f98ae8a",
   "metadata": {
    "execution": {
     "iopub.execute_input": "2025-08-23T08:41:17.097276Z",
     "iopub.status.busy": "2025-08-23T08:41:17.097064Z",
     "iopub.status.idle": "2025-08-23T08:41:17.101368Z",
     "shell.execute_reply": "2025-08-23T08:41:17.100724Z"
    },
    "executionInfo": {
     "elapsed": 1,
     "status": "ok",
     "timestamp": 1755937477597,
     "user": {
      "displayName": "Rishikesh Kumar",
      "userId": "11543712667587350306"
     },
     "user_tz": -330
    },
    "id": "hUUZkoUi2GgE",
    "papermill": {
     "duration": 0.012002,
     "end_time": "2025-08-23T08:41:17.102556",
     "exception": false,
     "start_time": "2025-08-23T08:41:17.090554",
     "status": "completed"
    },
    "tags": []
   },
   "outputs": [],
   "source": [
    "class POSDataset(Dataset):\n",
    "  def __init__(self, X, Y):\n",
    "    self.X = X\n",
    "    self.Y = Y\n",
    "\n",
    "  def __len__(self):\n",
    "    return len(self.X)\n",
    "\n",
    "  def __getitem__(self, idx):\n",
    "    return torch.tensor(self.X[idx], dtype=torch.long), torch.tensor(self.Y[idx], dtype=torch.long)"
   ]
  },
  {
   "cell_type": "code",
   "execution_count": 17,
   "id": "7724ba0e",
   "metadata": {
    "execution": {
     "iopub.execute_input": "2025-08-23T08:41:17.115278Z",
     "iopub.status.busy": "2025-08-23T08:41:17.115063Z",
     "iopub.status.idle": "2025-08-23T08:41:17.118517Z",
     "shell.execute_reply": "2025-08-23T08:41:17.118018Z"
    },
    "executionInfo": {
     "elapsed": 2,
     "status": "ok",
     "timestamp": 1755937477602,
     "user": {
      "displayName": "Rishikesh Kumar",
      "userId": "11543712667587350306"
     },
     "user_tz": -330
    },
    "id": "v1vcMDlR33dy",
    "papermill": {
     "duration": 0.01122,
     "end_time": "2025-08-23T08:41:17.119773",
     "exception": false,
     "start_time": "2025-08-23T08:41:17.108553",
     "status": "completed"
    },
    "tags": []
   },
   "outputs": [],
   "source": [
    "def collate_fn(batch):\n",
    "  X, Y = zip(*batch)\n",
    "\n",
    "  X = torch.nn.utils.rnn.pad_sequence(X, batch_first=True)\n",
    "  Y = torch.nn.utils.rnn.pad_sequence(Y, batch_first=True)\n",
    "\n",
    "  return X, Y"
   ]
  },
  {
   "cell_type": "code",
   "execution_count": 18,
   "id": "e3a1b87d",
   "metadata": {
    "execution": {
     "iopub.execute_input": "2025-08-23T08:41:17.132299Z",
     "iopub.status.busy": "2025-08-23T08:41:17.132082Z",
     "iopub.status.idle": "2025-08-23T08:41:17.135966Z",
     "shell.execute_reply": "2025-08-23T08:41:17.135389Z"
    },
    "executionInfo": {
     "elapsed": 16,
     "status": "ok",
     "timestamp": 1755937477620,
     "user": {
      "displayName": "Rishikesh Kumar",
      "userId": "11543712667587350306"
     },
     "user_tz": -330
    },
    "id": "aTPIwdNg2iRQ",
    "papermill": {
     "duration": 0.011414,
     "end_time": "2025-08-23T08:41:17.137015",
     "exception": false,
     "start_time": "2025-08-23T08:41:17.125601",
     "status": "completed"
    },
    "tags": []
   },
   "outputs": [],
   "source": [
    "train_data = POSDataset(X_train, Y_train)\n",
    "dev_data = POSDataset(X_dev, Y_dev)\n",
    "\n",
    "train_loader = DataLoader(train_data, batch_size=64, collate_fn=collate_fn, shuffle=True)\n",
    "dev_loader = DataLoader(dev_data, batch_size=64, collate_fn=collate_fn, shuffle=False)"
   ]
  },
  {
   "cell_type": "code",
   "execution_count": 19,
   "id": "5be7e64e",
   "metadata": {
    "execution": {
     "iopub.execute_input": "2025-08-23T08:41:17.149623Z",
     "iopub.status.busy": "2025-08-23T08:41:17.149400Z",
     "iopub.status.idle": "2025-08-23T08:41:17.153613Z",
     "shell.execute_reply": "2025-08-23T08:41:17.153078Z"
    },
    "executionInfo": {
     "elapsed": 12,
     "status": "ok",
     "timestamp": 1755937477631,
     "user": {
      "displayName": "Rishikesh Kumar",
      "userId": "11543712667587350306"
     },
     "user_tz": -330
    },
    "id": "oduHsh3w3C9V",
    "outputId": "d12e79f6-a88f-47d0-8699-af1c4ea71833",
    "papermill": {
     "duration": 0.01177,
     "end_time": "2025-08-23T08:41:17.154811",
     "exception": false,
     "start_time": "2025-08-23T08:41:17.143041",
     "status": "completed"
    },
    "tags": []
   },
   "outputs": [
    {
     "data": {
      "text/plain": [
       "(<torch.utils.data.dataloader.DataLoader at 0x7873fa5ade10>,\n",
       " <torch.utils.data.dataloader.DataLoader at 0x7873fa98f0d0>)"
      ]
     },
     "execution_count": 19,
     "metadata": {},
     "output_type": "execute_result"
    }
   ],
   "source": [
    "train_loader, dev_loader"
   ]
  },
  {
   "cell_type": "code",
   "execution_count": 20,
   "id": "6d0456f8",
   "metadata": {
    "execution": {
     "iopub.execute_input": "2025-08-23T08:41:17.167519Z",
     "iopub.status.busy": "2025-08-23T08:41:17.167320Z",
     "iopub.status.idle": "2025-08-23T08:41:17.184021Z",
     "shell.execute_reply": "2025-08-23T08:41:17.183174Z"
    },
    "executionInfo": {
     "elapsed": 11,
     "status": "ok",
     "timestamp": 1755937477644,
     "user": {
      "displayName": "Rishikesh Kumar",
      "userId": "11543712667587350306"
     },
     "user_tz": -330
    },
    "id": "W-6IRm7fADn3",
    "outputId": "e3e1013d-dacb-4aad-f0ad-40379f6767e2",
    "papermill": {
     "duration": 0.024135,
     "end_time": "2025-08-23T08:41:17.185105",
     "exception": false,
     "start_time": "2025-08-23T08:41:17.160970",
     "status": "completed"
    },
    "tags": []
   },
   "outputs": [
    {
     "name": "stdout",
     "output_type": "stream",
     "text": [
      "(tensor([[    2,  2606,   960,  ...,     0,     0,     0],\n",
      "        [ 1688,    11, 22824,  ...,     0,     0,     0],\n",
      "        [   44,     2,  8264,  ...,     0,     0,     0],\n",
      "        ...,\n",
      "        [   58,   590,    11,  ...,     0,     0,     0],\n",
      "        [39920, 12930,  1237,  ...,     0,     0,     0],\n",
      "        [  904, 19107,   739,  ...,     0,     0,     0]]), tensor([[ 5,  6,  2,  ...,  0,  0,  0],\n",
      "        [ 6,  2,  6,  ...,  0,  0,  0],\n",
      "        [ 2,  5,  6,  ...,  0,  0,  0],\n",
      "        ...,\n",
      "        [ 2,  1,  2,  ...,  0,  0,  0],\n",
      "        [11, 11, 11,  ...,  0,  0,  0],\n",
      "        [ 8, 10, 10,  ...,  0,  0,  0]]))\n"
     ]
    }
   ],
   "source": [
    "print(next(iter(train_loader)))"
   ]
  },
  {
   "cell_type": "markdown",
   "id": "f5e3b81f",
   "metadata": {
    "id": "-v_1CwFD1qfI",
    "papermill": {
     "duration": 0.005776,
     "end_time": "2025-08-23T08:41:17.196976",
     "exception": false,
     "start_time": "2025-08-23T08:41:17.191200",
     "status": "completed"
    },
    "tags": []
   },
   "source": [
    "# Training"
   ]
  },
  {
   "cell_type": "code",
   "execution_count": 21,
   "id": "e76c0d00",
   "metadata": {
    "execution": {
     "iopub.execute_input": "2025-08-23T08:41:17.210183Z",
     "iopub.status.busy": "2025-08-23T08:41:17.209597Z",
     "iopub.status.idle": "2025-08-23T08:41:17.212967Z",
     "shell.execute_reply": "2025-08-23T08:41:17.212398Z"
    },
    "executionInfo": {
     "elapsed": 2,
     "status": "ok",
     "timestamp": 1755937477648,
     "user": {
      "displayName": "Rishikesh Kumar",
      "userId": "11543712667587350306"
     },
     "user_tz": -330
    },
    "id": "FQKWmDRT12oP",
    "papermill": {
     "duration": 0.010934,
     "end_time": "2025-08-23T08:41:17.214088",
     "exception": false,
     "start_time": "2025-08-23T08:41:17.203154",
     "status": "completed"
    },
    "tags": []
   },
   "outputs": [],
   "source": [
    "from tqdm import tqdm"
   ]
  },
  {
   "cell_type": "code",
   "execution_count": 22,
   "id": "a6a475aa",
   "metadata": {
    "execution": {
     "iopub.execute_input": "2025-08-23T08:41:17.227374Z",
     "iopub.status.busy": "2025-08-23T08:41:17.227193Z",
     "iopub.status.idle": "2025-08-23T08:41:21.815125Z",
     "shell.execute_reply": "2025-08-23T08:41:21.814433Z"
    },
    "executionInfo": {
     "elapsed": 25,
     "status": "ok",
     "timestamp": 1755937477675,
     "user": {
      "displayName": "Rishikesh Kumar",
      "userId": "11543712667587350306"
     },
     "user_tz": -330
    },
    "id": "Pt7b1chC1XKp",
    "papermill": {
     "duration": 4.596051,
     "end_time": "2025-08-23T08:41:21.816577",
     "exception": false,
     "start_time": "2025-08-23T08:41:17.220526",
     "status": "completed"
    },
    "tags": []
   },
   "outputs": [],
   "source": [
    "loss_fn = nn.CrossEntropyLoss()\n",
    "optimizer = torch.optim.Adam(model.parameters(), lr=0.001)"
   ]
  },
  {
   "cell_type": "code",
   "execution_count": 23,
   "id": "06d962cd",
   "metadata": {
    "execution": {
     "iopub.execute_input": "2025-08-23T08:41:21.832506Z",
     "iopub.status.busy": "2025-08-23T08:41:21.832160Z",
     "iopub.status.idle": "2025-08-23T08:41:21.899066Z",
     "shell.execute_reply": "2025-08-23T08:41:21.898416Z"
    },
    "executionInfo": {
     "elapsed": 12,
     "status": "ok",
     "timestamp": 1755937477678,
     "user": {
      "displayName": "Rishikesh Kumar",
      "userId": "11543712667587350306"
     },
     "user_tz": -330
    },
    "id": "kPVGxSgj1lul",
    "outputId": "cfd0066a-2f10-4918-f611-1c53ae0605d3",
    "papermill": {
     "duration": 0.075919,
     "end_time": "2025-08-23T08:41:21.900222",
     "exception": false,
     "start_time": "2025-08-23T08:41:21.824303",
     "status": "completed"
    },
    "tags": []
   },
   "outputs": [
    {
     "data": {
      "text/plain": [
       "device(type='cuda')"
      ]
     },
     "execution_count": 23,
     "metadata": {},
     "output_type": "execute_result"
    }
   ],
   "source": [
    "device = torch.device(\"cuda\" if torch.cuda.is_available() else \"cpu\")\n",
    "device"
   ]
  },
  {
   "cell_type": "code",
   "execution_count": 24,
   "id": "905cbfbb",
   "metadata": {
    "execution": {
     "iopub.execute_input": "2025-08-23T08:41:21.915164Z",
     "iopub.status.busy": "2025-08-23T08:41:21.914463Z",
     "iopub.status.idle": "2025-08-23T08:49:28.678155Z",
     "shell.execute_reply": "2025-08-23T08:49:28.677177Z"
    },
    "executionInfo": {
     "elapsed": 118926,
     "status": "ok",
     "timestamp": 1755937596600,
     "user": {
      "displayName": "Rishikesh Kumar",
      "userId": "11543712667587350306"
     },
     "user_tz": -330
    },
    "id": "HU6TBxNw1pSa",
    "outputId": "3a6e5522-6663-4e14-abd5-22c391102f3d",
    "papermill": {
     "duration": 486.772094,
     "end_time": "2025-08-23T08:49:28.679462",
     "exception": false,
     "start_time": "2025-08-23T08:41:21.907368",
     "status": "completed"
    },
    "tags": []
   },
   "outputs": [
    {
     "name": "stderr",
     "output_type": "stream",
     "text": [
      "Epoch 100/100, Train Loss: 1.6251, Dev Loss: 1.6309, Dev Accuracy: 0.9884: 100%|██████████| 100/100 [08:06<00:00,  4.87s/it]"
     ]
    },
    {
     "name": "stdout",
     "output_type": "stream",
     "text": [
      "\n",
      "Training complete!\n"
     ]
    },
    {
     "name": "stderr",
     "output_type": "stream",
     "text": [
      "\n"
     ]
    }
   ],
   "source": [
    "epochs = 100\n",
    "model = model.to(device)\n",
    "\n",
    "pbar = tqdm(range(epochs))\n",
    "for epoch in pbar:\n",
    "    model.train()\n",
    "    total_loss = 0\n",
    "    for X, Y in train_loader:\n",
    "        X = X.to(device)\n",
    "        Y = Y.to(device)\n",
    "\n",
    "        optimizer.zero_grad()\n",
    "        y_pred = model(X)\n",
    "\n",
    "        # Create a mask to ignore padding tokens\n",
    "        mask = (Y != 1) # Assuming 1 is the index for <PAD> tag\n",
    "\n",
    "        # Apply mask to loss calculation\n",
    "        loss = loss_fn(y_pred.view(-1, output_dim)[mask.view(-1)], Y.view(-1)[mask.view(-1)])\n",
    "        loss.backward()\n",
    "        optimizer.step()\n",
    "        total_loss += loss.item()\n",
    "\n",
    "    average_train_loss = total_loss / len(train_loader)\n",
    "\n",
    "    model.eval()\n",
    "    total_eval_loss = 0\n",
    "    correct_predictions = 0\n",
    "    total_tokens = 0\n",
    "    with torch.no_grad():\n",
    "        for X_dev, Y_dev in dev_loader:\n",
    "            X_dev = X_dev.to(device)\n",
    "            Y_dev = Y_dev.to(device)\n",
    "\n",
    "            y_pred_dev = model(X_dev)\n",
    "            # Create a mask to ignore padding tokens\n",
    "            mask = (Y_dev != 1) # Assuming 1 is the index for <PAD> tag\n",
    "\n",
    "            # Apply mask to evaluation loss calculation\n",
    "            eval_loss = loss_fn(y_pred_dev.view(-1, output_dim)[mask.view(-1)], Y_dev.view(-1)[mask.view(-1)])\n",
    "            total_eval_loss += eval_loss.item()\n",
    "\n",
    "            # Calculate accuracy, only considering non-padding tokens\n",
    "            predicted_tags = torch.argmax(y_pred_dev, dim=-1)\n",
    "            correct_predictions += ((predicted_tags == Y_dev) * mask).sum().item()\n",
    "            total_tokens += mask.sum().item()\n",
    "\n",
    "\n",
    "    average_eval_loss = total_eval_loss / len(dev_loader)\n",
    "    accuracy = correct_predictions / total_tokens if total_tokens > 0 else 0\n",
    "\n",
    "    pbar.set_description(f\"Epoch {epoch+1}/{epochs}, Train Loss: {average_train_loss:.4f}, Dev Loss: {average_eval_loss:.4f}, Dev Accuracy: {accuracy:.4f}\")\n",
    "\n",
    "print(\"\\nTraining complete!\")"
   ]
  },
  {
   "cell_type": "code",
   "execution_count": 25,
   "id": "e2cd1caf",
   "metadata": {
    "execution": {
     "iopub.execute_input": "2025-08-23T08:49:28.708288Z",
     "iopub.status.busy": "2025-08-23T08:49:28.708090Z",
     "iopub.status.idle": "2025-08-23T08:49:28.754236Z",
     "shell.execute_reply": "2025-08-23T08:49:28.753503Z"
    },
    "papermill": {
     "duration": 0.061638,
     "end_time": "2025-08-23T08:49:28.755438",
     "exception": false,
     "start_time": "2025-08-23T08:49:28.693800",
     "status": "completed"
    },
    "tags": []
   },
   "outputs": [],
   "source": [
    "# save the model\n",
    "PATH = \"model_weights.pth\"\n",
    "\n",
    "# Save only the model's learned parameters (state_dict)\n",
    "torch.save(model.state_dict(), PATH)\n",
    "# model = MyModel()\n",
    "# PATH = \"model_parameters.pth\"\n",
    "# model.load_state_dict(torch.load(PATH))\n",
    "# model.eval() # Set model to evaluation mode for inference"
   ]
  },
  {
   "cell_type": "code",
   "execution_count": 26,
   "id": "b3c98242",
   "metadata": {
    "execution": {
     "iopub.execute_input": "2025-08-23T08:49:28.785167Z",
     "iopub.status.busy": "2025-08-23T08:49:28.784575Z",
     "iopub.status.idle": "2025-08-23T08:49:29.056554Z",
     "shell.execute_reply": "2025-08-23T08:49:29.055794Z"
    },
    "executionInfo": {
     "elapsed": 358,
     "status": "ok",
     "timestamp": 1755937687502,
     "user": {
      "displayName": "Rishikesh Kumar",
      "userId": "11543712667587350306"
     },
     "user_tz": -330
    },
    "id": "2a02c784",
    "papermill": {
     "duration": 0.287981,
     "end_time": "2025-08-23T08:49:29.058022",
     "exception": false,
     "start_time": "2025-08-23T08:49:28.770041",
     "status": "completed"
    },
    "tags": []
   },
   "outputs": [],
   "source": [
    "all_true_labels = []\n",
    "all_predicted_labels = []\n",
    "\n",
    "model.eval()\n",
    "with torch.no_grad():\n",
    "    for X_dev, Y_dev in dev_loader:\n",
    "        X_dev = X_dev.to(device)\n",
    "        Y_dev = Y_dev.to(device)\n",
    "\n",
    "        y_pred_dev = model(X_dev)\n",
    "        predicted_tags = torch.argmax(y_pred_dev, dim=-1)\n",
    "\n",
    "        all_true_labels.extend(Y_dev.view(-1).cpu().numpy())\n",
    "        all_predicted_labels.extend(predicted_tags.view(-1).cpu().numpy())"
   ]
  },
  {
   "cell_type": "code",
   "execution_count": 27,
   "id": "04b55723",
   "metadata": {
    "execution": {
     "iopub.execute_input": "2025-08-23T08:49:29.089257Z",
     "iopub.status.busy": "2025-08-23T08:49:29.088784Z",
     "iopub.status.idle": "2025-08-23T08:49:30.090591Z",
     "shell.execute_reply": "2025-08-23T08:49:30.089718Z"
    },
    "executionInfo": {
     "elapsed": 1135,
     "status": "ok",
     "timestamp": 1755937689052,
     "user": {
      "displayName": "Rishikesh Kumar",
      "userId": "11543712667587350306"
     },
     "user_tz": -330
    },
    "id": "3a53a154",
    "outputId": "cd1fcdcd-b72f-4d93-cc36-18b8e271ec6b",
    "papermill": {
     "duration": 1.018242,
     "end_time": "2025-08-23T08:49:30.091979",
     "exception": false,
     "start_time": "2025-08-23T08:49:29.073737",
     "status": "completed"
    },
    "tags": []
   },
   "outputs": [
    {
     "name": "stdout",
     "output_type": "stream",
     "text": [
      "Overall Precision: 0.9483\n",
      "Overall Recall: 0.9665\n",
      "Overall F1-score: 0.9566\n",
      "Overall Accuracy: 0.9665\n"
     ]
    }
   ],
   "source": [
    "from sklearn.metrics import precision_score, recall_score, f1_score, accuracy_score\n",
    "\n",
    "overall_precision = precision_score(all_true_labels, all_predicted_labels, average='weighted', zero_division=0)\n",
    "overall_recall = recall_score(all_true_labels, all_predicted_labels, average='weighted', zero_division=0)\n",
    "overall_f1 = f1_score(all_true_labels, all_predicted_labels, average='weighted', zero_division=0)\n",
    "overall_accuracy = accuracy_score(all_true_labels, all_predicted_labels)\n",
    "\n",
    "print(f\"Overall Precision: {overall_precision:.4f}\")\n",
    "print(f\"Overall Recall: {overall_recall:.4f}\")\n",
    "print(f\"Overall F1-score: {overall_f1:.4f}\")\n",
    "print(f\"Overall Accuracy: {overall_accuracy:.4f}\")"
   ]
  },
  {
   "cell_type": "code",
   "execution_count": 28,
   "id": "98ebe063",
   "metadata": {
    "execution": {
     "iopub.execute_input": "2025-08-23T08:49:30.122379Z",
     "iopub.status.busy": "2025-08-23T08:49:30.122170Z",
     "iopub.status.idle": "2025-08-23T08:49:30.469109Z",
     "shell.execute_reply": "2025-08-23T08:49:30.468193Z"
    },
    "executionInfo": {
     "elapsed": 249,
     "status": "ok",
     "timestamp": 1755937689679,
     "user": {
      "displayName": "Rishikesh Kumar",
      "userId": "11543712667587350306"
     },
     "user_tz": -330
    },
    "id": "6ce8dcae",
    "outputId": "82ccbf07-960d-4188-801e-fb0d808dd7ae",
    "papermill": {
     "duration": 0.362897,
     "end_time": "2025-08-23T08:49:30.470307",
     "exception": false,
     "start_time": "2025-08-23T08:49:30.107410",
     "status": "completed"
    },
    "tags": []
   },
   "outputs": [
    {
     "name": "stdout",
     "output_type": "stream",
     "text": [
      "              precision    recall  f1-score   support\n",
      "\n",
      "           .       1.00      1.00      1.00    270721\n",
      "         ADJ       0.00      0.00      0.00      8194\n",
      "         ADP       0.95      0.95      0.95     14111\n",
      "         ADV       0.79      0.88      0.84      5617\n",
      "        CONJ       0.99      0.98      0.99      3743\n",
      "         DET       0.98      0.99      0.99     13626\n",
      "        NOUN       0.80      0.97      0.87     27030\n",
      "         NUM       0.80      0.88      0.83      1420\n",
      "        PRON       0.99      0.94      0.96      4962\n",
      "         PRT       0.76      0.87      0.82      2867\n",
      "        VERB       0.88      0.96      0.92     18117\n",
      "           X       0.00      0.00      0.00       178\n",
      "\n",
      "    accuracy                           0.97    370586\n",
      "   macro avg       0.75      0.79      0.76    370586\n",
      "weighted avg       0.95      0.97      0.96    370586\n",
      "\n"
     ]
    }
   ],
   "source": [
    "from sklearn.metrics import classification_report\n",
    "import numpy as np\n",
    "\n",
    "# Get unique labels present in the true labels, sorted\n",
    "unique_labels = np.unique(all_true_labels)\n",
    "\n",
    "print(classification_report(all_true_labels, all_predicted_labels, zero_division=0, target_names=list(tag2idx.keys()), labels=unique_labels))"
   ]
  },
  {
   "cell_type": "code",
   "execution_count": 29,
   "id": "4eb3b28e",
   "metadata": {
    "execution": {
     "iopub.execute_input": "2025-08-23T08:49:30.499391Z",
     "iopub.status.busy": "2025-08-23T08:49:30.499163Z",
     "iopub.status.idle": "2025-08-23T08:49:30.641857Z",
     "shell.execute_reply": "2025-08-23T08:49:30.641252Z"
    },
    "executionInfo": {
     "elapsed": 314,
     "status": "ok",
     "timestamp": 1755937598516,
     "user": {
      "displayName": "Rishikesh Kumar",
      "userId": "11543712667587350306"
     },
     "user_tz": -330
    },
    "id": "7699f06d",
    "papermill": {
     "duration": 0.158358,
     "end_time": "2025-08-23T08:49:30.643266",
     "exception": false,
     "start_time": "2025-08-23T08:49:30.484908",
     "status": "completed"
    },
    "tags": []
   },
   "outputs": [],
   "source": [
    "from sklearn.metrics import confusion_matrix\n",
    "\n",
    "cm = confusion_matrix(all_true_labels, all_predicted_labels)"
   ]
  },
  {
   "cell_type": "code",
   "execution_count": 30,
   "id": "d197ef69",
   "metadata": {
    "execution": {
     "iopub.execute_input": "2025-08-23T08:49:30.672593Z",
     "iopub.status.busy": "2025-08-23T08:49:30.672356Z",
     "iopub.status.idle": "2025-08-23T08:49:32.985663Z",
     "shell.execute_reply": "2025-08-23T08:49:32.984768Z"
    },
    "executionInfo": {
     "elapsed": 524,
     "status": "ok",
     "timestamp": 1755937599052,
     "user": {
      "displayName": "Rishikesh Kumar",
      "userId": "11543712667587350306"
     },
     "user_tz": -330
    },
    "id": "d3162d9a",
    "outputId": "09e66767-471e-4e1d-8065-937ecba69b35",
    "papermill": {
     "duration": 2.329687,
     "end_time": "2025-08-23T08:49:32.987495",
     "exception": false,
     "start_time": "2025-08-23T08:49:30.657808",
     "status": "completed"
    },
    "tags": []
   },
   "outputs": [
    {
     "data": {
      "image/png": "[encoded data removed]",
      "text/plain": [
       "<Figure size 1000x800 with 2 Axes>"
      ]
     },
     "metadata": {},
     "output_type": "display_data"
    }
   ],
   "source": [
    "import seaborn as sns\n",
    "import matplotlib.pyplot as plt\n",
    "\n",
    "plt.figure(figsize=(10, 8))\n",
    "sns.heatmap(cm, annot=True, fmt='d', cmap='Blues')\n",
    "plt.xlabel('Predicted Label')\n",
    "plt.ylabel('True Label')\n",
    "plt.title('Confusion Matrix')\n",
    "plt.xticks(ticks=np.arange(len(tag2idx)) + 0.5, labels=list(tag2idx.keys()), rotation=45, ha='right')\n",
    "plt.yticks(ticks=np.arange(len(tag2idx)) + 0.5, labels=list(tag2idx.keys()))\n",
    "plt.show()"
   ]
  },
  {
   "cell_type": "code",
   "execution_count": 31,
   "id": "2d34d19a",
   "metadata": {
    "execution": {
     "iopub.execute_input": "2025-08-23T08:49:33.029474Z",
     "iopub.status.busy": "2025-08-23T08:49:33.028552Z",
     "iopub.status.idle": "2025-08-23T08:49:33.403503Z",
     "shell.execute_reply": "2025-08-23T08:49:33.402496Z"
    },
    "executionInfo": {
     "elapsed": 219,
     "status": "ok",
     "timestamp": 1755937690271,
     "user": {
      "displayName": "Rishikesh Kumar",
      "userId": "11543712667587350306"
     },
     "user_tz": -330
    },
    "id": "2291cca8",
    "outputId": "1fdd5fca-c96b-4433-80b2-b2b915424fc1",
    "papermill": {
     "duration": 0.396378,
     "end_time": "2025-08-23T08:49:33.404876",
     "exception": false,
     "start_time": "2025-08-23T08:49:33.008498",
     "status": "completed"
    },
    "tags": []
   },
   "outputs": [
    {
     "name": "stdout",
     "output_type": "stream",
     "text": [
      "Overall Metrics:\n",
      "Overall Precision: 0.95\n",
      "Overall Recall: 0.97\n",
      "Overall F1-score: 0.96\n",
      "Overall Accuracy: 0.97\n",
      "\n",
      "Class-Specific Metrics:\n",
      "              precision    recall  f1-score   support\n",
      "\n",
      "           .       1.00      1.00      1.00    270721\n",
      "         ADJ       0.00      0.00      0.00      8194\n",
      "         ADP       0.95      0.95      0.95     14111\n",
      "         ADV       0.79      0.88      0.84      5617\n",
      "        CONJ       0.99      0.98      0.99      3743\n",
      "         DET       0.98      0.99      0.99     13626\n",
      "        NOUN       0.80      0.97      0.87     27030\n",
      "         NUM       0.80      0.88      0.83      1420\n",
      "        PRON       0.99      0.94      0.96      4962\n",
      "         PRT       0.76      0.87      0.82      2867\n",
      "        VERB       0.88      0.96      0.92     18117\n",
      "           X       0.00      0.00      0.00       178\n",
      "\n",
      "    accuracy                           0.97    370586\n",
      "   macro avg       0.75      0.79      0.76    370586\n",
      "weighted avg       0.95      0.97      0.96    370586\n",
      "\n"
     ]
    }
   ],
   "source": [
    "print(\"Overall Metrics:\")\n",
    "print(f\"Overall Precision: {overall_precision:.2f}\")\n",
    "print(f\"Overall Recall: {overall_recall:.2f}\")\n",
    "print(f\"Overall F1-score: {overall_f1:.2f}\")\n",
    "print(f\"Overall Accuracy: {overall_accuracy:.2f}\")\n",
    "\n",
    "print(\"\\nClass-Specific Metrics:\")\n",
    "print(classification_report(all_true_labels, all_predicted_labels, zero_division=0, target_names=list(tag2idx.keys()), labels=np.unique(all_true_labels)))\n",
    "\n",
    "# Heatmap is already displayed by plt.show() in the previous step"
   ]
  }
 ],
 "metadata": {
  "accelerator": "GPU",
  "colab": {
   "authorship_tag": "ABX9TyMDK3PWGDnUD2UNDiVoJsOz",
   "gpuType": "T4",
   "provenance": []
  },
  "kaggle": {
   "accelerator": "gpu",
   "dataSources": [],
   "dockerImageVersionId": 31090,
   "isGpuEnabled": true,
   "isInternetEnabled": true,
   "language": "python",
   "sourceType": "notebook"
  },
  "kernelspec": {
   "display_name": "Python 3",
   "language": "python",
   "name": "python3"
  },
  "language_info": {
   "codemirror_mode": {
    "name": "ipython",
    "version": 3
   },
   "file_extension": ".py",
   "mimetype": "text/x-python",
   "name": "python",
   "nbconvert_exporter": "python",
   "pygments_lexer": "ipython3",
   "version": "3.11.13"
  },
  "papermill": {
   "default_parameters": {},
   "duration": 518.305767,
   "end_time": "2025-08-23T08:49:35.347393",
   "environment_variables": {},
   "exception": null,
   "input_path": "__notebook__.ipynb",
   "output_path": "__notebook__.ipynb",
   "parameters": {},
   "start_time": "2025-08-23T08:40:57.041626",
   "version": "2.6.0"
  }
 },
 "nbformat": 4,
 "nbformat_minor": 5
}
