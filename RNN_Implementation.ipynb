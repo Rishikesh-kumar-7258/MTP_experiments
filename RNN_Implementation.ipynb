{
 "cells": [
  {
   "cell_type": "markdown",
   "id": "b70ad8b2",
   "metadata": {
    "papermill": {
     "duration": 0.004196,
     "end_time": "2025-07-17T05:40:34.570050",
     "exception": false,
     "start_time": "2025-07-17T05:40:34.565854",
     "status": "completed"
    },
    "tags": []
   },
   "source": [
    "$\\text{\\LARGE I am learning this from a tutorial which can be found \\href{https://docs.pytorch.org/tutorials/intermediate/char_rnn_classification_tutorial.html)}{here}}$"
   ]
  },
  {
   "cell_type": "code",
   "execution_count": 1,
   "id": "a923fc49",
   "metadata": {
    "_cell_guid": "b1076dfc-b9ad-4769-8c92-a6c4dae69d19",
    "_uuid": "8f2839f25d086af736a60e9eeb907d3b93b6e0e5",
    "execution": {
     "iopub.execute_input": "2025-07-17T05:40:34.577491Z",
     "iopub.status.busy": "2025-07-17T05:40:34.577281Z",
     "iopub.status.idle": "2025-07-17T05:40:38.238354Z",
     "shell.execute_reply": "2025-07-17T05:40:38.237551Z"
    },
    "papermill": {
     "duration": 3.666318,
     "end_time": "2025-07-17T05:40:38.239794",
     "exception": false,
     "start_time": "2025-07-17T05:40:34.573476",
     "status": "completed"
    },
    "tags": []
   },
   "outputs": [],
   "source": [
    "import torch\n",
    "import torch.nn as nn"
   ]
  },
  {
   "cell_type": "markdown",
   "id": "c1e72115",
   "metadata": {
    "papermill": {
     "duration": 0.003169,
     "end_time": "2025-07-17T05:40:38.246712",
     "exception": false,
     "start_time": "2025-07-17T05:40:38.243543",
     "status": "completed"
    },
    "tags": []
   },
   "source": [
    "# Model"
   ]
  },
  {
   "cell_type": "code",
   "execution_count": 2,
   "id": "6cf9c006",
   "metadata": {
    "execution": {
     "iopub.execute_input": "2025-07-17T05:40:38.254483Z",
     "iopub.status.busy": "2025-07-17T05:40:38.253872Z",
     "iopub.status.idle": "2025-07-17T05:40:38.264239Z",
     "shell.execute_reply": "2025-07-17T05:40:38.263533Z"
    },
    "papermill": {
     "duration": 0.01546,
     "end_time": "2025-07-17T05:40:38.265346",
     "exception": false,
     "start_time": "2025-07-17T05:40:38.249886",
     "status": "completed"
    },
    "tags": []
   },
   "outputs": [],
   "source": [
    "import torch\n",
    "import torch.nn as nn\n",
    "\n",
    "class MyRNN(nn.Module):\n",
    "    def __init__(self, input_size, hidden_size, num_layers=1, batch_first=False):\n",
    "        super(MyRNN, self).__init__()\n",
    "\n",
    "        self.input_size = input_size\n",
    "        self.hidden_size = hidden_size\n",
    "        self.num_layers = num_layers\n",
    "        self.batch_first = batch_first\n",
    "\n",
    "        # Parameters for each layer\n",
    "        self.weight_ih = nn.ParameterList([\n",
    "            nn.Parameter(torch.Tensor(hidden_size, input_size if i == 0 else hidden_size))\n",
    "            for i in range(num_layers)\n",
    "        ])\n",
    "        self.weight_hh = nn.ParameterList([\n",
    "            nn.Parameter(torch.Tensor(hidden_size, hidden_size))\n",
    "            for _ in range(num_layers)\n",
    "        ])\n",
    "        self.bias_ih = nn.ParameterList([\n",
    "            nn.Parameter(torch.Tensor(hidden_size))\n",
    "            for _ in range(num_layers)\n",
    "        ])\n",
    "        self.bias_hh = nn.ParameterList([\n",
    "            nn.Parameter(torch.Tensor(hidden_size))\n",
    "            for _ in range(num_layers)\n",
    "        ])\n",
    "\n",
    "        self.reset_parameters()\n",
    "\n",
    "    def reset_parameters(self):\n",
    "        for w in self.weight_ih:\n",
    "            nn.init.xavier_uniform_(w)\n",
    "        for w in self.weight_hh:\n",
    "            nn.init.orthogonal_(w)\n",
    "        for b in self.bias_ih:\n",
    "            nn.init.zeros_(b)\n",
    "        for b in self.bias_hh:\n",
    "            nn.init.zeros_(b)\n",
    "\n",
    "    def forward(self, x, hx=None):\n",
    "        # x: (seq_len, batch, input_size) or (batch, seq_len, input_size)\n",
    "        if self.batch_first:\n",
    "            x = x.transpose(0, 1)  # Convert to (seq_len, batch, input_size)\n",
    "        \n",
    "        seq_len, batch_size, _ = x.size()\n",
    "\n",
    "        if hx is None:\n",
    "            hx = torch.zeros(self.num_layers, batch_size, self.hidden_size, device=x.device)\n",
    "\n",
    "        h_t = list(torch.unbind(hx, dim=0))  # List of tensors (num_layers, batch, hidden_size)\n",
    "        output = []\n",
    "\n",
    "        for t in range(seq_len):\n",
    "            inp = x[t]\n",
    "            for layer in range(self.num_layers):\n",
    "                h_prev = h_t[layer]\n",
    "                w_ih = self.weight_ih[layer]\n",
    "                w_hh = self.weight_hh[layer]\n",
    "                b_ih = self.bias_ih[layer]\n",
    "                b_hh = self.bias_hh[layer]\n",
    "\n",
    "                h_new = torch.tanh(inp @ w_ih.T + b_ih + h_prev @ w_hh.T + b_hh)\n",
    "                h_t[layer] = h_new\n",
    "                inp = h_new  # Input to next layer\n",
    "            output.append(h_t[-1])  # Collect only last layer's output\n",
    "\n",
    "        output = torch.stack(output, dim=0)  # (seq_len, batch, hidden)\n",
    "        h_n = torch.stack(h_t, dim=0)        # (num_layers, batch, hidden)\n",
    "\n",
    "        if self.batch_first:\n",
    "            output = output.transpose(0, 1)  # Back to (batch, seq_len, hidden)\n",
    "\n",
    "        return output, h_n"
   ]
  },
  {
   "cell_type": "code",
   "execution_count": 3,
   "id": "0c26f91a",
   "metadata": {
    "execution": {
     "iopub.execute_input": "2025-07-17T05:40:38.272921Z",
     "iopub.status.busy": "2025-07-17T05:40:38.272292Z",
     "iopub.status.idle": "2025-07-17T05:40:38.329242Z",
     "shell.execute_reply": "2025-07-17T05:40:38.328483Z"
    },
    "papermill": {
     "duration": 0.06175,
     "end_time": "2025-07-17T05:40:38.330351",
     "exception": false,
     "start_time": "2025-07-17T05:40:38.268601",
     "status": "completed"
    },
    "tags": []
   },
   "outputs": [
    {
     "name": "stdout",
     "output_type": "stream",
     "text": [
      "cuda\n"
     ]
    }
   ],
   "source": [
    "device = 'cuda' if torch.cuda.is_available() else 'cpu'\n",
    "print(device)"
   ]
  },
  {
   "cell_type": "markdown",
   "id": "edf3f80a",
   "metadata": {
    "papermill": {
     "duration": 0.00313,
     "end_time": "2025-07-17T05:40:38.336955",
     "exception": false,
     "start_time": "2025-07-17T05:40:38.333825",
     "status": "completed"
    },
    "tags": []
   },
   "source": [
    "# Data preparation"
   ]
  },
  {
   "cell_type": "code",
   "execution_count": 4,
   "id": "c5b45d23",
   "metadata": {
    "execution": {
     "iopub.execute_input": "2025-07-17T05:40:38.344506Z",
     "iopub.status.busy": "2025-07-17T05:40:38.343997Z",
     "iopub.status.idle": "2025-07-17T05:40:39.210554Z",
     "shell.execute_reply": "2025-07-17T05:40:39.209600Z"
    },
    "papermill": {
     "duration": 0.87173,
     "end_time": "2025-07-17T05:40:39.211890",
     "exception": false,
     "start_time": "2025-07-17T05:40:38.340160",
     "status": "completed"
    },
    "tags": []
   },
   "outputs": [
    {
     "name": "stdout",
     "output_type": "stream",
     "text": [
      "--2025-07-17 05:40:38--  https://download.pytorch.org/tutorial/data.zip\r\n",
      "Resolving download.pytorch.org (download.pytorch.org)... 99.86.38.37, 99.86.38.72, 99.86.38.106, ...\r\n",
      "Connecting to download.pytorch.org (download.pytorch.org)|99.86.38.37|:443... connected.\r\n",
      "HTTP request sent, awaiting response... 200 OK\r\n",
      "Length: 2882130 (2.7M) [application/zip]\r\n",
      "Saving to: ‘data.zip’\r\n",
      "\r\n",
      "data.zip            100%[===================>]   2.75M  7.65MB/s    in 0.4s    \r\n",
      "\r\n",
      "2025-07-17 05:40:39 (7.65 MB/s) - ‘data.zip’ saved [2882130/2882130]\r\n",
      "\r\n"
     ]
    }
   ],
   "source": [
    "!wget https://download.pytorch.org/tutorial/data.zip"
   ]
  },
  {
   "cell_type": "code",
   "execution_count": 5,
   "id": "b7cf1a2c",
   "metadata": {
    "execution": {
     "iopub.execute_input": "2025-07-17T05:40:39.220473Z",
     "iopub.status.busy": "2025-07-17T05:40:39.220219Z",
     "iopub.status.idle": "2025-07-17T05:40:39.426004Z",
     "shell.execute_reply": "2025-07-17T05:40:39.425290Z"
    },
    "papermill": {
     "duration": 0.211332,
     "end_time": "2025-07-17T05:40:39.427099",
     "exception": false,
     "start_time": "2025-07-17T05:40:39.215767",
     "status": "completed"
    },
    "tags": []
   },
   "outputs": [
    {
     "name": "stdout",
     "output_type": "stream",
     "text": [
      "Archive:  /kaggle/working/data.zip\r\n",
      "   creating: data/\r\n",
      "  inflating: data/eng-fra.txt        \r\n",
      "   creating: data/names/\r\n",
      "  inflating: data/names/Arabic.txt   \r\n",
      "  inflating: data/names/Chinese.txt  \r\n",
      "  inflating: data/names/Czech.txt    \r\n",
      "  inflating: data/names/Dutch.txt    \r\n",
      "  inflating: data/names/English.txt  \r\n",
      "  inflating: data/names/French.txt   \r\n",
      "  inflating: data/names/German.txt   \r\n",
      "  inflating: data/names/Greek.txt    \r\n",
      "  inflating: data/names/Irish.txt    \r\n",
      "  inflating: data/names/Italian.txt  \r\n",
      "  inflating: data/names/Japanese.txt  \r\n",
      "  inflating: data/names/Korean.txt   \r\n",
      "  inflating: data/names/Polish.txt   \r\n",
      "  inflating: data/names/Portuguese.txt  \r\n",
      "  inflating: data/names/Russian.txt  \r\n",
      "  inflating: data/names/Scottish.txt  \r\n",
      "  inflating: data/names/Spanish.txt  \r\n",
      "  inflating: data/names/Vietnamese.txt  \r\n"
     ]
    }
   ],
   "source": [
    "!unzip /kaggle/working/data.zip"
   ]
  },
  {
   "cell_type": "code",
   "execution_count": 6,
   "id": "6f07e3d9",
   "metadata": {
    "execution": {
     "iopub.execute_input": "2025-07-17T05:40:39.435988Z",
     "iopub.status.busy": "2025-07-17T05:40:39.435510Z",
     "iopub.status.idle": "2025-07-17T05:40:39.440416Z",
     "shell.execute_reply": "2025-07-17T05:40:39.439732Z"
    },
    "papermill": {
     "duration": 0.010508,
     "end_time": "2025-07-17T05:40:39.441575",
     "exception": false,
     "start_time": "2025-07-17T05:40:39.431067",
     "status": "completed"
    },
    "tags": []
   },
   "outputs": [],
   "source": [
    "import string\n",
    "import unicodedata\n",
    "\n",
    "allowed_characters = string.ascii_letters + \" .,;'\" + \"_\"\n",
    "n_letters = len(allowed_characters)\n",
    "\n",
    "# Turn a Unicode string to plain ASCII, thanks to https://stackoverflow.com/a/518232/2809427\n",
    "def unicodeToAscii(s):\n",
    "    return ''.join(\n",
    "        c for c in unicodedata.normalize('NFD', s) # normalized form D (canonical decomposition)\n",
    "        if unicodedata.category(c) != 'Mn' # Mark Non-spacing\n",
    "        and c in allowed_characters\n",
    "    )"
   ]
  },
  {
   "cell_type": "code",
   "execution_count": 7,
   "id": "88aeb313",
   "metadata": {
    "execution": {
     "iopub.execute_input": "2025-07-17T05:40:39.449990Z",
     "iopub.status.busy": "2025-07-17T05:40:39.449568Z",
     "iopub.status.idle": "2025-07-17T05:40:39.453600Z",
     "shell.execute_reply": "2025-07-17T05:40:39.453066Z"
    },
    "papermill": {
     "duration": 0.009245,
     "end_time": "2025-07-17T05:40:39.454532",
     "exception": false,
     "start_time": "2025-07-17T05:40:39.445287",
     "status": "completed"
    },
    "tags": []
   },
   "outputs": [],
   "source": [
    "# Find letter index from all_letters, e.g. \"a\" = 0\n",
    "def letterToIndex(letter):\n",
    "    if letter not in allowed_characters:\n",
    "        return allowed_characters.find(\"_\")\n",
    "    else:\n",
    "        return allowed_characters.find(letter)\n",
    "\n",
    "# Turn a line into a <line_length x 1 x n_letters>,\n",
    "# or an array of one-hot letter vectors\n",
    "def lineToTensor(line):\n",
    "    tensor = torch.zeros(len(line), 1, n_letters)\n",
    "    for li, letter in enumerate(line):\n",
    "        tensor[li][0][letterToIndex(letter)] = 1\n",
    "    return tensor"
   ]
  },
  {
   "cell_type": "code",
   "execution_count": 8,
   "id": "59f67699",
   "metadata": {
    "execution": {
     "iopub.execute_input": "2025-07-17T05:40:39.462813Z",
     "iopub.status.busy": "2025-07-17T05:40:39.462294Z",
     "iopub.status.idle": "2025-07-17T05:40:39.469323Z",
     "shell.execute_reply": "2025-07-17T05:40:39.468762Z"
    },
    "papermill": {
     "duration": 0.012032,
     "end_time": "2025-07-17T05:40:39.470252",
     "exception": false,
     "start_time": "2025-07-17T05:40:39.458220",
     "status": "completed"
    },
    "tags": []
   },
   "outputs": [],
   "source": [
    "from io import open\n",
    "import glob\n",
    "import os\n",
    "import time\n",
    "\n",
    "import torch\n",
    "from torch.utils.data import Dataset\n",
    "\n",
    "class NamesDataset(Dataset):\n",
    "\n",
    "    def __init__(self, data_dir):\n",
    "        self.data_dir = data_dir #for provenance of the dataset\n",
    "        self.load_time = time.localtime #for provenance of the dataset\n",
    "        labels_set = set() #set of all classes\n",
    "\n",
    "        self.data = []\n",
    "        self.data_tensors = []\n",
    "        self.labels = []\n",
    "        self.labels_tensors = []\n",
    "\n",
    "        #read all the ``.txt`` files in the specified directory\n",
    "        text_files = glob.glob(os.path.join(data_dir, '*.txt'))\n",
    "        for filename in text_files:\n",
    "            label = os.path.splitext(os.path.basename(filename))[0]\n",
    "            labels_set.add(label)\n",
    "            lines = open(filename, encoding='utf-8').read().strip().split('\\n')\n",
    "            for name in lines:\n",
    "                self.data.append(name)\n",
    "                self.data_tensors.append(lineToTensor(name))\n",
    "                self.labels.append(label)\n",
    "\n",
    "        #Cache the tensor representation of the labels\n",
    "        self.labels_uniq = list(labels_set)\n",
    "        for idx in range(len(self.labels)):\n",
    "            temp_tensor = torch.tensor([self.labels_uniq.index(self.labels[idx])], dtype=torch.long)\n",
    "            self.labels_tensors.append(temp_tensor)\n",
    "\n",
    "    def __len__(self):\n",
    "        return len(self.data)\n",
    "\n",
    "    def __getitem__(self, idx):\n",
    "        data_item = self.data[idx]\n",
    "        data_label = self.labels[idx]\n",
    "        data_tensor = self.data_tensors[idx]\n",
    "        label_tensor = self.labels_tensors[idx]\n",
    "\n",
    "        return label_tensor, data_tensor, data_label, data_item"
   ]
  },
  {
   "cell_type": "code",
   "execution_count": 9,
   "id": "fdb84b15",
   "metadata": {
    "execution": {
     "iopub.execute_input": "2025-07-17T05:40:39.477874Z",
     "iopub.status.busy": "2025-07-17T05:40:39.477690Z",
     "iopub.status.idle": "2025-07-17T05:40:41.019283Z",
     "shell.execute_reply": "2025-07-17T05:40:41.018395Z"
    },
    "papermill": {
     "duration": 1.546803,
     "end_time": "2025-07-17T05:40:41.020580",
     "exception": false,
     "start_time": "2025-07-17T05:40:39.473777",
     "status": "completed"
    },
    "tags": []
   },
   "outputs": [
    {
     "name": "stdout",
     "output_type": "stream",
     "text": [
      "loaded 20074 items of data\n",
      "example = (tensor([16]), tensor([[[0., 0., 0., 0., 0., 0., 0., 0., 0., 0., 0., 0., 0., 0., 0., 0., 0.,\n",
      "          0., 0., 0., 0., 0., 0., 0., 0., 0., 0., 0., 0., 0., 0., 0., 0., 0.,\n",
      "          0., 0., 0., 0., 0., 1., 0., 0., 0., 0., 0., 0., 0., 0., 0., 0., 0.,\n",
      "          0., 0., 0., 0., 0., 0., 0.]],\n",
      "\n",
      "        [[0., 0., 0., 0., 0., 0., 1., 0., 0., 0., 0., 0., 0., 0., 0., 0., 0.,\n",
      "          0., 0., 0., 0., 0., 0., 0., 0., 0., 0., 0., 0., 0., 0., 0., 0., 0.,\n",
      "          0., 0., 0., 0., 0., 0., 0., 0., 0., 0., 0., 0., 0., 0., 0., 0., 0.,\n",
      "          0., 0., 0., 0., 0., 0., 0.]],\n",
      "\n",
      "        [[0., 0., 0., 0., 0., 0., 0., 0., 0., 0., 0., 0., 0., 0., 0., 0., 0.,\n",
      "          0., 0., 0., 1., 0., 0., 0., 0., 0., 0., 0., 0., 0., 0., 0., 0., 0.,\n",
      "          0., 0., 0., 0., 0., 0., 0., 0., 0., 0., 0., 0., 0., 0., 0., 0., 0.,\n",
      "          0., 0., 0., 0., 0., 0., 0.]],\n",
      "\n",
      "        [[0., 0., 0., 0., 0., 0., 0., 0., 0., 0., 0., 0., 0., 0., 0., 0., 0.,\n",
      "          0., 0., 0., 0., 0., 0., 0., 1., 0., 0., 0., 0., 0., 0., 0., 0., 0.,\n",
      "          0., 0., 0., 0., 0., 0., 0., 0., 0., 0., 0., 0., 0., 0., 0., 0., 0.,\n",
      "          0., 0., 0., 0., 0., 0., 0.]],\n",
      "\n",
      "        [[0., 0., 0., 0., 1., 0., 0., 0., 0., 0., 0., 0., 0., 0., 0., 0., 0.,\n",
      "          0., 0., 0., 0., 0., 0., 0., 0., 0., 0., 0., 0., 0., 0., 0., 0., 0.,\n",
      "          0., 0., 0., 0., 0., 0., 0., 0., 0., 0., 0., 0., 0., 0., 0., 0., 0.,\n",
      "          0., 0., 0., 0., 0., 0., 0.]],\n",
      "\n",
      "        [[0., 0., 0., 0., 0., 0., 0., 0., 0., 0., 0., 0., 0., 1., 0., 0., 0.,\n",
      "          0., 0., 0., 0., 0., 0., 0., 0., 0., 0., 0., 0., 0., 0., 0., 0., 0.,\n",
      "          0., 0., 0., 0., 0., 0., 0., 0., 0., 0., 0., 0., 0., 0., 0., 0., 0.,\n",
      "          0., 0., 0., 0., 0., 0., 0.]]]), 'Vietnamese', 'Nguyen')\n"
     ]
    }
   ],
   "source": [
    "alldata = NamesDataset(\"data/names\")\n",
    "print(f\"loaded {len(alldata)} items of data\")\n",
    "print(f\"example = {alldata[0]}\")"
   ]
  },
  {
   "cell_type": "code",
   "execution_count": 10,
   "id": "1f7f794a",
   "metadata": {
    "execution": {
     "iopub.execute_input": "2025-07-17T05:40:41.029382Z",
     "iopub.status.busy": "2025-07-17T05:40:41.028798Z",
     "iopub.status.idle": "2025-07-17T05:40:41.037188Z",
     "shell.execute_reply": "2025-07-17T05:40:41.036480Z"
    },
    "papermill": {
     "duration": 0.013772,
     "end_time": "2025-07-17T05:40:41.038312",
     "exception": false,
     "start_time": "2025-07-17T05:40:41.024540",
     "status": "completed"
    },
    "tags": []
   },
   "outputs": [
    {
     "name": "stdout",
     "output_type": "stream",
     "text": [
      "train examples = 17063, validation examples = 3011\n"
     ]
    }
   ],
   "source": [
    "train_set, test_set = torch.utils.data.random_split(alldata, [.85, .15], generator=torch.Generator().manual_seed(2024))\n",
    "\n",
    "print(f\"train examples = {len(train_set)}, validation examples = {len(test_set)}\")"
   ]
  },
  {
   "cell_type": "markdown",
   "id": "16d029a3",
   "metadata": {
    "papermill": {
     "duration": 0.003548,
     "end_time": "2025-07-17T05:40:41.045583",
     "exception": false,
     "start_time": "2025-07-17T05:40:41.042035",
     "status": "completed"
    },
    "tags": []
   },
   "source": [
    "# Creating Model"
   ]
  },
  {
   "cell_type": "code",
   "execution_count": 11,
   "id": "65f9575d",
   "metadata": {
    "execution": {
     "iopub.execute_input": "2025-07-17T05:40:41.054125Z",
     "iopub.status.busy": "2025-07-17T05:40:41.053943Z",
     "iopub.status.idle": "2025-07-17T05:40:41.059015Z",
     "shell.execute_reply": "2025-07-17T05:40:41.058329Z"
    },
    "papermill": {
     "duration": 0.01034,
     "end_time": "2025-07-17T05:40:41.060119",
     "exception": false,
     "start_time": "2025-07-17T05:40:41.049779",
     "status": "completed"
    },
    "tags": []
   },
   "outputs": [],
   "source": [
    "import torch.nn as nn\n",
    "import torch.nn.functional as F\n",
    "\n",
    "class CharRNN(nn.Module):\n",
    "    def __init__(self, input_size, hidden_size, output_size):\n",
    "        super(CharRNN, self).__init__()\n",
    "\n",
    "        # self.rnn = nn.RNN(input_size, hidden_size)\n",
    "        self.rnn = MyRNN(input_size=input_size, hidden_size=hidden_size)\n",
    "        self.h2o = nn.Linear(hidden_size, output_size)\n",
    "        self.softmax = nn.LogSoftmax(dim=1)\n",
    "\n",
    "    def forward(self, line_tensor):\n",
    "        rnn_out, hidden = self.rnn(line_tensor)\n",
    "        output = self.h2o(hidden[0])\n",
    "        output = self.softmax(output)\n",
    "\n",
    "        return output"
   ]
  },
  {
   "cell_type": "code",
   "execution_count": 12,
   "id": "dfb849f8",
   "metadata": {
    "execution": {
     "iopub.execute_input": "2025-07-17T05:40:41.068337Z",
     "iopub.status.busy": "2025-07-17T05:40:41.067896Z",
     "iopub.status.idle": "2025-07-17T05:40:41.130238Z",
     "shell.execute_reply": "2025-07-17T05:40:41.129496Z"
    },
    "papermill": {
     "duration": 0.067562,
     "end_time": "2025-07-17T05:40:41.131341",
     "exception": false,
     "start_time": "2025-07-17T05:40:41.063779",
     "status": "completed"
    },
    "tags": []
   },
   "outputs": [
    {
     "name": "stdout",
     "output_type": "stream",
     "text": [
      "CharRNN(\n",
      "  (rnn): MyRNN(\n",
      "    (weight_ih): ParameterList(  (0): Parameter containing: [torch.float32 of size 128x58])\n",
      "    (weight_hh): ParameterList(  (0): Parameter containing: [torch.float32 of size 128x128])\n",
      "    (bias_ih): ParameterList(  (0): Parameter containing: [torch.float32 of size 128])\n",
      "    (bias_hh): ParameterList(  (0): Parameter containing: [torch.float32 of size 128])\n",
      "  )\n",
      "  (h2o): Linear(in_features=128, out_features=18, bias=True)\n",
      "  (softmax): LogSoftmax(dim=1)\n",
      ")\n"
     ]
    }
   ],
   "source": [
    "n_hidden = 128\n",
    "rnn = CharRNN(n_letters, n_hidden, len(alldata.labels_uniq))\n",
    "print(rnn)"
   ]
  },
  {
   "cell_type": "code",
   "execution_count": 13,
   "id": "5181bf86",
   "metadata": {
    "execution": {
     "iopub.execute_input": "2025-07-17T05:40:41.140448Z",
     "iopub.status.busy": "2025-07-17T05:40:41.140254Z",
     "iopub.status.idle": "2025-07-17T05:40:41.174742Z",
     "shell.execute_reply": "2025-07-17T05:40:41.173916Z"
    },
    "papermill": {
     "duration": 0.039657,
     "end_time": "2025-07-17T05:40:41.175768",
     "exception": false,
     "start_time": "2025-07-17T05:40:41.136111",
     "status": "completed"
    },
    "tags": []
   },
   "outputs": [
    {
     "name": "stdout",
     "output_type": "stream",
     "text": [
      "tensor([[-2.8443, -2.9199, -2.9246, -2.6700, -3.0007, -2.8980, -3.0501, -2.7284,\n",
      "         -2.7662, -2.9977, -2.8239, -2.8446, -3.0945, -3.0408, -2.9375, -2.7288,\n",
      "         -2.9639, -2.9179]], grad_fn=<LogSoftmaxBackward0>)\n",
      "('Chinese', 3)\n"
     ]
    }
   ],
   "source": [
    "def label_from_output(output, output_labels):\n",
    "    top_n, top_i = output.topk(1)\n",
    "    label_i = top_i[0].item()\n",
    "    return output_labels[label_i], label_i\n",
    "\n",
    "input = lineToTensor('Albert')\n",
    "output = rnn(input) \n",
    "print(output)\n",
    "print(label_from_output(output, alldata.labels_uniq))"
   ]
  },
  {
   "cell_type": "markdown",
   "id": "46bf2734",
   "metadata": {
    "papermill": {
     "duration": 0.003501,
     "end_time": "2025-07-17T05:40:41.183061",
     "exception": false,
     "start_time": "2025-07-17T05:40:41.179560",
     "status": "completed"
    },
    "tags": []
   },
   "source": [
    "# Training"
   ]
  },
  {
   "cell_type": "code",
   "execution_count": 14,
   "id": "ab2241e0",
   "metadata": {
    "execution": {
     "iopub.execute_input": "2025-07-17T05:40:41.191161Z",
     "iopub.status.busy": "2025-07-17T05:40:41.190971Z",
     "iopub.status.idle": "2025-07-17T05:40:41.197594Z",
     "shell.execute_reply": "2025-07-17T05:40:41.197082Z"
    },
    "papermill": {
     "duration": 0.011842,
     "end_time": "2025-07-17T05:40:41.198596",
     "exception": false,
     "start_time": "2025-07-17T05:40:41.186754",
     "status": "completed"
    },
    "tags": []
   },
   "outputs": [],
   "source": [
    "import random\n",
    "import numpy as np\n",
    "\n",
    "def train(rnn, training_data, n_epoch = 10, n_batch_size = 64, report_every = 50, learning_rate = 0.2, criterion = nn.NLLLoss()):\n",
    "    \"\"\"\n",
    "    Learn on a batch of training_data for a specified number of iterations and reporting thresholds\n",
    "    \"\"\"\n",
    "    # Keep track of losses for plotting\n",
    "    current_loss = 0\n",
    "    all_losses = []\n",
    "    rnn.train()\n",
    "    optimizer = torch.optim.SGD(rnn.parameters(), lr=learning_rate)\n",
    "\n",
    "    start = time.time()\n",
    "    print(f\"training on data set with n = {len(training_data)}\")\n",
    "\n",
    "    for iter in range(1, n_epoch + 1):\n",
    "        rnn.zero_grad() # clear the gradients\n",
    "\n",
    "        # create some minibatches\n",
    "        # we cannot use dataloaders because each of our names is a different length\n",
    "        batches = list(range(len(training_data)))\n",
    "        random.shuffle(batches)\n",
    "        batches = np.array_split(batches, len(batches) //n_batch_size )\n",
    "\n",
    "        for idx, batch in enumerate(batches):\n",
    "            batch_loss = 0\n",
    "            for i in batch: #for each example in this batch\n",
    "                (label_tensor, text_tensor, label, text) = training_data[i]\n",
    "                output = rnn.forward(text_tensor)\n",
    "                loss = criterion(output, label_tensor)\n",
    "                batch_loss += loss\n",
    "\n",
    "            # optimize parameters\n",
    "            batch_loss.backward()\n",
    "            nn.utils.clip_grad_norm_(rnn.parameters(), 3)\n",
    "            optimizer.step()\n",
    "            optimizer.zero_grad()\n",
    "\n",
    "            current_loss += batch_loss.item() / len(batch)\n",
    "\n",
    "        all_losses.append(current_loss / len(batches) )\n",
    "        if iter % report_every == 0:\n",
    "            print(f\"{iter} ({iter / n_epoch:.0%}): \\t average batch loss = {all_losses[-1]}\")\n",
    "        current_loss = 0\n",
    "\n",
    "    return all_losses"
   ]
  },
  {
   "cell_type": "code",
   "execution_count": 15,
   "id": "d4b4d771",
   "metadata": {
    "execution": {
     "iopub.execute_input": "2025-07-17T05:40:41.207034Z",
     "iopub.status.busy": "2025-07-17T05:40:41.206590Z",
     "iopub.status.idle": "2025-07-17T05:53:02.666079Z",
     "shell.execute_reply": "2025-07-17T05:53:02.665298Z"
    },
    "papermill": {
     "duration": 741.469652,
     "end_time": "2025-07-17T05:53:02.672044",
     "exception": false,
     "start_time": "2025-07-17T05:40:41.202392",
     "status": "completed"
    },
    "tags": []
   },
   "outputs": [
    {
     "name": "stdout",
     "output_type": "stream",
     "text": [
      "training on data set with n = 17063\n",
      "5 (19%): \t average batch loss = 0.8015668066820705\n",
      "10 (37%): \t average batch loss = 0.6252292537815037\n",
      "15 (56%): \t average batch loss = 0.5340072256316333\n",
      "20 (74%): \t average batch loss = 0.4661205987155679\n",
      "25 (93%): \t average batch loss = 0.4321062378451754\n",
      "training took 741.455240726471s\n"
     ]
    }
   ],
   "source": [
    "start = time.time()\n",
    "all_losses = train(rnn, train_set, n_epoch=27, learning_rate=0.15, report_every=5)\n",
    "end = time.time()\n",
    "print(f\"training took {end-start}s\")"
   ]
  },
  {
   "cell_type": "markdown",
   "id": "0619df2b",
   "metadata": {
    "papermill": {
     "duration": 0.004015,
     "end_time": "2025-07-17T05:53:02.680617",
     "exception": false,
     "start_time": "2025-07-17T05:53:02.676602",
     "status": "completed"
    },
    "tags": []
   },
   "source": [
    "## Plotting Result"
   ]
  },
  {
   "cell_type": "code",
   "execution_count": 16,
   "id": "f6d0e6f5",
   "metadata": {
    "execution": {
     "iopub.execute_input": "2025-07-17T05:53:02.690102Z",
     "iopub.status.busy": "2025-07-17T05:53:02.689782Z",
     "iopub.status.idle": "2025-07-17T05:53:02.861542Z",
     "shell.execute_reply": "2025-07-17T05:53:02.860859Z"
    },
    "papermill": {
     "duration": 0.178156,
     "end_time": "2025-07-17T05:53:02.862812",
     "exception": false,
     "start_time": "2025-07-17T05:53:02.684656",
     "status": "completed"
    },
    "tags": []
   },
   "outputs": [
    {
     "data": {
      "image/png": "[encoded data removed]",
      "text/plain": [
       "<Figure size 640x480 with 1 Axes>"
      ]
     },
     "metadata": {},
     "output_type": "display_data"
    }
   ],
   "source": [
    "import matplotlib.pyplot as plt\n",
    "import matplotlib.ticker as ticker\n",
    "\n",
    "plt.figure()\n",
    "plt.plot(all_losses)\n",
    "plt.show()"
   ]
  },
  {
   "cell_type": "markdown",
   "id": "e3e8a81e",
   "metadata": {
    "papermill": {
     "duration": 0.0045,
     "end_time": "2025-07-17T05:53:02.872040",
     "exception": false,
     "start_time": "2025-07-17T05:53:02.867540",
     "status": "completed"
    },
    "tags": []
   },
   "source": [
    "## Evaluating Result"
   ]
  },
  {
   "cell_type": "code",
   "execution_count": 17,
   "id": "4724af84",
   "metadata": {
    "execution": {
     "iopub.execute_input": "2025-07-17T05:53:02.881740Z",
     "iopub.status.busy": "2025-07-17T05:53:02.881415Z",
     "iopub.status.idle": "2025-07-17T05:53:04.739494Z",
     "shell.execute_reply": "2025-07-17T05:53:04.738802Z"
    },
    "papermill": {
     "duration": 1.864628,
     "end_time": "2025-07-17T05:53:04.741013",
     "exception": false,
     "start_time": "2025-07-17T05:53:02.876385",
     "status": "completed"
    },
    "tags": []
   },
   "outputs": [
    {
     "data": {
      "image/png": "[encoded data removed]",
      "text/plain": [
       "<Figure size 640x480 with 2 Axes>"
      ]
     },
     "metadata": {},
     "output_type": "display_data"
    }
   ],
   "source": [
    "def evaluate(rnn, testing_data, classes):\n",
    "    confusion = torch.zeros(len(classes), len(classes))\n",
    "\n",
    "    rnn.eval() #set to eval mode\n",
    "    with torch.no_grad(): # do not record the gradients during eval phase\n",
    "        for i in range(len(testing_data)):\n",
    "            (label_tensor, text_tensor, label, text) = testing_data[i]\n",
    "            output = rnn(text_tensor)\n",
    "            guess, guess_i = label_from_output(output, classes)\n",
    "            label_i = classes.index(label)\n",
    "            confusion[label_i][guess_i] += 1\n",
    "\n",
    "    # Normalize by dividing every row by its sum\n",
    "    for i in range(len(classes)):\n",
    "        denom = confusion[i].sum()\n",
    "        if denom > 0:\n",
    "            confusion[i] = confusion[i] / denom\n",
    "\n",
    "    # Set up plot\n",
    "    fig = plt.figure()\n",
    "    ax = fig.add_subplot(111)\n",
    "    cax = ax.matshow(confusion.cpu().numpy()) #numpy uses cpu here so we need to use a cpu version\n",
    "    fig.colorbar(cax)\n",
    "\n",
    "    # Set up axes\n",
    "    ax.set_xticks(np.arange(len(classes)), labels=classes, rotation=90)\n",
    "    ax.set_yticks(np.arange(len(classes)), labels=classes)\n",
    "\n",
    "    # Force label at every tick\n",
    "    ax.xaxis.set_major_locator(ticker.MultipleLocator(1))\n",
    "    ax.yaxis.set_major_locator(ticker.MultipleLocator(1))\n",
    "\n",
    "    # sphinx_gallery_thumbnail_number = 2\n",
    "    plt.show()\n",
    "\n",
    "\n",
    "\n",
    "evaluate(rnn, test_set, classes=alldata.labels_uniq)"
   ]
  },
  {
   "cell_type": "code",
   "execution_count": null,
   "id": "2dc1a091",
   "metadata": {
    "papermill": {
     "duration": 0.005092,
     "end_time": "2025-07-17T05:53:04.751758",
     "exception": false,
     "start_time": "2025-07-17T05:53:04.746666",
     "status": "completed"
    },
    "tags": []
   },
   "outputs": [],
   "source": []
  }
 ],
 "metadata": {
  "kaggle": {
   "accelerator": "gpu",
   "dataSources": [],
   "dockerImageVersionId": 31041,
   "isGpuEnabled": true,
   "isInternetEnabled": true,
   "language": "python",
   "sourceType": "notebook"
  },
  "kernelspec": {
   "display_name": "Python 3",
   "language": "python",
   "name": "python3"
  },
  "language_info": {
   "codemirror_mode": {
    "name": "ipython",
    "version": 3
   },
   "file_extension": ".py",
   "mimetype": "text/x-python",
   "name": "python",
   "nbconvert_exporter": "python",
   "pygments_lexer": "ipython3",
   "version": "3.11.11"
  },
  "papermill": {
   "default_parameters": {},
   "duration": 756.525243,
   "end_time": "2025-07-17T05:53:07.137678",
   "environment_variables": {},
   "exception": null,
   "input_path": "__notebook__.ipynb",
   "output_path": "__notebook__.ipynb",
   "parameters": {},
   "start_time": "2025-07-17T05:40:30.612435",
   "version": "2.6.0"
  }
 },
 "nbformat": 4,
 "nbformat_minor": 5
}
