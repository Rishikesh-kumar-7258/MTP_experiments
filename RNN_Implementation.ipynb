{
 "cells": [
  {
   "cell_type": "markdown",
   "id": "fa506c84",
   "metadata": {
    "papermill": {
     "duration": 0.003987,
     "end_time": "2025-05-26T18:52:11.847433",
     "exception": false,
     "start_time": "2025-05-26T18:52:11.843446",
     "status": "completed"
    },
    "tags": []
   },
   "source": [
    "$\\text{\\LARGE I am learning this from a tutorial which can be found \\href{https://docs.pytorch.org/tutorials/intermediate/char_rnn_classification_tutorial.html)}{here}}$"
   ]
  },
  {
   "cell_type": "code",
   "execution_count": 1,
   "id": "4961e46b",
   "metadata": {
    "_cell_guid": "b1076dfc-b9ad-4769-8c92-a6c4dae69d19",
    "_uuid": "8f2839f25d086af736a60e9eeb907d3b93b6e0e5",
    "execution": {
     "iopub.execute_input": "2025-05-26T18:52:11.855089Z",
     "iopub.status.busy": "2025-05-26T18:52:11.854429Z",
     "iopub.status.idle": "2025-05-26T18:52:16.441445Z",
     "shell.execute_reply": "2025-05-26T18:52:16.440858Z"
    },
    "papermill": {
     "duration": 4.592149,
     "end_time": "2025-05-26T18:52:16.442836",
     "exception": false,
     "start_time": "2025-05-26T18:52:11.850687",
     "status": "completed"
    },
    "tags": []
   },
   "outputs": [],
   "source": [
    "import torch\n",
    "import torch.nn as nn"
   ]
  },
  {
   "cell_type": "code",
   "execution_count": 2,
   "id": "f31fdf26",
   "metadata": {
    "execution": {
     "iopub.execute_input": "2025-05-26T18:52:16.450100Z",
     "iopub.status.busy": "2025-05-26T18:52:16.449836Z",
     "iopub.status.idle": "2025-05-26T18:52:16.517587Z",
     "shell.execute_reply": "2025-05-26T18:52:16.516853Z"
    },
    "papermill": {
     "duration": 0.072483,
     "end_time": "2025-05-26T18:52:16.518721",
     "exception": false,
     "start_time": "2025-05-26T18:52:16.446238",
     "status": "completed"
    },
    "tags": []
   },
   "outputs": [
    {
     "name": "stdout",
     "output_type": "stream",
     "text": [
      "cuda\n"
     ]
    }
   ],
   "source": [
    "device = 'cuda' if torch.cuda.is_available() else 'cpu'\n",
    "print(device)"
   ]
  },
  {
   "cell_type": "markdown",
   "id": "086c4dd6",
   "metadata": {
    "papermill": {
     "duration": 0.003026,
     "end_time": "2025-05-26T18:52:16.525003",
     "exception": false,
     "start_time": "2025-05-26T18:52:16.521977",
     "status": "completed"
    },
    "tags": []
   },
   "source": [
    "# Data preparation"
   ]
  },
  {
   "cell_type": "code",
   "execution_count": 3,
   "id": "f8afc357",
   "metadata": {
    "execution": {
     "iopub.execute_input": "2025-05-26T18:52:16.531856Z",
     "iopub.status.busy": "2025-05-26T18:52:16.531616Z",
     "iopub.status.idle": "2025-05-26T18:52:17.049703Z",
     "shell.execute_reply": "2025-05-26T18:52:17.048595Z"
    },
    "papermill": {
     "duration": 0.523164,
     "end_time": "2025-05-26T18:52:17.051142",
     "exception": false,
     "start_time": "2025-05-26T18:52:16.527978",
     "status": "completed"
    },
    "tags": []
   },
   "outputs": [
    {
     "name": "stdout",
     "output_type": "stream",
     "text": [
      "--2025-05-26 18:52:16--  https://download.pytorch.org/tutorial/data.zip\r\n",
      "Resolving download.pytorch.org (download.pytorch.org)... 3.169.137.77, 3.169.137.102, 3.169.137.100, ...\r\n",
      "Connecting to download.pytorch.org (download.pytorch.org)|3.169.137.77|:443... connected.\r\n",
      "HTTP request sent, awaiting response... 200 OK\r\n",
      "Length: 2882130 (2.7M) [application/zip]\r\n",
      "Saving to: ‘data.zip’\r\n",
      "\r\n",
      "data.zip            100%[===================>]   2.75M  --.-KB/s    in 0.1s    \r\n",
      "\r\n",
      "2025-05-26 18:52:16 (24.1 MB/s) - ‘data.zip’ saved [2882130/2882130]\r\n",
      "\r\n"
     ]
    }
   ],
   "source": [
    "!wget https://download.pytorch.org/tutorial/data.zip"
   ]
  },
  {
   "cell_type": "code",
   "execution_count": 4,
   "id": "bd515914",
   "metadata": {
    "execution": {
     "iopub.execute_input": "2025-05-26T18:52:17.059274Z",
     "iopub.status.busy": "2025-05-26T18:52:17.059018Z",
     "iopub.status.idle": "2025-05-26T18:52:17.266322Z",
     "shell.execute_reply": "2025-05-26T18:52:17.265582Z"
    },
    "papermill": {
     "duration": 0.212885,
     "end_time": "2025-05-26T18:52:17.267738",
     "exception": false,
     "start_time": "2025-05-26T18:52:17.054853",
     "status": "completed"
    },
    "tags": []
   },
   "outputs": [
    {
     "name": "stdout",
     "output_type": "stream",
     "text": [
      "Archive:  /kaggle/working/data.zip\r\n",
      "   creating: data/\r\n",
      "  inflating: data/eng-fra.txt        \r\n",
      "   creating: data/names/\r\n",
      "  inflating: data/names/Arabic.txt   \r\n",
      "  inflating: data/names/Chinese.txt  \r\n",
      "  inflating: data/names/Czech.txt    \r\n",
      "  inflating: data/names/Dutch.txt    \r\n",
      "  inflating: data/names/English.txt  \r\n",
      "  inflating: data/names/French.txt   \r\n",
      "  inflating: data/names/German.txt   \r\n",
      "  inflating: data/names/Greek.txt    \r\n",
      "  inflating: data/names/Irish.txt    \r\n",
      "  inflating: data/names/Italian.txt  \r\n",
      "  inflating: data/names/Japanese.txt  \r\n",
      "  inflating: data/names/Korean.txt   \r\n",
      "  inflating: data/names/Polish.txt   \r\n",
      "  inflating: data/names/Portuguese.txt  \r\n",
      "  inflating: data/names/Russian.txt  \r\n",
      "  inflating: data/names/Scottish.txt  \r\n",
      "  inflating: data/names/Spanish.txt  \r\n",
      "  inflating: data/names/Vietnamese.txt  \r\n"
     ]
    }
   ],
   "source": [
    "!unzip /kaggle/working/data.zip"
   ]
  },
  {
   "cell_type": "code",
   "execution_count": 5,
   "id": "a26c7694",
   "metadata": {
    "execution": {
     "iopub.execute_input": "2025-05-26T18:52:17.276116Z",
     "iopub.status.busy": "2025-05-26T18:52:17.275869Z",
     "iopub.status.idle": "2025-05-26T18:52:17.280882Z",
     "shell.execute_reply": "2025-05-26T18:52:17.280176Z"
    },
    "papermill": {
     "duration": 0.010858,
     "end_time": "2025-05-26T18:52:17.282313",
     "exception": false,
     "start_time": "2025-05-26T18:52:17.271455",
     "status": "completed"
    },
    "tags": []
   },
   "outputs": [],
   "source": [
    "import string\n",
    "import unicodedata\n",
    "\n",
    "allowed_characters = string.ascii_letters + \" .,;'\" + \"_\"\n",
    "n_letters = len(allowed_characters)\n",
    "\n",
    "# Turn a Unicode string to plain ASCII, thanks to https://stackoverflow.com/a/518232/2809427\n",
    "def unicodeToAscii(s):\n",
    "    return ''.join(\n",
    "        c for c in unicodedata.normalize('NFD', s) # normalized form D (canonical decomposition)\n",
    "        if unicodedata.category(c) != 'Mn' # Mark Non-spacing\n",
    "        and c in allowed_characters\n",
    "    )"
   ]
  },
  {
   "cell_type": "code",
   "execution_count": 6,
   "id": "f69dcbef",
   "metadata": {
    "execution": {
     "iopub.execute_input": "2025-05-26T18:52:17.289693Z",
     "iopub.status.busy": "2025-05-26T18:52:17.289467Z",
     "iopub.status.idle": "2025-05-26T18:52:17.293665Z",
     "shell.execute_reply": "2025-05-26T18:52:17.293006Z"
    },
    "papermill": {
     "duration": 0.008987,
     "end_time": "2025-05-26T18:52:17.294687",
     "exception": false,
     "start_time": "2025-05-26T18:52:17.285700",
     "status": "completed"
    },
    "tags": []
   },
   "outputs": [],
   "source": [
    "# Find letter index from all_letters, e.g. \"a\" = 0\n",
    "def letterToIndex(letter):\n",
    "    if letter not in allowed_characters:\n",
    "        return allowed_characters.find(\"_\")\n",
    "    else:\n",
    "        return allowed_characters.find(letter)\n",
    "\n",
    "# Turn a line into a <line_length x 1 x n_letters>,\n",
    "# or an array of one-hot letter vectors\n",
    "def lineToTensor(line):\n",
    "    tensor = torch.zeros(len(line), 1, n_letters)\n",
    "    for li, letter in enumerate(line):\n",
    "        tensor[li][0][letterToIndex(letter)] = 1\n",
    "    return tensor"
   ]
  },
  {
   "cell_type": "code",
   "execution_count": 7,
   "id": "1ce0b2c7",
   "metadata": {
    "execution": {
     "iopub.execute_input": "2025-05-26T18:52:17.302140Z",
     "iopub.status.busy": "2025-05-26T18:52:17.301941Z",
     "iopub.status.idle": "2025-05-26T18:52:17.308549Z",
     "shell.execute_reply": "2025-05-26T18:52:17.308048Z"
    },
    "papermill": {
     "duration": 0.011396,
     "end_time": "2025-05-26T18:52:17.309501",
     "exception": false,
     "start_time": "2025-05-26T18:52:17.298105",
     "status": "completed"
    },
    "tags": []
   },
   "outputs": [],
   "source": [
    "from io import open\n",
    "import glob\n",
    "import os\n",
    "import time\n",
    "\n",
    "import torch\n",
    "from torch.utils.data import Dataset\n",
    "\n",
    "class NamesDataset(Dataset):\n",
    "\n",
    "    def __init__(self, data_dir):\n",
    "        self.data_dir = data_dir #for provenance of the dataset\n",
    "        self.load_time = time.localtime #for provenance of the dataset\n",
    "        labels_set = set() #set of all classes\n",
    "\n",
    "        self.data = []\n",
    "        self.data_tensors = []\n",
    "        self.labels = []\n",
    "        self.labels_tensors = []\n",
    "\n",
    "        #read all the ``.txt`` files in the specified directory\n",
    "        text_files = glob.glob(os.path.join(data_dir, '*.txt'))\n",
    "        for filename in text_files:\n",
    "            label = os.path.splitext(os.path.basename(filename))[0]\n",
    "            labels_set.add(label)\n",
    "            lines = open(filename, encoding='utf-8').read().strip().split('\\n')\n",
    "            for name in lines:\n",
    "                self.data.append(name)\n",
    "                self.data_tensors.append(lineToTensor(name))\n",
    "                self.labels.append(label)\n",
    "\n",
    "        #Cache the tensor representation of the labels\n",
    "        self.labels_uniq = list(labels_set)\n",
    "        for idx in range(len(self.labels)):\n",
    "            temp_tensor = torch.tensor([self.labels_uniq.index(self.labels[idx])], dtype=torch.long)\n",
    "            self.labels_tensors.append(temp_tensor)\n",
    "\n",
    "    def __len__(self):\n",
    "        return len(self.data)\n",
    "\n",
    "    def __getitem__(self, idx):\n",
    "        data_item = self.data[idx]\n",
    "        data_label = self.labels[idx]\n",
    "        data_tensor = self.data_tensors[idx]\n",
    "        label_tensor = self.labels_tensors[idx]\n",
    "\n",
    "        return label_tensor, data_tensor, data_label, data_item"
   ]
  },
  {
   "cell_type": "code",
   "execution_count": 8,
   "id": "b382121d",
   "metadata": {
    "execution": {
     "iopub.execute_input": "2025-05-26T18:52:17.316935Z",
     "iopub.status.busy": "2025-05-26T18:52:17.316718Z",
     "iopub.status.idle": "2025-05-26T18:52:18.860227Z",
     "shell.execute_reply": "2025-05-26T18:52:18.859300Z"
    },
    "papermill": {
     "duration": 1.548626,
     "end_time": "2025-05-26T18:52:18.861525",
     "exception": false,
     "start_time": "2025-05-26T18:52:17.312899",
     "status": "completed"
    },
    "tags": []
   },
   "outputs": [
    {
     "name": "stdout",
     "output_type": "stream",
     "text": [
      "loaded 20074 items of data\n",
      "example = (tensor([14]), tensor([[[0., 0., 0., 0., 0., 0., 0., 0., 0., 0., 0., 0., 0., 0., 0., 0., 0.,\n",
      "          0., 0., 0., 0., 0., 0., 0., 0., 0., 0., 0., 0., 0., 0., 0., 0., 0.,\n",
      "          0., 0., 0., 0., 0., 1., 0., 0., 0., 0., 0., 0., 0., 0., 0., 0., 0.,\n",
      "          0., 0., 0., 0., 0., 0., 0.]],\n",
      "\n",
      "        [[0., 0., 0., 0., 0., 0., 1., 0., 0., 0., 0., 0., 0., 0., 0., 0., 0.,\n",
      "          0., 0., 0., 0., 0., 0., 0., 0., 0., 0., 0., 0., 0., 0., 0., 0., 0.,\n",
      "          0., 0., 0., 0., 0., 0., 0., 0., 0., 0., 0., 0., 0., 0., 0., 0., 0.,\n",
      "          0., 0., 0., 0., 0., 0., 0.]],\n",
      "\n",
      "        [[0., 0., 0., 0., 0., 0., 0., 0., 0., 0., 0., 0., 0., 0., 0., 0., 0.,\n",
      "          0., 0., 0., 1., 0., 0., 0., 0., 0., 0., 0., 0., 0., 0., 0., 0., 0.,\n",
      "          0., 0., 0., 0., 0., 0., 0., 0., 0., 0., 0., 0., 0., 0., 0., 0., 0.,\n",
      "          0., 0., 0., 0., 0., 0., 0.]],\n",
      "\n",
      "        [[0., 0., 0., 0., 0., 0., 0., 0., 0., 0., 0., 0., 0., 0., 0., 0., 0.,\n",
      "          0., 0., 0., 0., 0., 0., 0., 1., 0., 0., 0., 0., 0., 0., 0., 0., 0.,\n",
      "          0., 0., 0., 0., 0., 0., 0., 0., 0., 0., 0., 0., 0., 0., 0., 0., 0.,\n",
      "          0., 0., 0., 0., 0., 0., 0.]],\n",
      "\n",
      "        [[0., 0., 0., 0., 1., 0., 0., 0., 0., 0., 0., 0., 0., 0., 0., 0., 0.,\n",
      "          0., 0., 0., 0., 0., 0., 0., 0., 0., 0., 0., 0., 0., 0., 0., 0., 0.,\n",
      "          0., 0., 0., 0., 0., 0., 0., 0., 0., 0., 0., 0., 0., 0., 0., 0., 0.,\n",
      "          0., 0., 0., 0., 0., 0., 0.]],\n",
      "\n",
      "        [[0., 0., 0., 0., 0., 0., 0., 0., 0., 0., 0., 0., 0., 1., 0., 0., 0.,\n",
      "          0., 0., 0., 0., 0., 0., 0., 0., 0., 0., 0., 0., 0., 0., 0., 0., 0.,\n",
      "          0., 0., 0., 0., 0., 0., 0., 0., 0., 0., 0., 0., 0., 0., 0., 0., 0.,\n",
      "          0., 0., 0., 0., 0., 0., 0.]]]), 'Vietnamese', 'Nguyen')\n"
     ]
    }
   ],
   "source": [
    "alldata = NamesDataset(\"data/names\")\n",
    "print(f\"loaded {len(alldata)} items of data\")\n",
    "print(f\"example = {alldata[0]}\")"
   ]
  },
  {
   "cell_type": "code",
   "execution_count": 9,
   "id": "99ec3e90",
   "metadata": {
    "execution": {
     "iopub.execute_input": "2025-05-26T18:52:18.869611Z",
     "iopub.status.busy": "2025-05-26T18:52:18.869359Z",
     "iopub.status.idle": "2025-05-26T18:52:18.878711Z",
     "shell.execute_reply": "2025-05-26T18:52:18.877916Z"
    },
    "papermill": {
     "duration": 0.014615,
     "end_time": "2025-05-26T18:52:18.879893",
     "exception": false,
     "start_time": "2025-05-26T18:52:18.865278",
     "status": "completed"
    },
    "tags": []
   },
   "outputs": [
    {
     "name": "stdout",
     "output_type": "stream",
     "text": [
      "train examples = 17063, validation examples = 3011\n"
     ]
    }
   ],
   "source": [
    "train_set, test_set = torch.utils.data.random_split(alldata, [.85, .15], generator=torch.Generator().manual_seed(2024))\n",
    "\n",
    "print(f\"train examples = {len(train_set)}, validation examples = {len(test_set)}\")"
   ]
  },
  {
   "cell_type": "markdown",
   "id": "5ff33348",
   "metadata": {
    "papermill": {
     "duration": 0.003328,
     "end_time": "2025-05-26T18:52:18.886939",
     "exception": false,
     "start_time": "2025-05-26T18:52:18.883611",
     "status": "completed"
    },
    "tags": []
   },
   "source": [
    "# Creating Model"
   ]
  },
  {
   "cell_type": "code",
   "execution_count": 10,
   "id": "6ee5057f",
   "metadata": {
    "execution": {
     "iopub.execute_input": "2025-05-26T18:52:18.894647Z",
     "iopub.status.busy": "2025-05-26T18:52:18.894370Z",
     "iopub.status.idle": "2025-05-26T18:52:18.899369Z",
     "shell.execute_reply": "2025-05-26T18:52:18.898846Z"
    },
    "papermill": {
     "duration": 0.010001,
     "end_time": "2025-05-26T18:52:18.900386",
     "exception": false,
     "start_time": "2025-05-26T18:52:18.890385",
     "status": "completed"
    },
    "tags": []
   },
   "outputs": [],
   "source": [
    "import torch.nn as nn\n",
    "import torch.nn.functional as F\n",
    "\n",
    "class CharRNN(nn.Module):\n",
    "    def __init__(self, input_size, hidden_size, output_size):\n",
    "        super(CharRNN, self).__init__()\n",
    "\n",
    "        self.rnn = nn.RNN(input_size, hidden_size)\n",
    "        self.h2o = nn.Linear(hidden_size, output_size)\n",
    "        self.softmax = nn.LogSoftmax(dim=1)\n",
    "\n",
    "    def forward(self, line_tensor):\n",
    "        rnn_out, hidden = self.rnn(line_tensor)\n",
    "        output = self.h2o(hidden[0])\n",
    "        output = self.softmax(output)\n",
    "\n",
    "        return output"
   ]
  },
  {
   "cell_type": "code",
   "execution_count": 11,
   "id": "56aceb8e",
   "metadata": {
    "execution": {
     "iopub.execute_input": "2025-05-26T18:52:18.907962Z",
     "iopub.status.busy": "2025-05-26T18:52:18.907756Z",
     "iopub.status.idle": "2025-05-26T18:52:18.915302Z",
     "shell.execute_reply": "2025-05-26T18:52:18.914515Z"
    },
    "papermill": {
     "duration": 0.012488,
     "end_time": "2025-05-26T18:52:18.916323",
     "exception": false,
     "start_time": "2025-05-26T18:52:18.903835",
     "status": "completed"
    },
    "tags": []
   },
   "outputs": [
    {
     "name": "stdout",
     "output_type": "stream",
     "text": [
      "CharRNN(\n",
      "  (rnn): RNN(58, 128)\n",
      "  (h2o): Linear(in_features=128, out_features=18, bias=True)\n",
      "  (softmax): LogSoftmax(dim=1)\n",
      ")\n"
     ]
    }
   ],
   "source": [
    "n_hidden = 128\n",
    "rnn = CharRNN(n_letters, n_hidden, len(alldata.labels_uniq))\n",
    "print(rnn)"
   ]
  },
  {
   "cell_type": "code",
   "execution_count": 12,
   "id": "67769e5b",
   "metadata": {
    "execution": {
     "iopub.execute_input": "2025-05-26T18:52:18.925114Z",
     "iopub.status.busy": "2025-05-26T18:52:18.924439Z",
     "iopub.status.idle": "2025-05-26T18:52:18.971148Z",
     "shell.execute_reply": "2025-05-26T18:52:18.970314Z"
    },
    "papermill": {
     "duration": 0.052327,
     "end_time": "2025-05-26T18:52:18.972212",
     "exception": false,
     "start_time": "2025-05-26T18:52:18.919885",
     "status": "completed"
    },
    "tags": []
   },
   "outputs": [
    {
     "name": "stdout",
     "output_type": "stream",
     "text": [
      "tensor([[-2.9211, -3.0156, -2.8411, -2.8341, -2.7612, -3.0362, -2.9252, -2.8670,\n",
      "         -2.9368, -2.7625, -2.8638, -2.9892, -2.8777, -2.8743, -2.9407, -2.8776,\n",
      "         -2.8981, -2.8522]], grad_fn=<LogSoftmaxBackward0>)\n",
      "('Japanese', 4)\n"
     ]
    }
   ],
   "source": [
    "def label_from_output(output, output_labels):\n",
    "    top_n, top_i = output.topk(1)\n",
    "    label_i = top_i[0].item()\n",
    "    return output_labels[label_i], label_i\n",
    "\n",
    "input = lineToTensor('Albert')\n",
    "output = rnn(input) \n",
    "print(output)\n",
    "print(label_from_output(output, alldata.labels_uniq))"
   ]
  },
  {
   "cell_type": "markdown",
   "id": "d4c028b5",
   "metadata": {
    "papermill": {
     "duration": 0.00338,
     "end_time": "2025-05-26T18:52:18.979175",
     "exception": false,
     "start_time": "2025-05-26T18:52:18.975795",
     "status": "completed"
    },
    "tags": []
   },
   "source": [
    "# Training"
   ]
  },
  {
   "cell_type": "code",
   "execution_count": 13,
   "id": "91da0969",
   "metadata": {
    "execution": {
     "iopub.execute_input": "2025-05-26T18:52:18.987029Z",
     "iopub.status.busy": "2025-05-26T18:52:18.986801Z",
     "iopub.status.idle": "2025-05-26T18:52:18.993665Z",
     "shell.execute_reply": "2025-05-26T18:52:18.992979Z"
    },
    "papermill": {
     "duration": 0.011942,
     "end_time": "2025-05-26T18:52:18.994669",
     "exception": false,
     "start_time": "2025-05-26T18:52:18.982727",
     "status": "completed"
    },
    "tags": []
   },
   "outputs": [],
   "source": [
    "import random\n",
    "import numpy as np\n",
    "\n",
    "def train(rnn, training_data, n_epoch = 10, n_batch_size = 64, report_every = 50, learning_rate = 0.2, criterion = nn.NLLLoss()):\n",
    "    \"\"\"\n",
    "    Learn on a batch of training_data for a specified number of iterations and reporting thresholds\n",
    "    \"\"\"\n",
    "    # Keep track of losses for plotting\n",
    "    current_loss = 0\n",
    "    all_losses = []\n",
    "    rnn.train()\n",
    "    optimizer = torch.optim.SGD(rnn.parameters(), lr=learning_rate)\n",
    "\n",
    "    start = time.time()\n",
    "    print(f\"training on data set with n = {len(training_data)}\")\n",
    "\n",
    "    for iter in range(1, n_epoch + 1):\n",
    "        rnn.zero_grad() # clear the gradients\n",
    "\n",
    "        # create some minibatches\n",
    "        # we cannot use dataloaders because each of our names is a different length\n",
    "        batches = list(range(len(training_data)))\n",
    "        random.shuffle(batches)\n",
    "        batches = np.array_split(batches, len(batches) //n_batch_size )\n",
    "\n",
    "        for idx, batch in enumerate(batches):\n",
    "            batch_loss = 0\n",
    "            for i in batch: #for each example in this batch\n",
    "                (label_tensor, text_tensor, label, text) = training_data[i]\n",
    "                output = rnn.forward(text_tensor)\n",
    "                loss = criterion(output, label_tensor)\n",
    "                batch_loss += loss\n",
    "\n",
    "            # optimize parameters\n",
    "            batch_loss.backward()\n",
    "            nn.utils.clip_grad_norm_(rnn.parameters(), 3)\n",
    "            optimizer.step()\n",
    "            optimizer.zero_grad()\n",
    "\n",
    "            current_loss += batch_loss.item() / len(batch)\n",
    "\n",
    "        all_losses.append(current_loss / len(batches) )\n",
    "        if iter % report_every == 0:\n",
    "            print(f\"{iter} ({iter / n_epoch:.0%}): \\t average batch loss = {all_losses[-1]}\")\n",
    "        current_loss = 0\n",
    "\n",
    "    return all_losses"
   ]
  },
  {
   "cell_type": "code",
   "execution_count": 14,
   "id": "e3e2452e",
   "metadata": {
    "execution": {
     "iopub.execute_input": "2025-05-26T18:52:19.002427Z",
     "iopub.status.busy": "2025-05-26T18:52:19.002235Z",
     "iopub.status.idle": "2025-05-26T19:00:27.661335Z",
     "shell.execute_reply": "2025-05-26T19:00:27.660524Z"
    },
    "papermill": {
     "duration": 488.66825,
     "end_time": "2025-05-26T19:00:27.666492",
     "exception": false,
     "start_time": "2025-05-26T18:52:18.998242",
     "status": "completed"
    },
    "tags": []
   },
   "outputs": [
    {
     "name": "stdout",
     "output_type": "stream",
     "text": [
      "training on data set with n = 17063\n",
      "5 (19%): \t average batch loss = 0.8754512482912573\n",
      "10 (37%): \t average batch loss = 0.692985222127963\n",
      "15 (56%): \t average batch loss = 0.5699887494981599\n",
      "20 (74%): \t average batch loss = 0.4898795594312057\n",
      "25 (93%): \t average batch loss = 0.4306966883821457\n",
      "training took 488.6551537513733s\n"
     ]
    }
   ],
   "source": [
    "start = time.time()\n",
    "all_losses = train(rnn, train_set, n_epoch=27, learning_rate=0.15, report_every=5)\n",
    "end = time.time()\n",
    "print(f\"training took {end-start}s\")"
   ]
  },
  {
   "cell_type": "markdown",
   "id": "fbab6f07",
   "metadata": {
    "papermill": {
     "duration": 0.003636,
     "end_time": "2025-05-26T19:00:27.675257",
     "exception": false,
     "start_time": "2025-05-26T19:00:27.671621",
     "status": "completed"
    },
    "tags": []
   },
   "source": [
    "## Plotting Result"
   ]
  },
  {
   "cell_type": "code",
   "execution_count": 15,
   "id": "f03d543f",
   "metadata": {
    "execution": {
     "iopub.execute_input": "2025-05-26T19:00:27.684169Z",
     "iopub.status.busy": "2025-05-26T19:00:27.683371Z",
     "iopub.status.idle": "2025-05-26T19:00:27.854018Z",
     "shell.execute_reply": "2025-05-26T19:00:27.853302Z"
    },
    "papermill": {
     "duration": 0.176231,
     "end_time": "2025-05-26T19:00:27.855203",
     "exception": false,
     "start_time": "2025-05-26T19:00:27.678972",
     "status": "completed"
    },
    "tags": []
   },
   "outputs": [
    {
     "data": {
      "image/png": "[encoded data removed]",
      "text/plain": [
       "<Figure size 640x480 with 1 Axes>"
      ]
     },
     "metadata": {},
     "output_type": "display_data"
    }
   ],
   "source": [
    "import matplotlib.pyplot as plt\n",
    "import matplotlib.ticker as ticker\n",
    "\n",
    "plt.figure()\n",
    "plt.plot(all_losses)\n",
    "plt.show()"
   ]
  },
  {
   "cell_type": "markdown",
   "id": "0d18ebd1",
   "metadata": {
    "papermill": {
     "duration": 0.003998,
     "end_time": "2025-05-26T19:00:27.863590",
     "exception": false,
     "start_time": "2025-05-26T19:00:27.859592",
     "status": "completed"
    },
    "tags": []
   },
   "source": [
    "## Evaluating Result"
   ]
  },
  {
   "cell_type": "code",
   "execution_count": 16,
   "id": "4f1b59b4",
   "metadata": {
    "execution": {
     "iopub.execute_input": "2025-05-26T19:00:27.873009Z",
     "iopub.status.busy": "2025-05-26T19:00:27.872322Z",
     "iopub.status.idle": "2025-05-26T19:00:29.156305Z",
     "shell.execute_reply": "2025-05-26T19:00:29.155579Z"
    },
    "papermill": {
     "duration": 1.289927,
     "end_time": "2025-05-26T19:00:29.157566",
     "exception": false,
     "start_time": "2025-05-26T19:00:27.867639",
     "status": "completed"
    },
    "tags": []
   },
   "outputs": [
    {
     "data": {
      "image/png": "[encoded data removed]",
      "text/plain": [
       "<Figure size 640x480 with 2 Axes>"
      ]
     },
     "metadata": {},
     "output_type": "display_data"
    }
   ],
   "source": [
    "def evaluate(rnn, testing_data, classes):\n",
    "    confusion = torch.zeros(len(classes), len(classes))\n",
    "\n",
    "    rnn.eval() #set to eval mode\n",
    "    with torch.no_grad(): # do not record the gradients during eval phase\n",
    "        for i in range(len(testing_data)):\n",
    "            (label_tensor, text_tensor, label, text) = testing_data[i]\n",
    "            output = rnn(text_tensor)\n",
    "            guess, guess_i = label_from_output(output, classes)\n",
    "            label_i = classes.index(label)\n",
    "            confusion[label_i][guess_i] += 1\n",
    "\n",
    "    # Normalize by dividing every row by its sum\n",
    "    for i in range(len(classes)):\n",
    "        denom = confusion[i].sum()\n",
    "        if denom > 0:\n",
    "            confusion[i] = confusion[i] / denom\n",
    "\n",
    "    # Set up plot\n",
    "    fig = plt.figure()\n",
    "    ax = fig.add_subplot(111)\n",
    "    cax = ax.matshow(confusion.cpu().numpy()) #numpy uses cpu here so we need to use a cpu version\n",
    "    fig.colorbar(cax)\n",
    "\n",
    "    # Set up axes\n",
    "    ax.set_xticks(np.arange(len(classes)), labels=classes, rotation=90)\n",
    "    ax.set_yticks(np.arange(len(classes)), labels=classes)\n",
    "\n",
    "    # Force label at every tick\n",
    "    ax.xaxis.set_major_locator(ticker.MultipleLocator(1))\n",
    "    ax.yaxis.set_major_locator(ticker.MultipleLocator(1))\n",
    "\n",
    "    # sphinx_gallery_thumbnail_number = 2\n",
    "    plt.show()\n",
    "\n",
    "\n",
    "\n",
    "evaluate(rnn, test_set, classes=alldata.labels_uniq)"
   ]
  },
  {
   "cell_type": "code",
   "execution_count": null,
   "id": "481bfe03",
   "metadata": {
    "papermill": {
     "duration": 0.004576,
     "end_time": "2025-05-26T19:00:29.167727",
     "exception": false,
     "start_time": "2025-05-26T19:00:29.163151",
     "status": "completed"
    },
    "tags": []
   },
   "outputs": [],
   "source": []
  }
 ],
 "metadata": {
  "kaggle": {
   "accelerator": "gpu",
   "dataSources": [],
   "dockerImageVersionId": 31041,
   "isGpuEnabled": true,
   "isInternetEnabled": true,
   "language": "python",
   "sourceType": "notebook"
  },
  "kernelspec": {
   "display_name": "Python 3",
   "language": "python",
   "name": "python3"
  },
  "language_info": {
   "codemirror_mode": {
    "name": "ipython",
    "version": 3
   },
   "file_extension": ".py",
   "mimetype": "text/x-python",
   "name": "python",
   "nbconvert_exporter": "python",
   "pygments_lexer": "ipython3",
   "version": "3.11.11"
  },
  "papermill": {
   "default_parameters": {},
   "duration": 504.420494,
   "end_time": "2025-05-26T19:00:32.283014",
   "environment_variables": {},
   "exception": null,
   "input_path": "__notebook__.ipynb",
   "output_path": "__notebook__.ipynb",
   "parameters": {},
   "start_time": "2025-05-26T18:52:07.862520",
   "version": "2.6.0"
  }
 },
 "nbformat": 4,
 "nbformat_minor": 5
}
