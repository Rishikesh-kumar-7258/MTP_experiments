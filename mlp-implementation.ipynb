{
 "cells": [
  {
   "cell_type": "code",
   "execution_count": 1,
   "id": "91c08830",
   "metadata": {
    "_cell_guid": "b1076dfc-b9ad-4769-8c92-a6c4dae69d19",
    "_uuid": "8f2839f25d086af736a60e9eeb907d3b93b6e0e5",
    "execution": {
     "iopub.execute_input": "2025-06-01T20:56:08.807559Z",
     "iopub.status.busy": "2025-06-01T20:56:08.807252Z",
     "iopub.status.idle": "2025-06-01T20:56:08.813297Z",
     "shell.execute_reply": "2025-06-01T20:56:08.812630Z"
    },
    "papermill": {
     "duration": 0.012257,
     "end_time": "2025-06-01T20:56:08.814367",
     "exception": false,
     "start_time": "2025-06-01T20:56:08.802110",
     "status": "completed"
    },
    "tags": []
   },
   "outputs": [],
   "source": [
    "import numpy as np"
   ]
  },
  {
   "cell_type": "markdown",
   "id": "d1dc13e4",
   "metadata": {
    "papermill": {
     "duration": 0.003045,
     "end_time": "2025-06-01T20:56:08.821021",
     "exception": false,
     "start_time": "2025-06-01T20:56:08.817976",
     "status": "completed"
    },
    "tags": []
   },
   "source": [
    "## MLP Implemenation\n",
    "exception handling skipped"
   ]
  },
  {
   "cell_type": "code",
   "execution_count": 2,
   "id": "4a656d9e",
   "metadata": {
    "execution": {
     "iopub.execute_input": "2025-06-01T20:56:08.828357Z",
     "iopub.status.busy": "2025-06-01T20:56:08.827808Z",
     "iopub.status.idle": "2025-06-01T20:56:08.835630Z",
     "shell.execute_reply": "2025-06-01T20:56:08.835094Z"
    },
    "papermill": {
     "duration": 0.012454,
     "end_time": "2025-06-01T20:56:08.836603",
     "exception": false,
     "start_time": "2025-06-01T20:56:08.824149",
     "status": "completed"
    },
    "tags": []
   },
   "outputs": [],
   "source": [
    "class NeuralNetwork():\n",
    "    def __init__(self, sizes):\n",
    "        self.layers = len(sizes) # number of layers, including input and output layers\n",
    "        self.sizes = sizes       # number of neurons in each layers. Its a vector\n",
    "        self.weights = [np.random.rand(self.sizes[i-1], self.sizes[i]) for i in range(1, self.layers)]\n",
    "        self.bias =  [np.random.rand(s, 1) for s in self.sizes[1:]]\n",
    "\n",
    "    # forward propagation function\n",
    "    def forward(self, x):\n",
    "        for w, b in list(zip(self.weights, self.bias)):\n",
    "            x = self.sigmoid(w.T @ x + b)\n",
    "        return x\n",
    "\n",
    "    # backward propagation function\n",
    "    def backprop(self, x, y):\n",
    "        nabla_w = [np.zeros(w.shape) for w in self.weights]\n",
    "        nabla_b =  [np.zeros(b.shape) for b in self.bias]\n",
    "        deltas = [np.zeros(w.shape) for w in self.weights]\n",
    "\n",
    "        # forward propagation\n",
    "        activation = x\n",
    "        activations = [x]\n",
    "        zs = []\n",
    "\n",
    "        for w, b in list(zip(self.weights, self.bias)):\n",
    "            z = w.T @ activation + b\n",
    "            zs.append(z)\n",
    "            activation = self.sigmoid(z)\n",
    "            activations.append(activation)\n",
    "\n",
    "        # backprop\n",
    "        deltas[-1] = 2 * (activations[-1] - y)\n",
    "\n",
    "        for i in range(self.layers-2, -1, -1):\n",
    "            diag_zs_prime = np.diag(self.sigmoid_prime(zs[i]).flatten())\n",
    "            delta = diag_zs_prime.T @ deltas[i]\n",
    "            nabla_w[i] = activations[i] @ delta.T\n",
    "            nabla_b[i] = delta\n",
    "\n",
    "            v = self.weights[i] @ diag_zs_prime\n",
    "            deltas[i-1] = v @ deltas[i]\n",
    "\n",
    "        # for nw, nb in list(zip(nabla_w, nabla_b)):\n",
    "        #     print(nw.shape, nb.shape, end=\" \")\n",
    "        # print()\n",
    "            \n",
    "        return (nabla_w, nabla_b)\n",
    "\n",
    "\n",
    "    def sigmoid(self, x):\n",
    "        return 1 / (1 + np.exp(-x))\n",
    "\n",
    "    def sigmoid_prime(self, x):\n",
    "        return np.exp(x) / ((1 + np.exp(x)) ** 2)"
   ]
  },
  {
   "cell_type": "markdown",
   "id": "269a31ff",
   "metadata": {
    "papermill": {
     "duration": 0.002866,
     "end_time": "2025-06-01T20:56:08.842495",
     "exception": false,
     "start_time": "2025-06-01T20:56:08.839629",
     "status": "completed"
    },
    "tags": []
   },
   "source": [
    "## Gradient Descent Implementation"
   ]
  },
  {
   "cell_type": "code",
   "execution_count": 3,
   "id": "395bac68",
   "metadata": {
    "execution": {
     "iopub.execute_input": "2025-06-01T20:56:08.849291Z",
     "iopub.status.busy": "2025-06-01T20:56:08.849113Z",
     "iopub.status.idle": "2025-06-01T20:56:08.854817Z",
     "shell.execute_reply": "2025-06-01T20:56:08.854291Z"
    },
    "papermill": {
     "duration": 0.010373,
     "end_time": "2025-06-01T20:56:08.855795",
     "exception": false,
     "start_time": "2025-06-01T20:56:08.845422",
     "status": "completed"
    },
    "tags": []
   },
   "outputs": [],
   "source": [
    "def SGD(model, x, y, step_length, n_epochs=1000):\n",
    "    \n",
    "    for i in range(n_epochs):\n",
    "\n",
    "        e = 0\n",
    "        nabla_w = [np.zeros(w.shape) for w in model.weights]\n",
    "        nabla_b = [np.zeros(b.shape) for b in model.bias]\n",
    "        \n",
    "        for xi, yi in list(zip(x, y)):\n",
    "            xi = np.array(xi).reshape(-1, 1)\n",
    "            yi = np.array(yi).reshape(-1, 1)\n",
    "            \n",
    "            # forward propagation\n",
    "            y_hat = model.forward(xi)\n",
    "            e = np.sum((y_hat - yi) ** 2)\n",
    "\n",
    "            # backward propagation\n",
    "            delta_nabla_w, delta_nabla_b = model.backprop(xi, yi)\n",
    "            nabla_w = [nw + dnw for nw, dnw in list(zip(nabla_w, delta_nabla_w))]\n",
    "            nabla_b = [nb + dnb for nb, dnb in list(zip(nabla_b, delta_nabla_b))]\n",
    "            \n",
    "        model.weights = [mw - step_length * nw for mw, nw in list(zip(model.weights, nabla_w))]\n",
    "        model.bias = [mb - step_length * nb for mb, nb in list(zip(model.bias, nabla_b))]\n",
    "\n",
    "    \n",
    "        if i %100 == 0:\n",
    "            print(f\"Epoch {i}: Error : {e}\")"
   ]
  },
  {
   "cell_type": "markdown",
   "id": "aa55934b",
   "metadata": {
    "papermill": {
     "duration": 0.002864,
     "end_time": "2025-06-01T20:56:08.861724",
     "exception": false,
     "start_time": "2025-06-01T20:56:08.858860",
     "status": "completed"
    },
    "tags": []
   },
   "source": [
    "## Verification"
   ]
  },
  {
   "cell_type": "code",
   "execution_count": 4,
   "id": "b0c1c687",
   "metadata": {
    "execution": {
     "iopub.execute_input": "2025-06-01T20:56:08.868306Z",
     "iopub.status.busy": "2025-06-01T20:56:08.868115Z",
     "iopub.status.idle": "2025-06-01T20:56:10.081619Z",
     "shell.execute_reply": "2025-06-01T20:56:10.080789Z"
    },
    "papermill": {
     "duration": 1.21821,
     "end_time": "2025-06-01T20:56:10.082848",
     "exception": false,
     "start_time": "2025-06-01T20:56:08.864638",
     "status": "completed"
    },
    "tags": []
   },
   "outputs": [
    {
     "name": "stdout",
     "output_type": "stream",
     "text": [
      "(1000, 4) <class 'numpy.ndarray'>\n",
      "(1000, 4) <class 'numpy.ndarray'>\n"
     ]
    }
   ],
   "source": [
    "from sklearn.datasets import make_multilabel_classification\n",
    "\n",
    "data = make_multilabel_classification(n_samples=1000, n_classes=4, n_features=4, random_state=42)\n",
    "X, y = data\n",
    "X = np.asarray(X)\n",
    "y = np.asarray(y)\n",
    "print(X.shape, type(X))\n",
    "print(y.shape, type(y))"
   ]
  },
  {
   "cell_type": "code",
   "execution_count": 5,
   "id": "4f89429c",
   "metadata": {
    "execution": {
     "iopub.execute_input": "2025-06-01T20:56:10.090936Z",
     "iopub.status.busy": "2025-06-01T20:56:10.090341Z",
     "iopub.status.idle": "2025-06-01T20:56:10.094281Z",
     "shell.execute_reply": "2025-06-01T20:56:10.093531Z"
    },
    "papermill": {
     "duration": 0.008929,
     "end_time": "2025-06-01T20:56:10.095235",
     "exception": false,
     "start_time": "2025-06-01T20:56:10.086306",
     "status": "completed"
    },
    "tags": []
   },
   "outputs": [
    {
     "name": "stdout",
     "output_type": "stream",
     "text": [
      "<__main__.NeuralNetwork object at 0x78679311f0d0>\n"
     ]
    }
   ],
   "source": [
    "sizes = [X.shape[1], 8, 4]\n",
    "model = NeuralNetwork(sizes)\n",
    "print(model)"
   ]
  },
  {
   "cell_type": "code",
   "execution_count": 6,
   "id": "5bccba90",
   "metadata": {
    "execution": {
     "iopub.execute_input": "2025-06-01T20:56:10.102525Z",
     "iopub.status.busy": "2025-06-01T20:56:10.102312Z",
     "iopub.status.idle": "2025-06-01T20:57:40.259586Z",
     "shell.execute_reply": "2025-06-01T20:57:40.258989Z"
    },
    "papermill": {
     "duration": 90.162432,
     "end_time": "2025-06-01T20:57:40.261053",
     "exception": false,
     "start_time": "2025-06-01T20:56:10.098621",
     "status": "completed"
    },
    "tags": []
   },
   "outputs": [
    {
     "name": "stdout",
     "output_type": "stream",
     "text": [
      "Epoch 0: Error : 0.0009383297409809988\n",
      "Epoch 100: Error : 2.999052152368393\n",
      "Epoch 200: Error : 1.9998791945480483\n",
      "Epoch 300: Error : 2.9923970417264263\n",
      "Epoch 400: Error : 2.996583513659261\n",
      "Epoch 500: Error : 2.9606000889749047\n",
      "Epoch 600: Error : 2.2166296808464216\n",
      "Epoch 700: Error : 2.0326860106227462\n",
      "Epoch 800: Error : 2.993684048746437\n",
      "Epoch 900: Error : 1.9975152147811244\n"
     ]
    }
   ],
   "source": [
    "n_epochs = 1000\n",
    "step_length = 0.01\n",
    "SGD(model, X, y, step_length, n_epochs)"
   ]
  },
  {
   "cell_type": "code",
   "execution_count": 7,
   "id": "367a244e",
   "metadata": {
    "execution": {
     "iopub.execute_input": "2025-06-01T20:57:40.269595Z",
     "iopub.status.busy": "2025-06-01T20:57:40.269344Z",
     "iopub.status.idle": "2025-06-01T20:57:40.290285Z",
     "shell.execute_reply": "2025-06-01T20:57:40.288942Z"
    },
    "papermill": {
     "duration": 0.02685,
     "end_time": "2025-06-01T20:57:40.291944",
     "exception": false,
     "start_time": "2025-06-01T20:57:40.265094",
     "status": "completed"
    },
    "tags": []
   },
   "outputs": [
    {
     "name": "stdout",
     "output_type": "stream",
     "text": [
      "[[2.56668243e-05]\n",
      " [9.99726962e-01]\n",
      " [7.31222506e-04]\n",
      " [6.55017236e-05]] [0 1 0 0]\n",
      "[[2.56665089e-05]\n",
      " [9.99726964e-01]\n",
      " [7.31219736e-04]\n",
      " [6.55013645e-05]] [0 0 0 0]\n",
      "[[2.56665197e-05]\n",
      " [9.99726964e-01]\n",
      " [7.31220017e-04]\n",
      " [6.55013870e-05]] [0 0 1 0]\n",
      "[[2.56665149e-05]\n",
      " [9.99726964e-01]\n",
      " [7.31219765e-04]\n",
      " [6.55013710e-05]] [1 1 1 1]\n",
      "[[2.56666920e-05]\n",
      " [9.99726962e-01]\n",
      " [7.31223112e-04]\n",
      " [6.55016005e-05]] [1 1 1 1]\n",
      "[[2.56665927e-05]\n",
      " [9.99726963e-01]\n",
      " [7.31220853e-04]\n",
      " [6.55014932e-05]] [0 1 0 1]\n",
      "[[2.56666597e-05]\n",
      " [9.99726963e-01]\n",
      " [7.31221429e-04]\n",
      " [6.55015485e-05]] [0 1 1 1]\n",
      "[[2.56665217e-05]\n",
      " [9.99726964e-01]\n",
      " [7.31219998e-04]\n",
      " [6.55013815e-05]] [0 0 0 0]\n",
      "[[2.56665531e-05]\n",
      " [9.99726963e-01]\n",
      " [7.31220165e-04]\n",
      " [6.55014178e-05]] [0 1 1 0]\n",
      "[[2.56665211e-05]\n",
      " [9.99726964e-01]\n",
      " [7.31219935e-04]\n",
      " [6.55013848e-05]] [0 0 1 0]\n",
      "[[2.56665129e-05]\n",
      " [9.99726964e-01]\n",
      " [7.31219817e-04]\n",
      " [6.55013721e-05]] [0 0 1 1]\n",
      "[[2.56667988e-05]\n",
      " [9.99726961e-01]\n",
      " [7.31226121e-04]\n",
      " [6.55017505e-05]] [1 0 0 0]\n",
      "[[2.56666570e-05]\n",
      " [9.99726963e-01]\n",
      " [7.31222160e-04]\n",
      " [6.55015739e-05]] [0 0 0 0]\n",
      "[[2.56665457e-05]\n",
      " [9.99726964e-01]\n",
      " [7.31220442e-04]\n",
      " [6.55014251e-05]] [1 0 1 1]\n",
      "[[2.56666033e-05]\n",
      " [9.99726963e-01]\n",
      " [7.31221870e-04]\n",
      " [6.55014919e-05]] [0 0 0 0]\n",
      "[[2.56665991e-05]\n",
      " [9.99726963e-01]\n",
      " [7.31220534e-04]\n",
      " [6.55014684e-05]] [1 1 1 0]\n",
      "[[2.56685968e-05]\n",
      " [9.99726945e-01]\n",
      " [7.31267566e-04]\n",
      " [6.55041594e-05]] [1 0 0 0]\n",
      "[[2.56665506e-05]\n",
      " [9.99726964e-01]\n",
      " [7.31220116e-04]\n",
      " [6.55014137e-05]] [1 1 1 0]\n",
      "[[2.56665100e-05]\n",
      " [9.99726964e-01]\n",
      " [7.31219775e-04]\n",
      " [6.55013680e-05]] [1 0 1 1]\n",
      "[[2.56667521e-05]\n",
      " [9.99726962e-01]\n",
      " [7.31226592e-04]\n",
      " [6.55018478e-05]] [1 1 1 0]\n",
      "[[2.56665119e-05]\n",
      " [9.99726964e-01]\n",
      " [7.31219736e-04]\n",
      " [6.55013675e-05]] [0 1 0 1]\n",
      "[[2.56693465e-05]\n",
      " [9.99726943e-01]\n",
      " [7.31251656e-04]\n",
      " [6.55050133e-05]] [0 0 1 0]\n",
      "[[2.56665511e-05]\n",
      " [9.99726964e-01]\n",
      " [7.31220093e-04]\n",
      " [6.55014127e-05]] [1 1 0 0]\n",
      "[[2.56665938e-05]\n",
      " [9.99726963e-01]\n",
      " [7.31221316e-04]\n",
      " [6.55014967e-05]] [1 1 1 1]\n",
      "[[2.56675109e-05]\n",
      " [9.99726956e-01]\n",
      " [7.31233213e-04]\n",
      " [6.55025834e-05]] [0 1 0 1]\n",
      "[[2.56665361e-05]\n",
      " [9.99726964e-01]\n",
      " [7.31220129e-04]\n",
      " [6.55013970e-05]] [0 1 0 0]\n",
      "[[2.56665659e-05]\n",
      " [9.99726963e-01]\n",
      " [7.31220197e-04]\n",
      " [6.55014285e-05]] [0 1 1 0]\n",
      "[[2.56666997e-05]\n",
      " [9.99726962e-01]\n",
      " [7.31221397e-04]\n",
      " [6.55015810e-05]] [0 1 0 0]\n",
      "[[2.56666394e-05]\n",
      " [9.99726963e-01]\n",
      " [7.31221907e-04]\n",
      " [6.55015403e-05]] [1 1 1 1]\n",
      "[[2.56665106e-05]\n",
      " [9.99726964e-01]\n",
      " [7.31219734e-04]\n",
      " [6.55013665e-05]] [0 1 1 0]\n",
      "[[2.56684560e-05]\n",
      " [9.99726950e-01]\n",
      " [7.31236583e-04]\n",
      " [6.55035718e-05]] [0 1 0 0]\n",
      "[[2.56667748e-05]\n",
      " [9.99726962e-01]\n",
      " [7.31222309e-04]\n",
      " [6.55016783e-05]] [1 1 1 0]\n",
      "[[2.56699856e-05]\n",
      " [9.99726939e-01]\n",
      " [7.31249767e-04]\n",
      " [6.55053074e-05]] [0 1 0 0]\n",
      "[[2.56666234e-05]\n",
      " [9.99726963e-01]\n",
      " [7.31222286e-04]\n",
      " [6.55015522e-05]] [0 0 1 1]\n",
      "[[2.56665080e-05]\n",
      " [9.99726964e-01]\n",
      " [7.31219704e-04]\n",
      " [6.55013631e-05]] [0 1 1 1]\n",
      "[[2.56670278e-05]\n",
      " [9.99726960e-01]\n",
      " [7.31225593e-04]\n",
      " [6.55020219e-05]] [1 0 1 0]\n",
      "[[2.56665091e-05]\n",
      " [9.99726964e-01]\n",
      " [7.31219716e-04]\n",
      " [6.55013645e-05]] [0 1 0 1]\n",
      "[[2.56665072e-05]\n",
      " [9.99726964e-01]\n",
      " [7.31219694e-04]\n",
      " [6.55013620e-05]] [0 1 1 1]\n",
      "[[2.56672984e-05]\n",
      " [9.99726958e-01]\n",
      " [7.31226761e-04]\n",
      " [6.55022716e-05]] [1 0 1 0]\n",
      "[[2.56674724e-05]\n",
      " [9.99726957e-01]\n",
      " [7.31228820e-04]\n",
      " [6.55024945e-05]] [1 1 1 1]\n",
      "[[2.56666313e-05]\n",
      " [9.99726963e-01]\n",
      " [7.31220965e-04]\n",
      " [6.55015123e-05]] [1 1 1 0]\n",
      "[[2.56668896e-05]\n",
      " [9.99726961e-01]\n",
      " [7.31224073e-04]\n",
      " [6.55018126e-05]] [0 1 0 1]\n",
      "[[2.56665094e-05]\n",
      " [9.99726964e-01]\n",
      " [7.31219738e-04]\n",
      " [6.55013655e-05]] [1 1 1 1]\n",
      "[[2.56666815e-05]\n",
      " [9.99726962e-01]\n",
      " [7.31223039e-04]\n",
      " [6.55016331e-05]] [1 0 1 0]\n",
      "[[2.56665141e-05]\n",
      " [9.99726964e-01]\n",
      " [7.31219760e-04]\n",
      " [6.55013702e-05]] [0 1 1 0]\n",
      "[[2.56672302e-05]\n",
      " [9.99726957e-01]\n",
      " [7.31230667e-04]\n",
      " [6.55024378e-05]] [0 0 0 1]\n",
      "[[2.56670431e-05]\n",
      " [9.99726960e-01]\n",
      " [7.31224265e-04]\n",
      " [6.55019670e-05]] [0 1 0 0]\n",
      "[[2.56665073e-05]\n",
      " [9.99726964e-01]\n",
      " [7.31219696e-04]\n",
      " [6.55013622e-05]] [1 1 1 1]\n",
      "[[2.56666248e-05]\n",
      " [9.99726963e-01]\n",
      " [7.31221290e-04]\n",
      " [6.55015056e-05]] [1 1 0 1]\n",
      "[[2.56665127e-05]\n",
      " [9.99726964e-01]\n",
      " [7.31219767e-04]\n",
      " [6.55013696e-05]] [0 0 1 1]\n",
      "[[2.56665338e-05]\n",
      " [9.99726964e-01]\n",
      " [7.31219938e-04]\n",
      " [6.55013927e-05]] [0 1 0 1]\n",
      "[[2.56667149e-05]\n",
      " [9.99726962e-01]\n",
      " [7.31221502e-04]\n",
      " [6.55015972e-05]] [0 1 0 0]\n",
      "[[2.56665448e-05]\n",
      " [9.99726963e-01]\n",
      " [7.31220503e-04]\n",
      " [6.55014145e-05]] [0 0 0 0]\n",
      "[[2.56665737e-05]\n",
      " [9.99726963e-01]\n",
      " [7.31220267e-04]\n",
      " [6.55014374e-05]] [0 1 0 0]\n",
      "[[2.56665184e-05]\n",
      " [9.99726964e-01]\n",
      " [7.31219925e-04]\n",
      " [6.55013761e-05]] [1 1 0 0]\n",
      "[[2.56697885e-05]\n",
      " [9.99726934e-01]\n",
      " [7.31295389e-04]\n",
      " [6.55055968e-05]] [1 0 0 1]\n",
      "[[2.56665130e-05]\n",
      " [9.99726964e-01]\n",
      " [7.31219746e-04]\n",
      " [6.55013687e-05]] [0 1 1 1]\n",
      "[[2.56668990e-05]\n",
      " [9.99726960e-01]\n",
      " [7.31228618e-04]\n",
      " [6.55018755e-05]] [1 1 1 1]\n",
      "[[2.56665081e-05]\n",
      " [9.99726964e-01]\n",
      " [7.31219713e-04]\n",
      " [6.55013632e-05]] [0 1 0 1]\n",
      "[[2.56665308e-05]\n",
      " [9.99726964e-01]\n",
      " [7.31219963e-04]\n",
      " [6.55013901e-05]] [0 1 0 1]\n",
      "[[2.56665885e-05]\n",
      " [9.99726963e-01]\n",
      " [7.31221065e-04]\n",
      " [6.55014867e-05]] [1 1 1 1]\n",
      "[[2.56665175e-05]\n",
      " [9.99726964e-01]\n",
      " [7.31219788e-04]\n",
      " [6.55013740e-05]] [0 1 0 0]\n",
      "[[2.56683184e-05]\n",
      " [9.99726951e-01]\n",
      " [7.31235350e-04]\n",
      " [6.55034081e-05]] [0 1 0 0]\n",
      "[[2.56680355e-05]\n",
      " [9.99726953e-01]\n",
      " [7.31235125e-04]\n",
      " [6.55031848e-05]] [1 1 1 0]\n",
      "[[2.56665720e-05]\n",
      " [9.99726963e-01]\n",
      " [7.31220876e-04]\n",
      " [6.55014521e-05]] [0 1 0 1]\n",
      "[[2.56665107e-05]\n",
      " [9.99726964e-01]\n",
      " [7.31219774e-04]\n",
      " [6.55013670e-05]] [1 0 0 0]\n",
      "[[2.56668137e-05]\n",
      " [9.99726962e-01]\n",
      " [7.31222711e-04]\n",
      " [6.55017289e-05]] [0 1 1 0]\n",
      "[[2.56665304e-05]\n",
      " [9.99726964e-01]\n",
      " [7.31220060e-04]\n",
      " [6.55013967e-05]] [0 1 1 0]\n",
      "[[2.56666703e-05]\n",
      " [9.99726963e-01]\n",
      " [7.31221083e-04]\n",
      " [6.55015461e-05]] [0 1 0 0]\n",
      "[[2.56665138e-05]\n",
      " [9.99726964e-01]\n",
      " [7.31219813e-04]\n",
      " [6.55013728e-05]] [0 0 1 0]\n",
      "[[2.56665105e-05]\n",
      " [9.99726964e-01]\n",
      " [7.31219768e-04]\n",
      " [6.55013672e-05]] [0 0 0 0]\n",
      "[[2.56686979e-05]\n",
      " [9.99726944e-01]\n",
      " [7.31269052e-04]\n",
      " [6.55042554e-05]] [1 1 0 0]\n",
      "[[2.56665202e-05]\n",
      " [9.99726964e-01]\n",
      " [7.31219946e-04]\n",
      " [6.55013836e-05]] [1 1 1 1]\n",
      "[[2.56665168e-05]\n",
      " [9.99726964e-01]\n",
      " [7.31219889e-04]\n",
      " [6.55013779e-05]] [1 0 1 1]\n",
      "[[2.56669404e-05]\n",
      " [9.99726961e-01]\n",
      " [7.31226025e-04]\n",
      " [6.55019670e-05]] [1 1 1 1]\n",
      "[[2.56665106e-05]\n",
      " [9.99726964e-01]\n",
      " [7.31219763e-04]\n",
      " [6.55013668e-05]] [0 1 1 1]\n",
      "[[2.56665076e-05]\n",
      " [9.99726964e-01]\n",
      " [7.31219699e-04]\n",
      " [6.55013627e-05]] [0 1 0 1]\n",
      "[[2.56668652e-05]\n",
      " [9.99726961e-01]\n",
      " [7.31228672e-04]\n",
      " [6.55019143e-05]] [1 0 0 0]\n",
      "[[2.56674621e-05]\n",
      " [9.99726955e-01]\n",
      " [7.31242996e-04]\n",
      " [6.55027213e-05]] [1 0 0 0]\n",
      "[[2.56693995e-05]\n",
      " [9.99726942e-01]\n",
      " [7.31252269e-04]\n",
      " [6.55047146e-05]] [0 1 0 0]\n",
      "[[2.56676791e-05]\n",
      " [9.99726953e-01]\n",
      " [7.31232794e-04]\n",
      " [6.55032364e-05]] [0 0 0 1]\n",
      "[[2.56670100e-05]\n",
      " [9.99726960e-01]\n",
      " [7.31224166e-04]\n",
      " [6.55019364e-05]] [0 1 0 0]\n",
      "[[2.56665152e-05]\n",
      " [9.99726964e-01]\n",
      " [7.31219910e-04]\n",
      " [6.55013762e-05]] [0 0 0 0]\n",
      "[[2.56665253e-05]\n",
      " [9.99726964e-01]\n",
      " [7.31219871e-04]\n",
      " [6.55013831e-05]] [1 1 1 1]\n",
      "[[2.56665195e-05]\n",
      " [9.99726964e-01]\n",
      " [7.31219921e-04]\n",
      " [6.55013822e-05]] [0 0 1 0]\n",
      "[[2.56665257e-05]\n",
      " [9.99726964e-01]\n",
      " [7.31219985e-04]\n",
      " [6.55013871e-05]] [1 1 0 1]\n",
      "[[2.56683833e-05]\n",
      " [9.99726950e-01]\n",
      " [7.31235883e-04]\n",
      " [6.55034835e-05]] [0 1 0 0]\n",
      "[[2.56668038e-05]\n",
      " [9.99726961e-01]\n",
      " [7.31222817e-04]\n",
      " [6.55018492e-05]] [0 0 0 0]\n",
      "[[2.56665085e-05]\n",
      " [9.99726964e-01]\n",
      " [7.31219725e-04]\n",
      " [6.55013641e-05]] [0 0 0 0]\n",
      "[[2.56666841e-05]\n",
      " [9.99726962e-01]\n",
      " [7.31223654e-04]\n",
      " [6.55015944e-05]] [1 1 0 0]\n",
      "[[2.56665366e-05]\n",
      " [9.99726964e-01]\n",
      " [7.31219952e-04]\n",
      " [6.55013956e-05]] [1 1 1 0]\n",
      "[[2.56665155e-05]\n",
      " [9.99726964e-01]\n",
      " [7.31219808e-04]\n",
      " [6.55013722e-05]] [0 1 0 1]\n",
      "[[2.56665085e-05]\n",
      " [9.99726964e-01]\n",
      " [7.31219729e-04]\n",
      " [6.55013646e-05]] [0 0 0 0]\n",
      "[[2.56665219e-05]\n",
      " [9.99726964e-01]\n",
      " [7.31219914e-04]\n",
      " [6.55013823e-05]] [0 1 0 1]\n",
      "[[2.56670315e-05]\n",
      " [9.99726960e-01]\n",
      " [7.31224153e-04]\n",
      " [6.55019533e-05]] [0 1 0 0]\n",
      "[[2.56665411e-05]\n",
      " [9.99726964e-01]\n",
      " [7.31220136e-04]\n",
      " [6.55014144e-05]] [0 0 0 1]\n",
      "[[2.56665092e-05]\n",
      " [9.99726964e-01]\n",
      " [7.31219746e-04]\n",
      " [6.55013661e-05]] [0 0 1 0]\n",
      "[[2.56665109e-05]\n",
      " [9.99726964e-01]\n",
      " [7.31219735e-04]\n",
      " [6.55013666e-05]] [1 1 1 1]\n",
      "[[2.56665920e-05]\n",
      " [9.99726963e-01]\n",
      " [7.31221628e-04]\n",
      " [6.55014695e-05]] [1 0 0 1]\n",
      "[[2.56665503e-05]\n",
      " [9.99726963e-01]\n",
      " [7.31220579e-04]\n",
      " [6.55014189e-05]] [1 0 0 1]\n"
     ]
    }
   ],
   "source": [
    "X_test = X[:100]\n",
    "y_test = y[:100]\n",
    "\n",
    "\n",
    "for i in range(100):\n",
    "    xt = X_test[i].reshape(-1, 1)\n",
    "    y_hat = model.forward(xt)\n",
    "    print(y_hat, y_test[i])"
   ]
  },
  {
   "cell_type": "code",
   "execution_count": 8,
   "id": "276ba5f9",
   "metadata": {
    "execution": {
     "iopub.execute_input": "2025-06-01T20:57:40.304407Z",
     "iopub.status.busy": "2025-06-01T20:57:40.304224Z",
     "iopub.status.idle": "2025-06-01T20:57:40.307588Z",
     "shell.execute_reply": "2025-06-01T20:57:40.306998Z"
    },
    "papermill": {
     "duration": 0.009689,
     "end_time": "2025-06-01T20:57:40.308586",
     "exception": false,
     "start_time": "2025-06-01T20:57:40.298897",
     "status": "completed"
    },
    "tags": []
   },
   "outputs": [],
   "source": [
    "# sizes = [5, 6, 7, 2]\n",
    "# layers = len(sizes)\n",
    "\n",
    "# weight = [np.random.rand(sizes[i-1], sizes[i]) for i in range(1, layers)]\n",
    "# bias =  [np.random.rand(s) for s in sizes[1:]]\n",
    "\n",
    "# print(weight)\n",
    "# print(bias)\n",
    "# model = NeuralNetwork(np.array([4, 8, 8, 3]))\n",
    "# x = np.random.rand(4)\n",
    "# print(\"Input:\")\n",
    "# print(x)\n",
    "# output = model.forward(x)\n",
    "# print(\"\\nOutput:\")\n",
    "# print(output)\n",
    "\n",
    "# y = np.array([[1, 2, 3, 5]])\n",
    "# print(y.shape)\n",
    "# y = y.reshape(1, 4)\n",
    "# print(y)\n",
    "\n",
    "# y = np.array([1, 2, 3, 4])\n",
    "# print(y.shape)\n",
    "# # y = y.reshape(1, -1)\n",
    "# # print(y.shape)\n",
    "\n",
    "# a = np.zeros((4, 1))\n",
    "# print(a.shape)\n",
    "# # print(a.shape == y.shape)\n",
    "\n",
    "# sub = y - a\n",
    "# print(sub)\n",
    "\n",
    "# a = np.array([1, 2, 3, 4])\n",
    "# diag = np.eye(len(a))\n",
    "# a = diag * a\n",
    "# print(a)"
   ]
  },
  {
   "cell_type": "markdown",
   "id": "3f502ddf",
   "metadata": {
    "papermill": {
     "duration": 0.003531,
     "end_time": "2025-06-01T20:57:40.315863",
     "exception": false,
     "start_time": "2025-06-01T20:57:40.312332",
     "status": "completed"
    },
    "tags": []
   },
   "source": [
    "# Using Pytorch for MLP"
   ]
  },
  {
   "cell_type": "code",
   "execution_count": 9,
   "id": "1a6108eb",
   "metadata": {
    "execution": {
     "iopub.execute_input": "2025-06-01T20:57:40.323897Z",
     "iopub.status.busy": "2025-06-01T20:57:40.323722Z",
     "iopub.status.idle": "2025-06-01T20:57:49.439010Z",
     "shell.execute_reply": "2025-06-01T20:57:49.438151Z"
    },
    "papermill": {
     "duration": 9.121205,
     "end_time": "2025-06-01T20:57:49.440665",
     "exception": false,
     "start_time": "2025-06-01T20:57:40.319460",
     "status": "completed"
    },
    "tags": []
   },
   "outputs": [],
   "source": [
    "import torch\n",
    "import torch.nn as nn\n",
    "import torch.optim as optim\n",
    "import torch.nn.functional as F\n",
    "from torch.utils.data import DataLoader\n",
    "from torchvision import datasets, transforms\n",
    "import matplotlib.pyplot as plt"
   ]
  },
  {
   "cell_type": "code",
   "execution_count": 10,
   "id": "1bf401e3",
   "metadata": {
    "execution": {
     "iopub.execute_input": "2025-06-01T20:57:49.449872Z",
     "iopub.status.busy": "2025-06-01T20:57:49.449313Z",
     "iopub.status.idle": "2025-06-01T20:57:49.512282Z",
     "shell.execute_reply": "2025-06-01T20:57:49.511486Z"
    },
    "papermill": {
     "duration": 0.068634,
     "end_time": "2025-06-01T20:57:49.513447",
     "exception": false,
     "start_time": "2025-06-01T20:57:49.444813",
     "status": "completed"
    },
    "tags": []
   },
   "outputs": [
    {
     "name": "stdout",
     "output_type": "stream",
     "text": [
      "Using device: cuda\n"
     ]
    }
   ],
   "source": [
    "# Set device\n",
    "device = torch.device('cuda' if torch.cuda.is_available() else 'cpu')\n",
    "print(f'Using device: {device}')"
   ]
  },
  {
   "cell_type": "code",
   "execution_count": 11,
   "id": "55f591b2",
   "metadata": {
    "execution": {
     "iopub.execute_input": "2025-06-01T20:57:49.522120Z",
     "iopub.status.busy": "2025-06-01T20:57:49.521926Z",
     "iopub.status.idle": "2025-06-01T20:57:49.526998Z",
     "shell.execute_reply": "2025-06-01T20:57:49.526412Z"
    },
    "papermill": {
     "duration": 0.010477,
     "end_time": "2025-06-01T20:57:49.527999",
     "exception": false,
     "start_time": "2025-06-01T20:57:49.517522",
     "status": "completed"
    },
    "tags": []
   },
   "outputs": [],
   "source": [
    "# Define the MLP model with 2 hidden layers\n",
    "class MLP(nn.Module):\n",
    "    def __init__(self, input_size=784, hidden1_size=512, hidden2_size=256, output_size=10):\n",
    "        super(MLP, self).__init__()\n",
    "        self.fc1 = nn.Linear(input_size, hidden1_size)\n",
    "        self.fc2 = nn.Linear(hidden1_size, hidden2_size)\n",
    "        self.fc3 = nn.Linear(hidden2_size, output_size)\n",
    "        self.dropout = nn.Dropout(0.2)\n",
    "        \n",
    "    def forward(self, x):\n",
    "        # Flatten the input\n",
    "        x = x.view(x.size(0), -1)\n",
    "        \n",
    "        # First hidden layer\n",
    "        x = F.relu(self.fc1(x))\n",
    "        x = self.dropout(x)\n",
    "        \n",
    "        # Second hidden layer\n",
    "        x = F.relu(self.fc2(x))\n",
    "        x = self.dropout(x)\n",
    "        \n",
    "        # Output layer\n",
    "        x = self.fc3(x)\n",
    "        return x"
   ]
  },
  {
   "cell_type": "code",
   "execution_count": 12,
   "id": "dcc2b3be",
   "metadata": {
    "execution": {
     "iopub.execute_input": "2025-06-01T20:57:49.536430Z",
     "iopub.status.busy": "2025-06-01T20:57:49.536066Z",
     "iopub.status.idle": "2025-06-01T20:57:51.206823Z",
     "shell.execute_reply": "2025-06-01T20:57:51.206017Z"
    },
    "papermill": {
     "duration": 1.676281,
     "end_time": "2025-06-01T20:57:51.208085",
     "exception": false,
     "start_time": "2025-06-01T20:57:49.531804",
     "status": "completed"
    },
    "tags": []
   },
   "outputs": [
    {
     "name": "stderr",
     "output_type": "stream",
     "text": [
      "100%|██████████| 9.91M/9.91M [00:00<00:00, 57.3MB/s]\n",
      "100%|██████████| 28.9k/28.9k [00:00<00:00, 1.47MB/s]\n",
      "100%|██████████| 1.65M/1.65M [00:00<00:00, 15.2MB/s]\n",
      "100%|██████████| 4.54k/4.54k [00:00<00:00, 8.51MB/s]\n"
     ]
    }
   ],
   "source": [
    "# Data preprocessing and loading\n",
    "transform = transforms.Compose([\n",
    "    transforms.ToTensor(),\n",
    "    transforms.Normalize((0.1307,), (0.3081,))  # MNIST mean and std\n",
    "])\n",
    "\n",
    "# Load MNIST dataset\n",
    "train_dataset = datasets.MNIST(root='./data', train=True, download=True, transform=transform)\n",
    "test_dataset = datasets.MNIST(root='./data', train=False, download=True, transform=transform)"
   ]
  },
  {
   "cell_type": "code",
   "execution_count": 13,
   "id": "217a0a4e",
   "metadata": {
    "execution": {
     "iopub.execute_input": "2025-06-01T20:57:51.218152Z",
     "iopub.status.busy": "2025-06-01T20:57:51.217941Z",
     "iopub.status.idle": "2025-06-01T20:57:51.386057Z",
     "shell.execute_reply": "2025-06-01T20:57:51.385166Z"
    },
    "papermill": {
     "duration": 0.174342,
     "end_time": "2025-06-01T20:57:51.387255",
     "exception": false,
     "start_time": "2025-06-01T20:57:51.212913",
     "status": "completed"
    },
    "tags": []
   },
   "outputs": [
    {
     "name": "stdout",
     "output_type": "stream",
     "text": [
      "Model architecture:\n",
      "MLP(\n",
      "  (fc1): Linear(in_features=784, out_features=512, bias=True)\n",
      "  (fc2): Linear(in_features=512, out_features=256, bias=True)\n",
      "  (fc3): Linear(in_features=256, out_features=10, bias=True)\n",
      "  (dropout): Dropout(p=0.2, inplace=False)\n",
      ")\n"
     ]
    }
   ],
   "source": [
    "# Create data loaders\n",
    "batch_size = 128\n",
    "train_loader = DataLoader(train_dataset, batch_size=batch_size, shuffle=True)\n",
    "test_loader = DataLoader(test_dataset, batch_size=batch_size, shuffle=False)\n",
    "\n",
    "# Initialize the model\n",
    "model = MLP().to(device)\n",
    "print(f'Model architecture:\\n{model}')\n",
    "\n",
    "# Define loss function and optimizer\n",
    "criterion = nn.CrossEntropyLoss()\n",
    "optimizer = optim.Adam(model.parameters(), lr=0.001)"
   ]
  },
  {
   "cell_type": "code",
   "execution_count": 14,
   "id": "02b792c4",
   "metadata": {
    "execution": {
     "iopub.execute_input": "2025-06-01T20:57:51.397851Z",
     "iopub.status.busy": "2025-06-01T20:57:51.397629Z",
     "iopub.status.idle": "2025-06-01T20:57:51.405422Z",
     "shell.execute_reply": "2025-06-01T20:57:51.404906Z"
    },
    "papermill": {
     "duration": 0.014314,
     "end_time": "2025-06-01T20:57:51.406531",
     "exception": false,
     "start_time": "2025-06-01T20:57:51.392217",
     "status": "completed"
    },
    "tags": []
   },
   "outputs": [],
   "source": [
    "# Training function\n",
    "def train(model, device, train_loader, optimizer, criterion, epoch):\n",
    "    model.train()\n",
    "    running_loss = 0.0\n",
    "    correct = 0\n",
    "    total = 0\n",
    "    \n",
    "    for batch_idx, (data, target) in enumerate(train_loader):\n",
    "        data, target = data.to(device), target.to(device)\n",
    "        \n",
    "        # Zero the gradients\n",
    "        optimizer.zero_grad()\n",
    "        \n",
    "        # Forward pass\n",
    "        output = model(data)\n",
    "        loss = criterion(output, target)\n",
    "        \n",
    "        # Backward pass\n",
    "        loss.backward()\n",
    "        optimizer.step()\n",
    "        \n",
    "        # Statistics\n",
    "        running_loss += loss.item()\n",
    "        _, predicted = torch.max(output.data, 1)\n",
    "        total += target.size(0)\n",
    "        correct += (predicted == target).sum().item()\n",
    "        \n",
    "        if batch_idx % 100 == 0:\n",
    "            print(f'Train Epoch: {epoch} [{batch_idx * len(data)}/{len(train_loader.dataset)} '\n",
    "                  f'({100. * batch_idx / len(train_loader):.0f}%)]\\tLoss: {loss.item():.6f}')\n",
    "    \n",
    "    avg_loss = running_loss / len(train_loader)\n",
    "    accuracy = 100. * correct / total\n",
    "    return avg_loss, accuracy\n",
    "\n",
    "# Testing function\n",
    "def test(model, device, test_loader, criterion):\n",
    "    model.eval()\n",
    "    test_loss = 0\n",
    "    correct = 0\n",
    "    total = 0\n",
    "    \n",
    "    with torch.no_grad():\n",
    "        for data, target in test_loader:\n",
    "            data, target = data.to(device), target.to(device)\n",
    "            output = model(data)\n",
    "            test_loss += criterion(output, target).item()\n",
    "            \n",
    "            _, predicted = torch.max(output.data, 1)\n",
    "            total += target.size(0)\n",
    "            correct += (predicted == target).sum().item()\n",
    "    \n",
    "    test_loss /= len(test_loader)\n",
    "    accuracy = 100. * correct / total\n",
    "    \n",
    "    print(f'Test set: Average loss: {test_loss:.4f}, '\n",
    "          f'Accuracy: {correct}/{total} ({accuracy:.2f}%)')\n",
    "    \n",
    "    return test_loss, accuracy"
   ]
  },
  {
   "cell_type": "code",
   "execution_count": 15,
   "id": "6d6479db",
   "metadata": {
    "execution": {
     "iopub.execute_input": "2025-06-01T20:57:51.416519Z",
     "iopub.status.busy": "2025-06-01T20:57:51.416288Z",
     "iopub.status.idle": "2025-06-01T20:59:51.901177Z",
     "shell.execute_reply": "2025-06-01T20:59:51.900319Z"
    },
    "papermill": {
     "duration": 120.491274,
     "end_time": "2025-06-01T20:59:51.902450",
     "exception": false,
     "start_time": "2025-06-01T20:57:51.411176",
     "status": "completed"
    },
    "tags": []
   },
   "outputs": [
    {
     "name": "stdout",
     "output_type": "stream",
     "text": [
      "Starting training...\n",
      "Train Epoch: 1 [0/60000 (0%)]\tLoss: 2.307523\n",
      "Train Epoch: 1 [12800/60000 (21%)]\tLoss: 0.255038\n",
      "Train Epoch: 1 [25600/60000 (43%)]\tLoss: 0.228494\n",
      "Train Epoch: 1 [38400/60000 (64%)]\tLoss: 0.211094\n",
      "Train Epoch: 1 [51200/60000 (85%)]\tLoss: 0.157705\n",
      "Test set: Average loss: 0.1150, Accuracy: 9651/10000 (96.51%)\n",
      "Epoch 1: Train Loss: 0.2573, Train Acc: 92.11%, Test Loss: 0.1150, Test Acc: 96.51%\n",
      "\n",
      "Train Epoch: 2 [0/60000 (0%)]\tLoss: 0.156967\n",
      "Train Epoch: 2 [12800/60000 (21%)]\tLoss: 0.097618\n",
      "Train Epoch: 2 [25600/60000 (43%)]\tLoss: 0.073155\n",
      "Train Epoch: 2 [38400/60000 (64%)]\tLoss: 0.123575\n",
      "Train Epoch: 2 [51200/60000 (85%)]\tLoss: 0.040790\n",
      "Test set: Average loss: 0.0815, Accuracy: 9718/10000 (97.18%)\n",
      "Epoch 2: Train Loss: 0.1094, Train Acc: 96.59%, Test Loss: 0.0815, Test Acc: 97.18%\n",
      "\n",
      "Train Epoch: 3 [0/60000 (0%)]\tLoss: 0.131632\n",
      "Train Epoch: 3 [12800/60000 (21%)]\tLoss: 0.030282\n",
      "Train Epoch: 3 [25600/60000 (43%)]\tLoss: 0.051102\n",
      "Train Epoch: 3 [38400/60000 (64%)]\tLoss: 0.071099\n",
      "Train Epoch: 3 [51200/60000 (85%)]\tLoss: 0.011657\n",
      "Test set: Average loss: 0.0758, Accuracy: 9755/10000 (97.55%)\n",
      "Epoch 3: Train Loss: 0.0824, Train Acc: 97.42%, Test Loss: 0.0758, Test Acc: 97.55%\n",
      "\n",
      "Train Epoch: 4 [0/60000 (0%)]\tLoss: 0.076487\n",
      "Train Epoch: 4 [12800/60000 (21%)]\tLoss: 0.065233\n",
      "Train Epoch: 4 [25600/60000 (43%)]\tLoss: 0.036410\n",
      "Train Epoch: 4 [38400/60000 (64%)]\tLoss: 0.111416\n",
      "Train Epoch: 4 [51200/60000 (85%)]\tLoss: 0.027392\n",
      "Test set: Average loss: 0.0630, Accuracy: 9803/10000 (98.03%)\n",
      "Epoch 4: Train Loss: 0.0654, Train Acc: 97.92%, Test Loss: 0.0630, Test Acc: 98.03%\n",
      "\n",
      "Train Epoch: 5 [0/60000 (0%)]\tLoss: 0.017226\n",
      "Train Epoch: 5 [12800/60000 (21%)]\tLoss: 0.086248\n",
      "Train Epoch: 5 [25600/60000 (43%)]\tLoss: 0.018597\n",
      "Train Epoch: 5 [38400/60000 (64%)]\tLoss: 0.095893\n",
      "Train Epoch: 5 [51200/60000 (85%)]\tLoss: 0.079089\n",
      "Test set: Average loss: 0.0641, Accuracy: 9809/10000 (98.09%)\n",
      "Epoch 5: Train Loss: 0.0553, Train Acc: 98.23%, Test Loss: 0.0641, Test Acc: 98.09%\n",
      "\n",
      "Train Epoch: 6 [0/60000 (0%)]\tLoss: 0.063611\n",
      "Train Epoch: 6 [12800/60000 (21%)]\tLoss: 0.074672\n",
      "Train Epoch: 6 [25600/60000 (43%)]\tLoss: 0.070563\n",
      "Train Epoch: 6 [38400/60000 (64%)]\tLoss: 0.020301\n",
      "Train Epoch: 6 [51200/60000 (85%)]\tLoss: 0.033835\n",
      "Test set: Average loss: 0.0589, Accuracy: 9835/10000 (98.35%)\n",
      "Epoch 6: Train Loss: 0.0482, Train Acc: 98.49%, Test Loss: 0.0589, Test Acc: 98.35%\n",
      "\n",
      "Train Epoch: 7 [0/60000 (0%)]\tLoss: 0.087493\n",
      "Train Epoch: 7 [12800/60000 (21%)]\tLoss: 0.020020\n",
      "Train Epoch: 7 [25600/60000 (43%)]\tLoss: 0.032206\n",
      "Train Epoch: 7 [38400/60000 (64%)]\tLoss: 0.041498\n",
      "Train Epoch: 7 [51200/60000 (85%)]\tLoss: 0.061018\n",
      "Test set: Average loss: 0.0713, Accuracy: 9788/10000 (97.88%)\n",
      "Epoch 7: Train Loss: 0.0434, Train Acc: 98.56%, Test Loss: 0.0713, Test Acc: 97.88%\n",
      "\n",
      "Train Epoch: 8 [0/60000 (0%)]\tLoss: 0.044503\n",
      "Train Epoch: 8 [12800/60000 (21%)]\tLoss: 0.037174\n",
      "Train Epoch: 8 [25600/60000 (43%)]\tLoss: 0.047203\n",
      "Train Epoch: 8 [38400/60000 (64%)]\tLoss: 0.045457\n",
      "Train Epoch: 8 [51200/60000 (85%)]\tLoss: 0.054762\n",
      "Test set: Average loss: 0.0571, Accuracy: 9831/10000 (98.31%)\n",
      "Epoch 8: Train Loss: 0.0399, Train Acc: 98.69%, Test Loss: 0.0571, Test Acc: 98.31%\n",
      "\n",
      "Train Epoch: 9 [0/60000 (0%)]\tLoss: 0.062810\n",
      "Train Epoch: 9 [12800/60000 (21%)]\tLoss: 0.009240\n",
      "Train Epoch: 9 [25600/60000 (43%)]\tLoss: 0.024323\n",
      "Train Epoch: 9 [38400/60000 (64%)]\tLoss: 0.081806\n",
      "Train Epoch: 9 [51200/60000 (85%)]\tLoss: 0.031509\n",
      "Test set: Average loss: 0.0640, Accuracy: 9814/10000 (98.14%)\n",
      "Epoch 9: Train Loss: 0.0377, Train Acc: 98.83%, Test Loss: 0.0640, Test Acc: 98.14%\n",
      "\n",
      "Train Epoch: 10 [0/60000 (0%)]\tLoss: 0.034241\n",
      "Train Epoch: 10 [12800/60000 (21%)]\tLoss: 0.011205\n",
      "Train Epoch: 10 [25600/60000 (43%)]\tLoss: 0.030630\n",
      "Train Epoch: 10 [38400/60000 (64%)]\tLoss: 0.030062\n",
      "Train Epoch: 10 [51200/60000 (85%)]\tLoss: 0.023932\n",
      "Test set: Average loss: 0.0775, Accuracy: 9803/10000 (98.03%)\n",
      "Epoch 10: Train Loss: 0.0333, Train Acc: 98.94%, Test Loss: 0.0775, Test Acc: 98.03%\n",
      "\n"
     ]
    }
   ],
   "source": [
    "# Training loop\n",
    "num_epochs = 10\n",
    "train_losses = []\n",
    "train_accuracies = []\n",
    "test_losses = []\n",
    "test_accuracies = []\n",
    "\n",
    "print(\"Starting training...\")\n",
    "for epoch in range(1, num_epochs + 1):\n",
    "    # Train\n",
    "    train_loss, train_acc = train(model, device, train_loader, optimizer, criterion, epoch)\n",
    "    train_losses.append(train_loss)\n",
    "    train_accuracies.append(train_acc)\n",
    "    \n",
    "    # Test\n",
    "    test_loss, test_acc = test(model, device, test_loader, criterion)\n",
    "    test_losses.append(test_loss)\n",
    "    test_accuracies.append(test_acc)\n",
    "    \n",
    "    print(f'Epoch {epoch}: Train Loss: {train_loss:.4f}, Train Acc: {train_acc:.2f}%, '\n",
    "          f'Test Loss: {test_loss:.4f}, Test Acc: {test_acc:.2f}%\\n')"
   ]
  },
  {
   "cell_type": "code",
   "execution_count": 16,
   "id": "ad4e2e3c",
   "metadata": {
    "execution": {
     "iopub.execute_input": "2025-06-01T20:59:51.916568Z",
     "iopub.status.busy": "2025-06-01T20:59:51.916309Z",
     "iopub.status.idle": "2025-06-01T20:59:52.352274Z",
     "shell.execute_reply": "2025-06-01T20:59:52.351632Z"
    },
    "papermill": {
     "duration": 0.444448,
     "end_time": "2025-06-01T20:59:52.353708",
     "exception": false,
     "start_time": "2025-06-01T20:59:51.909260",
     "status": "completed"
    },
    "tags": []
   },
   "outputs": [
    {
     "data": {
      "image/png": "[encoded data removed]",
      "text/plain": [
       "<Figure size 1200x400 with 2 Axes>"
      ]
     },
     "metadata": {},
     "output_type": "display_data"
    }
   ],
   "source": [
    "# Plot training history\n",
    "fig, (ax1, ax2) = plt.subplots(1, 2, figsize=(12, 4))\n",
    "\n",
    "# Loss plot\n",
    "ax1.plot(range(1, num_epochs + 1), train_losses, 'b-', label='Training Loss')\n",
    "ax1.plot(range(1, num_epochs + 1), test_losses, 'r-', label='Test Loss')\n",
    "ax1.set_xlabel('Epoch')\n",
    "ax1.set_ylabel('Loss')\n",
    "ax1.set_title('Training and Test Loss')\n",
    "ax1.legend()\n",
    "ax1.grid(True)\n",
    "\n",
    "# Accuracy plot\n",
    "ax2.plot(range(1, num_epochs + 1), train_accuracies, 'b-', label='Training Accuracy')\n",
    "ax2.plot(range(1, num_epochs + 1), test_accuracies, 'r-', label='Test Accuracy')\n",
    "ax2.set_xlabel('Epoch')\n",
    "ax2.set_ylabel('Accuracy (%)')\n",
    "ax2.set_title('Training and Test Accuracy')\n",
    "ax2.legend()\n",
    "ax2.grid(True)\n",
    "\n",
    "plt.tight_layout()\n",
    "plt.show()"
   ]
  },
  {
   "cell_type": "code",
   "execution_count": 17,
   "id": "75876dcb",
   "metadata": {
    "execution": {
     "iopub.execute_input": "2025-06-01T20:59:52.369629Z",
     "iopub.status.busy": "2025-06-01T20:59:52.369341Z",
     "iopub.status.idle": "2025-06-01T20:59:52.378212Z",
     "shell.execute_reply": "2025-06-01T20:59:52.377452Z"
    },
    "papermill": {
     "duration": 0.017877,
     "end_time": "2025-06-01T20:59:52.379281",
     "exception": false,
     "start_time": "2025-06-01T20:59:52.361404",
     "status": "completed"
    },
    "tags": []
   },
   "outputs": [
    {
     "name": "stdout",
     "output_type": "stream",
     "text": [
      "Model saved as 'mnist_mlp_model.pth'\n"
     ]
    }
   ],
   "source": [
    "# Save the trained model\n",
    "torch.save(model.state_dict(), 'mnist_mlp_model.pth')\n",
    "print(\"Model saved as 'mnist_mlp_model.pth'\")"
   ]
  },
  {
   "cell_type": "code",
   "execution_count": 18,
   "id": "6232813d",
   "metadata": {
    "execution": {
     "iopub.execute_input": "2025-06-01T20:59:52.394616Z",
     "iopub.status.busy": "2025-06-01T20:59:52.394388Z",
     "iopub.status.idle": "2025-06-01T20:59:52.639887Z",
     "shell.execute_reply": "2025-06-01T20:59:52.639033Z"
    },
    "papermill": {
     "duration": 0.254526,
     "end_time": "2025-06-01T20:59:52.641097",
     "exception": false,
     "start_time": "2025-06-01T20:59:52.386571",
     "status": "completed"
    },
    "tags": []
   },
   "outputs": [
    {
     "data": {
      "image/png": "[encoded data removed]",
      "text/plain": [
       "<Figure size 1200x300 with 5 Axes>"
      ]
     },
     "metadata": {},
     "output_type": "display_data"
    },
    {
     "name": "stdout",
     "output_type": "stream",
     "text": [
      "\n",
      "Final Test Accuracy: 98.03%\n"
     ]
    }
   ],
   "source": [
    "# Test on a few samples\n",
    "def visualize_predictions(model, test_loader, device, num_samples=5):\n",
    "    model.eval()\n",
    "    data_iter = iter(test_loader)\n",
    "    images, labels = next(data_iter)\n",
    "    \n",
    "    with torch.no_grad():\n",
    "        images = images.to(device)\n",
    "        outputs = model(images)\n",
    "        _, predicted = torch.max(outputs, 1)\n",
    "    \n",
    "    # Plot some test images with predictions\n",
    "    fig, axes = plt.subplots(1, num_samples, figsize=(12, 3))\n",
    "    for i in range(num_samples):\n",
    "        axes[i].imshow(images[i].cpu().squeeze(), cmap='gray')\n",
    "        axes[i].set_title(f'True: {labels[i].item()}, Pred: {predicted[i].item()}')\n",
    "        axes[i].axis('off')\n",
    "    plt.show()\n",
    "\n",
    "# Visualize some predictions\n",
    "visualize_predictions(model, test_loader, device)\n",
    "\n",
    "print(f\"\\nFinal Test Accuracy: {test_accuracies[-1]:.2f}%\")"
   ]
  }
 ],
 "metadata": {
  "kaggle": {
   "accelerator": "gpu",
   "dataSources": [],
   "dockerImageVersionId": 31040,
   "isGpuEnabled": true,
   "isInternetEnabled": true,
   "language": "python",
   "sourceType": "notebook"
  },
  "kernelspec": {
   "display_name": "Python 3",
   "language": "python",
   "name": "python3"
  },
  "language_info": {
   "codemirror_mode": {
    "name": "ipython",
    "version": 3
   },
   "file_extension": ".py",
   "mimetype": "text/x-python",
   "name": "python",
   "nbconvert_exporter": "python",
   "pygments_lexer": "ipython3",
   "version": "3.11.11"
  },
  "papermill": {
   "default_parameters": {},
   "duration": 230.330304,
   "end_time": "2025-06-01T20:59:55.001340",
   "environment_variables": {},
   "exception": null,
   "input_path": "__notebook__.ipynb",
   "output_path": "__notebook__.ipynb",
   "parameters": {},
   "start_time": "2025-06-01T20:56:04.671036",
   "version": "2.6.0"
  }
 },
 "nbformat": 4,
 "nbformat_minor": 5
}
