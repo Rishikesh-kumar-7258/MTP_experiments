{
 "cells": [
  {
   "cell_type": "code",
   "execution_count": 1,
   "id": "c18df67b",
   "metadata": {
    "_cell_guid": "b1076dfc-b9ad-4769-8c92-a6c4dae69d19",
    "_uuid": "8f2839f25d086af736a60e9eeb907d3b93b6e0e5",
    "execution": {
     "iopub.execute_input": "2025-06-04T20:18:12.370865Z",
     "iopub.status.busy": "2025-06-04T20:18:12.370595Z",
     "iopub.status.idle": "2025-06-04T20:18:53.718039Z",
     "shell.execute_reply": "2025-06-04T20:18:53.717458Z"
    },
    "papermill": {
     "duration": 41.35618,
     "end_time": "2025-06-04T20:18:53.719567",
     "exception": false,
     "start_time": "2025-06-04T20:18:12.363387",
     "status": "completed"
    },
    "tags": []
   },
   "outputs": [],
   "source": [
    "import numpy as np\n",
    "import torch\n",
    "import torch.nn as nn\n",
    "from torch import optim\n",
    "import torch.nn.functional as F\n",
    "import math\n",
    "import gensim.downloader as gd\n",
    "from torch.utils.data import Dataset, DataLoader\n",
    "from tokenizers import Tokenizer\n",
    "from datasets import load_dataset"
   ]
  },
  {
   "cell_type": "markdown",
   "id": "e7766a64",
   "metadata": {
    "papermill": {
     "duration": 0.005097,
     "end_time": "2025-06-04T20:18:53.731908",
     "exception": false,
     "start_time": "2025-06-04T20:18:53.726811",
     "status": "completed"
    },
    "tags": []
   },
   "source": [
    "# Data Preparation"
   ]
  },
  {
   "cell_type": "markdown",
   "id": "862abce3",
   "metadata": {
    "papermill": {
     "duration": 0.00481,
     "end_time": "2025-06-04T20:18:53.742015",
     "exception": false,
     "start_time": "2025-06-04T20:18:53.737205",
     "status": "completed"
    },
    "tags": []
   },
   "source": [
    "## Tokenizing text"
   ]
  },
  {
   "cell_type": "code",
   "execution_count": 2,
   "id": "263979b5",
   "metadata": {
    "execution": {
     "iopub.execute_input": "2025-06-04T20:18:53.753292Z",
     "iopub.status.busy": "2025-06-04T20:18:53.752753Z",
     "iopub.status.idle": "2025-06-04T20:18:53.812558Z",
     "shell.execute_reply": "2025-06-04T20:18:53.811897Z"
    },
    "papermill": {
     "duration": 0.066743,
     "end_time": "2025-06-04T20:18:53.813735",
     "exception": false,
     "start_time": "2025-06-04T20:18:53.746992",
     "status": "completed"
    },
    "tags": []
   },
   "outputs": [],
   "source": [
    "tokenizer = Tokenizer.from_file(\"/kaggle/input/hindi-english-tokenizer/bpe_tokenizer.json\")"
   ]
  },
  {
   "cell_type": "code",
   "execution_count": 3,
   "id": "7ff0df86",
   "metadata": {
    "execution": {
     "iopub.execute_input": "2025-06-04T20:18:53.825695Z",
     "iopub.status.busy": "2025-06-04T20:18:53.825165Z",
     "iopub.status.idle": "2025-06-04T20:18:53.836847Z",
     "shell.execute_reply": "2025-06-04T20:18:53.836142Z"
    },
    "papermill": {
     "duration": 0.018567,
     "end_time": "2025-06-04T20:18:53.837911",
     "exception": false,
     "start_time": "2025-06-04T20:18:53.819344",
     "status": "completed"
    },
    "tags": []
   },
   "outputs": [
    {
     "name": "stdout",
     "output_type": "stream",
     "text": [
      "Tokens: ['आप', 'कैसे', 'हैं', '?', 'how', 'are', 'you', '?']\n",
      "IDs: [1113, 3750, 904, 37, 1904, 923, 892, 37]\n"
     ]
    }
   ],
   "source": [
    "encoded = tokenizer.encode(\"आप कैसे हैं? How are you ?\")\n",
    "print(\"Tokens:\", encoded.tokens)\n",
    "print(\"IDs:\", encoded.ids)"
   ]
  },
  {
   "cell_type": "markdown",
   "id": "e90986b9",
   "metadata": {
    "papermill": {
     "duration": 0.005034,
     "end_time": "2025-06-04T20:18:53.848640",
     "exception": false,
     "start_time": "2025-06-04T20:18:53.843606",
     "status": "completed"
    },
    "tags": []
   },
   "source": [
    "## Transformer Model Implementation"
   ]
  },
  {
   "cell_type": "markdown",
   "id": "2e6fdf6d",
   "metadata": {
    "papermill": {
     "duration": 0.004818,
     "end_time": "2025-06-04T20:18:53.858505",
     "exception": false,
     "start_time": "2025-06-04T20:18:53.853687",
     "status": "completed"
    },
    "tags": []
   },
   "source": [
    "### Embedding Layer"
   ]
  },
  {
   "cell_type": "code",
   "execution_count": 4,
   "id": "9a930097",
   "metadata": {
    "execution": {
     "iopub.execute_input": "2025-06-04T20:18:53.869389Z",
     "iopub.status.busy": "2025-06-04T20:18:53.869096Z",
     "iopub.status.idle": "2025-06-04T20:18:53.873285Z",
     "shell.execute_reply": "2025-06-04T20:18:53.872684Z"
    },
    "papermill": {
     "duration": 0.010878,
     "end_time": "2025-06-04T20:18:53.874338",
     "exception": false,
     "start_time": "2025-06-04T20:18:53.863460",
     "status": "completed"
    },
    "tags": []
   },
   "outputs": [],
   "source": [
    "class EmbeddingLayer(nn.Module):\n",
    "    def __init__(self, vocab_size, d_model):\n",
    "        super(EmbeddingLayer, self).__init__()\n",
    "        self.model = nn.Embedding(vocab_size, d_model)\n",
    "\n",
    "    def forward(self, x):\n",
    "        return self.model(x)"
   ]
  },
  {
   "cell_type": "markdown",
   "id": "aedb5ee9",
   "metadata": {
    "papermill": {
     "duration": 0.00488,
     "end_time": "2025-06-04T20:18:53.884342",
     "exception": false,
     "start_time": "2025-06-04T20:18:53.879462",
     "status": "completed"
    },
    "tags": []
   },
   "source": [
    "### Positional Encoding "
   ]
  },
  {
   "cell_type": "code",
   "execution_count": 5,
   "id": "198c24ed",
   "metadata": {
    "execution": {
     "iopub.execute_input": "2025-06-04T20:18:53.895610Z",
     "iopub.status.busy": "2025-06-04T20:18:53.895329Z",
     "iopub.status.idle": "2025-06-04T20:18:53.900777Z",
     "shell.execute_reply": "2025-06-04T20:18:53.900204Z"
    },
    "papermill": {
     "duration": 0.012396,
     "end_time": "2025-06-04T20:18:53.901817",
     "exception": false,
     "start_time": "2025-06-04T20:18:53.889421",
     "status": "completed"
    },
    "tags": []
   },
   "outputs": [],
   "source": [
    "class PositionalEncoding(nn.Module):\n",
    "    def __init__(self, max_seq_length, d_model):\n",
    "        super(PositionalEncoding, self).__init__() # skip the positionalEncoding inside super (after python 3)\n",
    "\n",
    "        matrix = torch.zeros(max_seq_length, d_model)\n",
    "        val = torch.Tensor([pos / (10000 ** ((2*i) / d_model)) for pos in torch.arange(max_seq_length) for i in torch.arange(0, d_model, 2)]).reshape(max_seq_length, d_model//2)\n",
    "        matrix[:, 0::2] = torch.sin(val)\n",
    "        matrix[:, 1::2] = torch.cos(val)\n",
    "\n",
    "        self.register_buffer('matrix', matrix)\n",
    "\n",
    "    def forward(self, x):\n",
    "        seq_len = x.size(1)\n",
    "        pe = self.matrix[:seq_len, :].unsqueeze(0).to(x.device)  # shape: [1, seq_len, d_model]\n",
    "        return x + pe"
   ]
  },
  {
   "cell_type": "markdown",
   "id": "ad204495",
   "metadata": {
    "papermill": {
     "duration": 0.004822,
     "end_time": "2025-06-04T20:18:53.911870",
     "exception": false,
     "start_time": "2025-06-04T20:18:53.907048",
     "status": "completed"
    },
    "tags": []
   },
   "source": [
    "### Self attention block"
   ]
  },
  {
   "cell_type": "code",
   "execution_count": 6,
   "id": "4392295d",
   "metadata": {
    "execution": {
     "iopub.execute_input": "2025-06-04T20:18:53.922985Z",
     "iopub.status.busy": "2025-06-04T20:18:53.922743Z",
     "iopub.status.idle": "2025-06-04T20:18:53.928030Z",
     "shell.execute_reply": "2025-06-04T20:18:53.927510Z"
    },
    "papermill": {
     "duration": 0.012135,
     "end_time": "2025-06-04T20:18:53.929021",
     "exception": false,
     "start_time": "2025-06-04T20:18:53.916886",
     "status": "completed"
    },
    "tags": []
   },
   "outputs": [],
   "source": [
    "class SelfAttention(nn.Module):\n",
    "    def __init__(self, d_model, d_k, d_v):\n",
    "        super(SelfAttention, self).__init__() \n",
    "        self.d_k = d_k\n",
    "        self.d_v = d_v\n",
    "        self.d_model = d_model\n",
    "        \n",
    "        self.w_q = nn.Linear(d_model, d_k)\n",
    "        self.w_k = nn.Linear(d_model, d_k)\n",
    "        self.w_v = nn.Linear(d_model, d_v)\n",
    "\n",
    "    def forward(self, q, k, v, mask=None):\n",
    "\n",
    "        q, k, v = self.w_q(q), self.w_k(k), self.w_v(v)\n",
    "\n",
    "        # score = (q@k.T) / math.sqrt(self.d_k)\n",
    "        score = torch.matmul(q, k.transpose(-2, -1)) / math.sqrt(self.d_k)\n",
    "\n",
    "        if mask is not None:\n",
    "            score = score.masked_fill(mask == 0, float('-inf'))\n",
    "\n",
    "        x = F.softmax(score, dim=-1) @ v \n",
    "        return x"
   ]
  },
  {
   "cell_type": "markdown",
   "id": "f8ae016a",
   "metadata": {
    "papermill": {
     "duration": 0.00492,
     "end_time": "2025-06-04T20:18:53.939194",
     "exception": false,
     "start_time": "2025-06-04T20:18:53.934274",
     "status": "completed"
    },
    "tags": []
   },
   "source": [
    "We cannot use ``score = (q@k.T) / math.sqrt(self.d_k)`` as per chatGPT. The reason is due to dimensional mismatch. I have assumed that the q, k and v vectors are 2D but in pytorch they are saved as (batch_size, seq_len, d_model). Due to this reason we need to change the above code with `\n",
    "scores = torch.matmul(q, k.transpose(-2, -1)) / math.sqrt(self.d_k)` code."
   ]
  },
  {
   "cell_type": "markdown",
   "id": "a5433701",
   "metadata": {
    "papermill": {
     "duration": 0.004825,
     "end_time": "2025-06-04T20:18:53.948921",
     "exception": false,
     "start_time": "2025-06-04T20:18:53.944096",
     "status": "completed"
    },
    "tags": []
   },
   "source": [
    "### Multi-Head attention block"
   ]
  },
  {
   "cell_type": "code",
   "execution_count": 7,
   "id": "f389f44f",
   "metadata": {
    "execution": {
     "iopub.execute_input": "2025-06-04T20:18:53.959867Z",
     "iopub.status.busy": "2025-06-04T20:18:53.959607Z",
     "iopub.status.idle": "2025-06-04T20:18:53.964838Z",
     "shell.execute_reply": "2025-06-04T20:18:53.964283Z"
    },
    "papermill": {
     "duration": 0.011942,
     "end_time": "2025-06-04T20:18:53.965830",
     "exception": false,
     "start_time": "2025-06-04T20:18:53.953888",
     "status": "completed"
    },
    "tags": []
   },
   "outputs": [],
   "source": [
    "class MultiHeadAttention(nn.Module):\n",
    "    def __init__(self, n_heads, d_model):\n",
    "        super(MultiHeadAttention, self).__init__()\n",
    "\n",
    "        assert d_model % n_heads == 0\n",
    "\n",
    "        self.n_head = n_heads\n",
    "        self.d_model = d_model\n",
    "        self.k = self.v = d_model // n_heads\n",
    "\n",
    "        self.attentions = nn.ModuleList([SelfAttention(self.d_model, self.k, self.v) for _ in range(n_heads)])\n",
    "        self.w_o = nn.Linear(d_model, d_model)\n",
    "\n",
    "    def forward(self, q, k, v, mask=None):\n",
    "        \n",
    "        x = [attention(q, k, v, mask) for attention in self.attentions]\n",
    "        x = torch.cat(x, dim=-1)\n",
    "        \n",
    "        return self.w_o(x)"
   ]
  },
  {
   "cell_type": "markdown",
   "id": "ea41b012",
   "metadata": {
    "papermill": {
     "duration": 0.005198,
     "end_time": "2025-06-04T20:18:53.976469",
     "exception": false,
     "start_time": "2025-06-04T20:18:53.971271",
     "status": "completed"
    },
    "tags": []
   },
   "source": [
    "I used only list of self attentions. This will cause the weights of those attention blocks to not update during training. This can be solved by wrapping the list of attention blocks around `nn.ModuleList` method."
   ]
  },
  {
   "cell_type": "markdown",
   "id": "5fa8af15",
   "metadata": {
    "papermill": {
     "duration": 0.004816,
     "end_time": "2025-06-04T20:18:53.986492",
     "exception": false,
     "start_time": "2025-06-04T20:18:53.981676",
     "status": "completed"
    },
    "tags": []
   },
   "source": [
    "### FeedForward Network"
   ]
  },
  {
   "cell_type": "code",
   "execution_count": 8,
   "id": "0e1b03ed",
   "metadata": {
    "execution": {
     "iopub.execute_input": "2025-06-04T20:18:53.997713Z",
     "iopub.status.busy": "2025-06-04T20:18:53.997433Z",
     "iopub.status.idle": "2025-06-04T20:18:54.002298Z",
     "shell.execute_reply": "2025-06-04T20:18:54.001707Z"
    },
    "papermill": {
     "duration": 0.01178,
     "end_time": "2025-06-04T20:18:54.003293",
     "exception": false,
     "start_time": "2025-06-04T20:18:53.991513",
     "status": "completed"
    },
    "tags": []
   },
   "outputs": [],
   "source": [
    "class FeedForward(nn.Module):\n",
    "    def __init__(self, d_model, d_ff, dropout=0.1):\n",
    "        super(FeedForward, self).__init__()\n",
    "\n",
    "        self.layer1 = nn.Linear(d_model, d_ff)\n",
    "        self.layer2 = nn.Linear(d_ff, d_model)\n",
    "        self.dropout = nn.Dropout(dropout)\n",
    "        self.activation = nn.ReLU()\n",
    "\n",
    "    def forward(self,x):\n",
    "        \n",
    "        x = self.layer1(x)\n",
    "        x = self.activation(x)\n",
    "        x = self.dropout(x)\n",
    "        x = self.layer2(x)\n",
    "        \n",
    "        return x"
   ]
  },
  {
   "cell_type": "markdown",
   "id": "034336d4",
   "metadata": {
    "papermill": {
     "duration": 0.004783,
     "end_time": "2025-06-04T20:18:54.013315",
     "exception": false,
     "start_time": "2025-06-04T20:18:54.008532",
     "status": "completed"
    },
    "tags": []
   },
   "source": [
    "This is the first place where I have used `dropout`. I need to find other places where I can use this."
   ]
  },
  {
   "cell_type": "markdown",
   "id": "54d21aff",
   "metadata": {
    "papermill": {
     "duration": 0.004795,
     "end_time": "2025-06-04T20:18:54.023109",
     "exception": false,
     "start_time": "2025-06-04T20:18:54.018314",
     "status": "completed"
    },
    "tags": []
   },
   "source": [
    "### Encoder Block"
   ]
  },
  {
   "cell_type": "code",
   "execution_count": 9,
   "id": "41edda28",
   "metadata": {
    "execution": {
     "iopub.execute_input": "2025-06-04T20:18:54.033984Z",
     "iopub.status.busy": "2025-06-04T20:18:54.033726Z",
     "iopub.status.idle": "2025-06-04T20:18:54.038952Z",
     "shell.execute_reply": "2025-06-04T20:18:54.038407Z"
    },
    "papermill": {
     "duration": 0.011865,
     "end_time": "2025-06-04T20:18:54.039907",
     "exception": false,
     "start_time": "2025-06-04T20:18:54.028042",
     "status": "completed"
    },
    "tags": []
   },
   "outputs": [],
   "source": [
    "class Encoder(nn.Module):\n",
    "    def __init__(self, n_heads, d_model, d_ff, dropout=0.1):\n",
    "        super(Encoder, self).__init__()\n",
    "\n",
    "        self.mha = MultiHeadAttention(n_heads, d_model)\n",
    "        self.layernorm1 = nn.LayerNorm(d_model)\n",
    "        self.dropout1 = nn.Dropout(dropout)\n",
    "\n",
    "        self.feedforward = FeedForward(d_model, d_ff)\n",
    "        self.layernorm2 = nn.LayerNorm(d_model)\n",
    "        self.dropout2 = nn.Dropout(dropout)\n",
    "\n",
    "    def forward(self, x, mask=None):\n",
    "        # MHA and (Skip + layernorm)\n",
    "        x = self.layernorm1(x + self.dropout1(self.mha(x, x, x, mask)))\n",
    "\n",
    "        # FeedForward and (Skip + layernorm)\n",
    "        x = self.layernorm2(x + self.dropout2(self.feedforward(x)))\n",
    "        \n",
    "        return x"
   ]
  },
  {
   "cell_type": "markdown",
   "id": "3fe3b02e",
   "metadata": {
    "papermill": {
     "duration": 0.004764,
     "end_time": "2025-06-04T20:18:54.049792",
     "exception": false,
     "start_time": "2025-06-04T20:18:54.045028",
     "status": "completed"
    },
    "tags": []
   },
   "source": [
    "1. I changed the forward method from `forward(self, x)` -> `forward(self, x, mask=None)` as suggested by the chatGPT.\n",
    "2. Applied `Dropout` layer after `MHA` and `FeedForward` blocks."
   ]
  },
  {
   "cell_type": "markdown",
   "id": "22d3f4b8",
   "metadata": {
    "papermill": {
     "duration": 0.004732,
     "end_time": "2025-06-04T20:18:54.059495",
     "exception": false,
     "start_time": "2025-06-04T20:18:54.054763",
     "status": "completed"
    },
    "tags": []
   },
   "source": [
    "### Decoder Block"
   ]
  },
  {
   "cell_type": "code",
   "execution_count": 10,
   "id": "36ee41a9",
   "metadata": {
    "execution": {
     "iopub.execute_input": "2025-06-04T20:18:54.070397Z",
     "iopub.status.busy": "2025-06-04T20:18:54.070144Z",
     "iopub.status.idle": "2025-06-04T20:18:54.076289Z",
     "shell.execute_reply": "2025-06-04T20:18:54.075723Z"
    },
    "papermill": {
     "duration": 0.012929,
     "end_time": "2025-06-04T20:18:54.077360",
     "exception": false,
     "start_time": "2025-06-04T20:18:54.064431",
     "status": "completed"
    },
    "tags": []
   },
   "outputs": [],
   "source": [
    "class Decoder(nn.Module):\n",
    "    def __init__(self, n_heads, d_model, d_ff, dropout=0.1):\n",
    "        super(Decoder, self).__init__()\n",
    "\n",
    "        self.masked_mha = MultiHeadAttention(n_heads, d_model)\n",
    "        self.layernorm1 = nn.LayerNorm(d_model)\n",
    "        self.dropout1 = nn.Dropout(dropout)\n",
    "        \n",
    "        self.mha = MultiHeadAttention(n_heads, d_model)\n",
    "        self.layernorm2 = nn.LayerNorm(d_model)\n",
    "        self.dropout2 = nn.Dropout(dropout)\n",
    "        \n",
    "        self.ff = FeedForward(d_model, d_ff)\n",
    "        self.layernorm3 = nn.LayerNorm(d_model)\n",
    "        self.dropout3 = nn.Dropout(dropout)\n",
    "\n",
    "    def forward(self, x_encoder, x_prev, mask=None):\n",
    "\n",
    "        B, T, _ = x_prev.size()\n",
    "\n",
    "        # masked mha + add & norm\n",
    "        mask = self.generate_casual_mask(T).to(x_prev.device)\n",
    "        \n",
    "        x = self.layernorm1(x_prev + self.dropout1(self.masked_mha(x_prev, x_prev, x_prev, mask)))\n",
    "\n",
    "        # encoder mha + add & norm\n",
    "        x = self.layernorm2(x + self.dropout2(self.mha(x, x_encoder, x_encoder)))\n",
    "\n",
    "        # feedforward + add & norm\n",
    "        x = self.layernorm3(x + self.dropout3(self.ff(x)))\n",
    "        \n",
    "        return x\n",
    "\n",
    "    def generate_casual_mask(self, size):\n",
    "        mask = torch.tril(torch.ones(size, size)).bool()\n",
    "        return mask"
   ]
  },
  {
   "cell_type": "markdown",
   "id": "267d3e34",
   "metadata": {
    "papermill": {
     "duration": 0.00492,
     "end_time": "2025-06-04T20:18:54.087369",
     "exception": false,
     "start_time": "2025-06-04T20:18:54.082449",
     "status": "completed"
    },
    "tags": []
   },
   "source": [
    "1. Added `Dropout` layers.\n",
    "2. created `generate_casual_mask` function to create mask"
   ]
  },
  {
   "cell_type": "markdown",
   "id": "aef17f3f",
   "metadata": {
    "papermill": {
     "duration": 0.004949,
     "end_time": "2025-06-04T20:18:54.097313",
     "exception": false,
     "start_time": "2025-06-04T20:18:54.092364",
     "status": "completed"
    },
    "tags": []
   },
   "source": [
    "### Transformer Implementation "
   ]
  },
  {
   "cell_type": "code",
   "execution_count": 11,
   "id": "1416dbe6",
   "metadata": {
    "execution": {
     "iopub.execute_input": "2025-06-04T20:18:54.108858Z",
     "iopub.status.busy": "2025-06-04T20:18:54.108580Z",
     "iopub.status.idle": "2025-06-04T20:18:54.116801Z",
     "shell.execute_reply": "2025-06-04T20:18:54.116221Z"
    },
    "papermill": {
     "duration": 0.015544,
     "end_time": "2025-06-04T20:18:54.117864",
     "exception": false,
     "start_time": "2025-06-04T20:18:54.102320",
     "status": "completed"
    },
    "tags": []
   },
   "outputs": [],
   "source": [
    "class MyTransformer(nn.Module):\n",
    "    def __init__(self, \n",
    "                 vocab_size, # total words in the embedding matrix\n",
    "                 max_seq_len, # max words at a time\n",
    "                 d_model, # embedding dimension\n",
    "                 n_encoder, # number of encoders\n",
    "                 n_decoder, # number of decoders\n",
    "                 n_heads,  # for multi_head_attention block\n",
    "                 d_ff, # for hidden layer in feed forward block\n",
    "                 dropout = 0.1\n",
    "                ):\n",
    "        super(MyTransformer, self).__init__()\n",
    "\n",
    "        self.vocab_size = vocab_size\n",
    "\n",
    "        self.n_encoder = n_encoder\n",
    "        self.n_decoder = n_decoder\n",
    "        \n",
    "        # embedding layer\n",
    "        self.input_embedding_layer = EmbeddingLayer(vocab_size, d_model)\n",
    "        self.output_embedding_layer = EmbeddingLayer(vocab_size, d_model)\n",
    "\n",
    "        # positional encoding\n",
    "        self.positional_encoding = PositionalEncoding(max_seq_len, d_model)\n",
    "\n",
    "        # dropouts\n",
    "        self.dropout1 = nn.Dropout(dropout)\n",
    "        self.dropout2 = nn.Dropout(dropout)\n",
    "\n",
    "        # encoders\n",
    "        self.encoders = nn.ModuleList([Encoder(n_heads, d_model, d_ff) for _ in range(self.n_encoder)])\n",
    "\n",
    "        # decoders\n",
    "        self.decoders = nn.ModuleList([Decoder(n_heads, d_model, d_ff) for _ in range(self.n_decoder)])\n",
    "\n",
    "        # linear\n",
    "        self.linear = nn.Linear(d_model, vocab_size)\n",
    "\n",
    "        # softmax\n",
    "        self.sftmax = nn.Softmax(dim=1)\n",
    "\n",
    "    def forward(self, x_input, x_output):\n",
    "        # Save original input for validation\n",
    "        x_input_raw = x_input\n",
    "        x_output_raw = x_output\n",
    "    \n",
    "        # Assertions on raw token indices\n",
    "        assert x_input_raw.max().item() < self.vocab_size, f\"x_input has invalid token ID ≥ {self.vocab_size}\"\n",
    "        assert x_input_raw.min().item() >= 0, \"x_input has negative token ID\"\n",
    "        assert x_output_raw.max().item() < self.vocab_size, f\"x_output has invalid token ID ≥ {self.vocab_size}\"\n",
    "        assert x_output_raw.min().item() >= 0, \"x_output has negative token ID\"\n",
    "    \n",
    "        # input embedding\n",
    "        x_input = self.input_embedding_layer(x_input_raw)\n",
    "        x_input = self.positional_encoding(x_input)\n",
    "        x_input = self.dropout1(x_input)\n",
    "    \n",
    "        # output embedding\n",
    "        x_output = self.output_embedding_layer(x_output_raw)\n",
    "        x_output = self.positional_encoding(x_output)\n",
    "        x_output = self.dropout2(x_output)\n",
    "    \n",
    "        # encoder pass\n",
    "        for encoder in self.encoders:\n",
    "            x_input = encoder(x_input)\n",
    "    \n",
    "        # decoder pass\n",
    "        for decoder in self.decoders:\n",
    "            x_output = decoder(x_input, x_output)\n",
    "    \n",
    "        # linear projection to vocab size\n",
    "        x = self.linear(x_output)\n",
    "        \n",
    "        return x\n"
   ]
  },
  {
   "cell_type": "markdown",
   "id": "73679793",
   "metadata": {
    "papermill": {
     "duration": 0.005041,
     "end_time": "2025-06-04T20:18:54.128168",
     "exception": false,
     "start_time": "2025-06-04T20:18:54.123127",
     "status": "completed"
    },
    "tags": []
   },
   "source": [
    "1. I have used two different `embedding` layer for translation.\n",
    "2. Used `Dropout` after embedding + positional_encoding"
   ]
  },
  {
   "cell_type": "markdown",
   "id": "ebe1bf1a",
   "metadata": {
    "papermill": {
     "duration": 0.004897,
     "end_time": "2025-06-04T20:18:54.138304",
     "exception": false,
     "start_time": "2025-06-04T20:18:54.133407",
     "status": "completed"
    },
    "tags": []
   },
   "source": [
    " # Training"
   ]
  },
  {
   "cell_type": "markdown",
   "id": "707a57e3",
   "metadata": {
    "papermill": {
     "duration": 0.005102,
     "end_time": "2025-06-04T20:18:54.203020",
     "exception": false,
     "start_time": "2025-06-04T20:18:54.197918",
     "status": "completed"
    },
    "tags": []
   },
   "source": [
    "## Creating Dataset"
   ]
  },
  {
   "cell_type": "code",
   "execution_count": 12,
   "id": "e6bc3c7c",
   "metadata": {
    "execution": {
     "iopub.execute_input": "2025-06-04T20:18:54.214477Z",
     "iopub.status.busy": "2025-06-04T20:18:54.214201Z",
     "iopub.status.idle": "2025-06-04T20:18:54.219838Z",
     "shell.execute_reply": "2025-06-04T20:18:54.219278Z"
    },
    "papermill": {
     "duration": 0.01263,
     "end_time": "2025-06-04T20:18:54.220858",
     "exception": false,
     "start_time": "2025-06-04T20:18:54.208228",
     "status": "completed"
    },
    "tags": []
   },
   "outputs": [],
   "source": [
    "class IITBTranslationDataset(Dataset):\n",
    "    def __init__(self, data, tokenizer, max_seq_len=64):\n",
    "        super(IITBTranslationDataset, self).__init__()\n",
    "\n",
    "        self.tokenizer = tokenizer\n",
    "        self.max_seq_len = max_seq_len\n",
    "        self.pairs = [(x['en'], x['hi']) for x in data]\n",
    "\n",
    "    def __len__(self):\n",
    "        return len(self.pairs)\n",
    "\n",
    "    def __getitem__(self, idx):\n",
    "        x, y = self.pairs[idx]\n",
    "\n",
    "        src_enc = self.tokenizer.encode(x).ids[:self.max_seq_len]\n",
    "        tgt_enc = self.tokenizer.encode(y).ids[:self.max_seq_len]\n",
    "\n",
    "        # Add padding\n",
    "        src_ids = src_enc + [0] * (self.max_seq_len - len(src_enc))\n",
    "        tgt_ids = tgt_enc + [0] * (self.max_seq_len - len(tgt_enc))\n",
    "\n",
    "        return (torch.Tensor(src_ids), torch.Tensor(tgt_ids))"
   ]
  },
  {
   "cell_type": "markdown",
   "id": "d2dcd140",
   "metadata": {
    "papermill": {
     "duration": 0.005008,
     "end_time": "2025-06-04T20:18:54.231114",
     "exception": false,
     "start_time": "2025-06-04T20:18:54.226106",
     "status": "completed"
    },
    "tags": []
   },
   "source": [
    "## Loading data and creating dataloader"
   ]
  },
  {
   "cell_type": "code",
   "execution_count": 13,
   "id": "a9d8d31a",
   "metadata": {
    "execution": {
     "iopub.execute_input": "2025-06-04T20:18:54.242361Z",
     "iopub.status.busy": "2025-06-04T20:18:54.242102Z",
     "iopub.status.idle": "2025-06-04T20:19:12.710986Z",
     "shell.execute_reply": "2025-06-04T20:19:12.710215Z"
    },
    "papermill": {
     "duration": 18.476085,
     "end_time": "2025-06-04T20:19:12.712323",
     "exception": false,
     "start_time": "2025-06-04T20:18:54.236238",
     "status": "completed"
    },
    "tags": []
   },
   "outputs": [
    {
     "data": {
      "application/vnd.jupyter.widget-view+json": {
       "model_id": "c541e32abd0943b9b0e36f508fd00c69",
       "version_major": 2,
       "version_minor": 0
      },
      "text/plain": [
       "README.md:   0%|          | 0.00/3.14k [00:00<?, ?B/s]"
      ]
     },
     "metadata": {},
     "output_type": "display_data"
    },
    {
     "data": {
      "application/vnd.jupyter.widget-view+json": {
       "model_id": "b7e96d534cef481ba8930ae96f0c0078",
       "version_major": 2,
       "version_minor": 0
      },
      "text/plain": [
       "dataset_infos.json:   0%|          | 0.00/953 [00:00<?, ?B/s]"
      ]
     },
     "metadata": {},
     "output_type": "display_data"
    },
    {
     "data": {
      "application/vnd.jupyter.widget-view+json": {
       "model_id": "ed06cec582724f1a94ed0566d9476218",
       "version_major": 2,
       "version_minor": 0
      },
      "text/plain": [
       "train-00000-of-00001.parquet:   0%|          | 0.00/190M [00:00<?, ?B/s]"
      ]
     },
     "metadata": {},
     "output_type": "display_data"
    },
    {
     "data": {
      "application/vnd.jupyter.widget-view+json": {
       "model_id": "8c22744507e946dfa3adbefb84ce2bf8",
       "version_major": 2,
       "version_minor": 0
      },
      "text/plain": [
       "validation-00000-of-00001.parquet:   0%|          | 0.00/85.7k [00:00<?, ?B/s]"
      ]
     },
     "metadata": {},
     "output_type": "display_data"
    },
    {
     "data": {
      "application/vnd.jupyter.widget-view+json": {
       "model_id": "147cb65de00642f99d5db3d45ec1398b",
       "version_major": 2,
       "version_minor": 0
      },
      "text/plain": [
       "test-00000-of-00001.parquet:   0%|          | 0.00/500k [00:00<?, ?B/s]"
      ]
     },
     "metadata": {},
     "output_type": "display_data"
    },
    {
     "data": {
      "application/vnd.jupyter.widget-view+json": {
       "model_id": "40cb7301571947d49e87a6ea5ce86622",
       "version_major": 2,
       "version_minor": 0
      },
      "text/plain": [
       "Generating train split:   0%|          | 0/1659083 [00:00<?, ? examples/s]"
      ]
     },
     "metadata": {},
     "output_type": "display_data"
    },
    {
     "data": {
      "application/vnd.jupyter.widget-view+json": {
       "model_id": "51ceb5f808584bfa88d3818e7ac47a6d",
       "version_major": 2,
       "version_minor": 0
      },
      "text/plain": [
       "Generating validation split:   0%|          | 0/520 [00:00<?, ? examples/s]"
      ]
     },
     "metadata": {},
     "output_type": "display_data"
    },
    {
     "data": {
      "application/vnd.jupyter.widget-view+json": {
       "model_id": "c68cbcd6b5f0440c8c2bd0d7b87e739d",
       "version_major": 2,
       "version_minor": 0
      },
      "text/plain": [
       "Generating test split:   0%|          | 0/2507 [00:00<?, ? examples/s]"
      ]
     },
     "metadata": {},
     "output_type": "display_data"
    },
    {
     "name": "stdout",
     "output_type": "stream",
     "text": [
      "1659083\n"
     ]
    }
   ],
   "source": [
    "ds = load_dataset(\"cfilt/iitb-english-hindi\", split='train')\n",
    "ds = ds['translation']\n",
    "print(len(ds))"
   ]
  },
  {
   "cell_type": "code",
   "execution_count": 14,
   "id": "6e7393fb",
   "metadata": {
    "execution": {
     "iopub.execute_input": "2025-06-04T20:19:12.726789Z",
     "iopub.status.busy": "2025-06-04T20:19:12.726097Z",
     "iopub.status.idle": "2025-06-04T20:19:12.773385Z",
     "shell.execute_reply": "2025-06-04T20:19:12.772371Z"
    },
    "papermill": {
     "duration": 0.055962,
     "end_time": "2025-06-04T20:19:12.775065",
     "exception": false,
     "start_time": "2025-06-04T20:19:12.719103",
     "status": "completed"
    },
    "tags": []
   },
   "outputs": [
    {
     "name": "stdout",
     "output_type": "stream",
     "text": [
      "{'en': 'Give your application an accessibility workout', 'hi': 'अपने अनुप्रयोग को पहुंचनीयता व्यायाम का लाभ दें'}\n"
     ]
    }
   ],
   "source": [
    "print(ds[0])\n",
    "\n",
    "tokenizer = Tokenizer.from_file(\"/kaggle/input/hindi-english-tokenizer/bpe_tokenizer.json\")"
   ]
  },
  {
   "cell_type": "code",
   "execution_count": 15,
   "id": "780c7c70",
   "metadata": {
    "execution": {
     "iopub.execute_input": "2025-06-04T20:19:12.788397Z",
     "iopub.status.busy": "2025-06-04T20:19:12.788150Z",
     "iopub.status.idle": "2025-06-04T20:19:13.227072Z",
     "shell.execute_reply": "2025-06-04T20:19:13.226225Z"
    },
    "papermill": {
     "duration": 0.44674,
     "end_time": "2025-06-04T20:19:13.228325",
     "exception": false,
     "start_time": "2025-06-04T20:19:12.781585",
     "status": "completed"
    },
    "tags": []
   },
   "outputs": [
    {
     "name": "stdout",
     "output_type": "stream",
     "text": [
      "cuda\n"
     ]
    }
   ],
   "source": [
    "train_ds = IITBTranslationDataset(ds, tokenizer, max_seq_len=64)\n",
    "train_dl = DataLoader(train_ds, batch_size=32, shuffle=True)\n",
    "\n",
    "device = torch.device(\"cuda\" if torch.cuda.is_available() else \"cpu\")\n",
    "print(device)"
   ]
  },
  {
   "cell_type": "markdown",
   "id": "4f0114e4",
   "metadata": {
    "papermill": {
     "duration": 0.005889,
     "end_time": "2025-06-04T20:19:13.240675",
     "exception": false,
     "start_time": "2025-06-04T20:19:13.234786",
     "status": "completed"
    },
    "tags": []
   },
   "source": [
    "## Training Loop"
   ]
  },
  {
   "cell_type": "code",
   "execution_count": 16,
   "id": "d3830e55",
   "metadata": {
    "execution": {
     "iopub.execute_input": "2025-06-04T20:19:13.253771Z",
     "iopub.status.busy": "2025-06-04T20:19:13.253231Z",
     "iopub.status.idle": "2025-06-04T20:19:13.256546Z",
     "shell.execute_reply": "2025-06-04T20:19:13.255989Z"
    },
    "papermill": {
     "duration": 0.011133,
     "end_time": "2025-06-04T20:19:13.257665",
     "exception": false,
     "start_time": "2025-06-04T20:19:13.246532",
     "status": "completed"
    },
    "tags": []
   },
   "outputs": [],
   "source": [
    "import os\n",
    "os.environ[\"CUDA_LAUNCH_BLOCKING\"] = \"1\""
   ]
  },
  {
   "cell_type": "code",
   "execution_count": 17,
   "id": "e92dec0f",
   "metadata": {
    "execution": {
     "iopub.execute_input": "2025-06-04T20:19:13.271505Z",
     "iopub.status.busy": "2025-06-04T20:19:13.270933Z",
     "iopub.status.idle": "2025-06-05T06:27:24.016328Z",
     "shell.execute_reply": "2025-06-05T06:27:24.015486Z"
    },
    "papermill": {
     "duration": 36490.76054,
     "end_time": "2025-06-05T06:27:24.024447",
     "exception": false,
     "start_time": "2025-06-04T20:19:13.263907",
     "status": "completed"
    },
    "tags": []
   },
   "outputs": [
    {
     "name": "stdout",
     "output_type": "stream",
     "text": [
      "Epoch 1, Loss: 243720.9433\n",
      "Epoch 2, Loss: 201412.1539\n",
      "Epoch 3, Loss: 186710.0870\n",
      "Epoch 4, Loss: 177372.9215\n",
      "Epoch 5, Loss: 170488.9764\n",
      "Epoch 6, Loss: 165076.8535\n",
      "Epoch 7, Loss: 160660.2723\n",
      "Epoch 8, Loss: 156977.3970\n",
      "Epoch 9, Loss: 153858.8158\n",
      "Epoch 10, Loss: 151197.1985\n"
     ]
    }
   ],
   "source": [
    "# Hypterparameters\n",
    "max_seq_len = 64\n",
    "vocab_size=10000\n",
    "\n",
    "model = MyTransformer(vocab_size=vocab_size, max_seq_len=max_seq_len, d_model=256, n_encoder=2, n_decoder=2, n_heads=4, d_ff=512)\n",
    "model = model.to(device)\n",
    "\n",
    "loss_fn = nn.CrossEntropyLoss(ignore_index=0)\n",
    "optimizer = optim.Adam(model.parameters(), lr=1e-4)\n",
    "\n",
    "loss_history = []\n",
    "\n",
    "for epoch in range(10):\n",
    "    model.train()\n",
    "    total_loss = 0\n",
    "    for batch in train_dl:\n",
    "        src = batch[0].to(device).long()\n",
    "        tgt = batch[1].to(device).long()\n",
    "\n",
    "        # Input and target sequences\n",
    "        tgt_input = tgt[:, :-1]\n",
    "        tgt_target = tgt[:, 1:]\n",
    "\n",
    "        output = model(src, tgt_input)\n",
    "\n",
    "        # Reshape for loss\n",
    "        output = output.reshape(-1, output.shape[-1])\n",
    "        tgt_target = tgt_target.reshape(-1)\n",
    "\n",
    "        if tgt_target.max() >= vocab_size:\n",
    "            raise ValueError(f\"Target index out of bounds: {tgt_target.max()} ≥ {vocab_size}\")\n",
    "\n",
    "        loss = loss_fn(output, tgt_target)\n",
    "\n",
    "        optimizer.zero_grad()\n",
    "        loss.backward()\n",
    "        optimizer.step()\n",
    "\n",
    "        total_loss += loss.item()\n",
    "\n",
    "    loss_history.append(total_loss / len(train_dl))\n",
    "\n",
    "    print(f\"Epoch {epoch+1}, Loss: {total_loss:.4f}\")"
   ]
  },
  {
   "cell_type": "code",
   "execution_count": 18,
   "id": "a3192f0d",
   "metadata": {
    "execution": {
     "iopub.execute_input": "2025-06-05T06:27:24.038602Z",
     "iopub.status.busy": "2025-06-05T06:27:24.038095Z",
     "iopub.status.idle": "2025-06-05T06:27:24.234503Z",
     "shell.execute_reply": "2025-06-05T06:27:24.233743Z"
    },
    "papermill": {
     "duration": 0.204787,
     "end_time": "2025-06-05T06:27:24.235703",
     "exception": false,
     "start_time": "2025-06-05T06:27:24.030916",
     "status": "completed"
    },
    "tags": []
   },
   "outputs": [
    {
     "data": {
      "image/png": "[encoded data removed]",
      "text/plain": [
       "<Figure size 640x480 with 1 Axes>"
      ]
     },
     "metadata": {},
     "output_type": "display_data"
    }
   ],
   "source": [
    "import matplotlib.pyplot as plt\n",
    "\n",
    "# plotting loss history\n",
    "plt.plot(loss_history)\n",
    "plt.xlabel(\"Steps\")\n",
    "plt.ylabel(\"Average Loss\")\n",
    "plt.grid(True)\n",
    "plt.show()"
   ]
  },
  {
   "cell_type": "code",
   "execution_count": 19,
   "id": "fbe4d06e",
   "metadata": {
    "execution": {
     "iopub.execute_input": "2025-06-05T06:27:24.250595Z",
     "iopub.status.busy": "2025-06-05T06:27:24.250367Z",
     "iopub.status.idle": "2025-06-05T06:27:24.340968Z",
     "shell.execute_reply": "2025-06-05T06:27:24.340309Z"
    },
    "papermill": {
     "duration": 0.098959,
     "end_time": "2025-06-05T06:27:24.342044",
     "exception": false,
     "start_time": "2025-06-05T06:27:24.243085",
     "status": "completed"
    },
    "tags": []
   },
   "outputs": [
    {
     "name": "stdout",
     "output_type": "stream",
     "text": [
      "Model saved as 'translator.pth'\n"
     ]
    }
   ],
   "source": [
    "# Saving model\n",
    "torch.save(model.state_dict(), 'translator.pth')\n",
    "print(\"Model saved as 'translator.pth'\")"
   ]
  },
  {
   "cell_type": "markdown",
   "id": "dc320097",
   "metadata": {
    "papermill": {
     "duration": 0.006656,
     "end_time": "2025-06-05T06:27:24.355810",
     "exception": false,
     "start_time": "2025-06-05T06:27:24.349154",
     "status": "completed"
    },
    "tags": []
   },
   "source": [
    "# Rough work"
   ]
  },
  {
   "cell_type": "code",
   "execution_count": 20,
   "id": "54490cd3",
   "metadata": {
    "execution": {
     "iopub.execute_input": "2025-06-05T06:27:24.370433Z",
     "iopub.status.busy": "2025-06-05T06:27:24.369913Z",
     "iopub.status.idle": "2025-06-05T06:27:24.373165Z",
     "shell.execute_reply": "2025-06-05T06:27:24.372589Z"
    },
    "papermill": {
     "duration": 0.011831,
     "end_time": "2025-06-05T06:27:24.374308",
     "exception": false,
     "start_time": "2025-06-05T06:27:24.362477",
     "status": "completed"
    },
    "tags": []
   },
   "outputs": [],
   "source": [
    "# max_words = 10\n",
    "# d_model = 6\n",
    "\n",
    "# matrix = torch.zeros(max_words, d_model)\n",
    "# val = torch.Tensor([pos / (10000 ** ((2*i) / d_model)) for pos in torch.arange(max_words) for i in torch.arange(0, d_model, 2)]).reshape(max_words, d_model//2)\n",
    "# matrix[:, 0::2] = torch.sin(val)\n",
    "# matrix[:, 1::2] = torch.cos(val)\n",
    "\n",
    "# print(matrix.shape)"
   ]
  },
  {
   "cell_type": "code",
   "execution_count": 21,
   "id": "c02fd451",
   "metadata": {
    "execution": {
     "iopub.execute_input": "2025-06-05T06:27:24.472365Z",
     "iopub.status.busy": "2025-06-05T06:27:24.471787Z",
     "iopub.status.idle": "2025-06-05T06:27:24.475092Z",
     "shell.execute_reply": "2025-06-05T06:27:24.474541Z"
    },
    "papermill": {
     "duration": 0.095066,
     "end_time": "2025-06-05T06:27:24.476272",
     "exception": false,
     "start_time": "2025-06-05T06:27:24.381206",
     "status": "completed"
    },
    "tags": []
   },
   "outputs": [],
   "source": [
    "# class SimpleModel(nn.Module):\n",
    "#     def __init__(self, max_words, d_model):\n",
    "#         super().__init__()\n",
    "\n",
    "#         self.layer = nn.Linear(d_model, d_model//2)\n",
    "\n",
    "#     def forward(self, x):\n",
    "#         x = self.layer(x)\n",
    "#         return x"
   ]
  },
  {
   "cell_type": "code",
   "execution_count": 22,
   "id": "7aad3ce5",
   "metadata": {
    "execution": {
     "iopub.execute_input": "2025-06-05T06:27:24.491529Z",
     "iopub.status.busy": "2025-06-05T06:27:24.490899Z",
     "iopub.status.idle": "2025-06-05T06:27:24.493948Z",
     "shell.execute_reply": "2025-06-05T06:27:24.493435Z"
    },
    "papermill": {
     "duration": 0.011686,
     "end_time": "2025-06-05T06:27:24.494993",
     "exception": false,
     "start_time": "2025-06-05T06:27:24.483307",
     "status": "completed"
    },
    "tags": []
   },
   "outputs": [],
   "source": [
    "# d_ff = 2 * d_model\n",
    "# n_encoders = n_decoders = 3\n",
    "# n_heads = d_model // 2\n",
    "\n",
    "# model = MyTransformer(max_words, d_model, n_encoders, n_decoders, n_heads, d_ff)\n",
    "# x = model(matrix, matrix)\n",
    "# print(x)"
   ]
  },
  {
   "cell_type": "code",
   "execution_count": 23,
   "id": "4fac9116",
   "metadata": {
    "execution": {
     "iopub.execute_input": "2025-06-05T06:27:24.509684Z",
     "iopub.status.busy": "2025-06-05T06:27:24.509133Z",
     "iopub.status.idle": "2025-06-05T06:27:24.512082Z",
     "shell.execute_reply": "2025-06-05T06:27:24.511528Z"
    },
    "papermill": {
     "duration": 0.011443,
     "end_time": "2025-06-05T06:27:24.513135",
     "exception": false,
     "start_time": "2025-06-05T06:27:24.501692",
     "status": "completed"
    },
    "tags": []
   },
   "outputs": [],
   "source": [
    "# reply = list(map(lambda word : embedding_model.similar_by_vector(word, topn=1), x))\n",
    "# print(reply)"
   ]
  },
  {
   "cell_type": "code",
   "execution_count": 24,
   "id": "e7c2e189",
   "metadata": {
    "execution": {
     "iopub.execute_input": "2025-06-05T06:27:24.527275Z",
     "iopub.status.busy": "2025-06-05T06:27:24.527059Z",
     "iopub.status.idle": "2025-06-05T06:27:24.529844Z",
     "shell.execute_reply": "2025-06-05T06:27:24.529374Z"
    },
    "papermill": {
     "duration": 0.010959,
     "end_time": "2025-06-05T06:27:24.530836",
     "exception": false,
     "start_time": "2025-06-05T06:27:24.519877",
     "status": "completed"
    },
    "tags": []
   },
   "outputs": [],
   "source": [
    "# a = torch.Tensor([[1,2, 3, 4],\n",
    "#                  [5, 6, 7, 8],\n",
    "#                  [9, 10, 11, 12],\n",
    "#                  [13, 14, 15, 16]])\n",
    "# # soft0 = F.softmax(a, dim=-1)\n",
    "# # print(soft0)\n",
    "# b = a * 2\n",
    "# # print(b)\n",
    "\n",
    "# c = torch.cat((a, b), dim=1)\n",
    "# print(c)"
   ]
  }
 ],
 "metadata": {
  "kaggle": {
   "accelerator": "gpu",
   "dataSources": [
    {
     "datasetId": 7529050,
     "sourceId": 11972772,
     "sourceType": "datasetVersion"
    }
   ],
   "dockerImageVersionId": 31040,
   "isGpuEnabled": true,
   "isInternetEnabled": true,
   "language": "python",
   "sourceType": "notebook"
  },
  "kernelspec": {
   "display_name": "Python 3",
   "language": "python",
   "name": "python3"
  },
  "language_info": {
   "codemirror_mode": {
    "name": "ipython",
    "version": 3
   },
   "file_extension": ".py",
   "mimetype": "text/x-python",
   "name": "python",
   "nbconvert_exporter": "python",
   "pygments_lexer": "ipython3",
   "version": "3.11.11"
  },
  "papermill": {
   "default_parameters": {},
   "duration": 36560.194375,
   "end_time": "2025-06-05T06:27:28.259402",
   "environment_variables": {},
   "exception": null,
   "input_path": "__notebook__.ipynb",
   "output_path": "__notebook__.ipynb",
   "parameters": {},
   "start_time": "2025-06-04T20:18:08.065027",
   "version": "2.6.0"
  },
  "widgets": {
   "application/vnd.jupyter.widget-state+json": {
    "state": {
     "10a4ff8fcd31477aba84e629d6317c79": {
      "model_module": "@jupyter-widgets/base",
      "model_module_version": "2.0.0",
      "model_name": "LayoutModel",
      "state": {
       "_model_module": "@jupyter-widgets/base",
       "_model_module_version": "2.0.0",
       "_model_name": "LayoutModel",
       "_view_count": null,
       "_view_module": "@jupyter-widgets/base",
       "_view_module_version": "2.0.0",
       "_view_name": "LayoutView",
       "align_content": null,
       "align_items": null,
       "align_self": null,
       "border_bottom": null,
       "border_left": null,
       "border_right": null,
       "border_top": null,
       "bottom": null,
       "display": null,
       "flex": null,
       "flex_flow": null,
       "grid_area": null,
       "grid_auto_columns": null,
       "grid_auto_flow": null,
       "grid_auto_rows": null,
       "grid_column": null,
       "grid_gap": null,
       "grid_row": null,
       "grid_template_areas": null,
       "grid_template_columns": null,
       "grid_template_rows": null,
       "height": null,
       "justify_content": null,
       "justify_items": null,
       "left": null,
       "margin": null,
       "max_height": null,
       "max_width": null,
       "min_height": null,
       "min_width": null,
       "object_fit": null,
       "object_position": null,
       "order": null,
       "overflow": null,
       "padding": null,
       "right": null,
       "top": null,
       "visibility": null,
       "width": null
      }
     },
     "147cb65de00642f99d5db3d45ec1398b": {
      "model_module": "@jupyter-widgets/controls",
      "model_module_version": "2.0.0",
      "model_name": "HBoxModel",
      "state": {
       "_dom_classes": [],
       "_model_module": "@jupyter-widgets/controls",
       "_model_module_version": "2.0.0",
       "_model_name": "HBoxModel",
       "_view_count": null,
       "_view_module": "@jupyter-widgets/controls",
       "_view_module_version": "2.0.0",
       "_view_name": "HBoxView",
       "box_style": "",
       "children": [
        "IPY_MODEL_87028c3ff83f4b0a8e4c35b78ba8de9e",
        "IPY_MODEL_3778d6fef8404f4ba6919b70344baca8",
        "IPY_MODEL_1c995a65b9d84cb8b5e54de5639bf425"
       ],
       "layout": "IPY_MODEL_f1a63d2dc2c248028c4aeb16beabdfc3",
       "tabbable": null,
       "tooltip": null
      }
     },
     "15356322c6e3424f939ac206ee94f0fb": {
      "model_module": "@jupyter-widgets/controls",
      "model_module_version": "2.0.0",
      "model_name": "HTMLStyleModel",
      "state": {
       "_model_module": "@jupyter-widgets/controls",
       "_model_module_version": "2.0.0",
       "_model_name": "HTMLStyleModel",
       "_view_count": null,
       "_view_module": "@jupyter-widgets/base",
       "_view_module_version": "2.0.0",
       "_view_name": "StyleView",
       "background": null,
       "description_width": "",
       "font_size": null,
       "text_color": null
      }
     },
     "17d02df08af74e22ab7096442d78989e": {
      "model_module": "@jupyter-widgets/base",
      "model_module_version": "2.0.0",
      "model_name": "LayoutModel",
      "state": {
       "_model_module": "@jupyter-widgets/base",
       "_model_module_version": "2.0.0",
       "_model_name": "LayoutModel",
       "_view_count": null,
       "_view_module": "@jupyter-widgets/base",
       "_view_module_version": "2.0.0",
       "_view_name": "LayoutView",
       "align_content": null,
       "align_items": null,
       "align_self": null,
       "border_bottom": null,
       "border_left": null,
       "border_right": null,
       "border_top": null,
       "bottom": null,
       "display": null,
       "flex": null,
       "flex_flow": null,
       "grid_area": null,
       "grid_auto_columns": null,
       "grid_auto_flow": null,
       "grid_auto_rows": null,
       "grid_column": null,
       "grid_gap": null,
       "grid_row": null,
       "grid_template_areas": null,
       "grid_template_columns": null,
       "grid_template_rows": null,
       "height": null,
       "justify_content": null,
       "justify_items": null,
       "left": null,
       "margin": null,
       "max_height": null,
       "max_width": null,
       "min_height": null,
       "min_width": null,
       "object_fit": null,
       "object_position": null,
       "order": null,
       "overflow": null,
       "padding": null,
       "right": null,
       "top": null,
       "visibility": null,
       "width": null
      }
     },
     "1828b794fde749c7840ed27a62a61e49": {
      "model_module": "@jupyter-widgets/base",
      "model_module_version": "2.0.0",
      "model_name": "LayoutModel",
      "state": {
       "_model_module": "@jupyter-widgets/base",
       "_model_module_version": "2.0.0",
       "_model_name": "LayoutModel",
       "_view_count": null,
       "_view_module": "@jupyter-widgets/base",
       "_view_module_version": "2.0.0",
       "_view_name": "LayoutView",
       "align_content": null,
       "align_items": null,
       "align_self": null,
       "border_bottom": null,
       "border_left": null,
       "border_right": null,
       "border_top": null,
       "bottom": null,
       "display": null,
       "flex": null,
       "flex_flow": null,
       "grid_area": null,
       "grid_auto_columns": null,
       "grid_auto_flow": null,
       "grid_auto_rows": null,
       "grid_column": null,
       "grid_gap": null,
       "grid_row": null,
       "grid_template_areas": null,
       "grid_template_columns": null,
       "grid_template_rows": null,
       "height": null,
       "justify_content": null,
       "justify_items": null,
       "left": null,
       "margin": null,
       "max_height": null,
       "max_width": null,
       "min_height": null,
       "min_width": null,
       "object_fit": null,
       "object_position": null,
       "order": null,
       "overflow": null,
       "padding": null,
       "right": null,
       "top": null,
       "visibility": null,
       "width": null
      }
     },
     "19f8c86202b04d128337a413b1f9034a": {
      "model_module": "@jupyter-widgets/base",
      "model_module_version": "2.0.0",
      "model_name": "LayoutModel",
      "state": {
       "_model_module": "@jupyter-widgets/base",
       "_model_module_version": "2.0.0",
       "_model_name": "LayoutModel",
       "_view_count": null,
       "_view_module": "@jupyter-widgets/base",
       "_view_module_version": "2.0.0",
       "_view_name": "LayoutView",
       "align_content": null,
       "align_items": null,
       "align_self": null,
       "border_bottom": null,
       "border_left": null,
       "border_right": null,
       "border_top": null,
       "bottom": null,
       "display": null,
       "flex": null,
       "flex_flow": null,
       "grid_area": null,
       "grid_auto_columns": null,
       "grid_auto_flow": null,
       "grid_auto_rows": null,
       "grid_column": null,
       "grid_gap": null,
       "grid_row": null,
       "grid_template_areas": null,
       "grid_template_columns": null,
       "grid_template_rows": null,
       "height": null,
       "justify_content": null,
       "justify_items": null,
       "left": null,
       "margin": null,
       "max_height": null,
       "max_width": null,
       "min_height": null,
       "min_width": null,
       "object_fit": null,
       "object_position": null,
       "order": null,
       "overflow": null,
       "padding": null,
       "right": null,
       "top": null,
       "visibility": null,
       "width": null
      }
     },
     "1a21d1531109443cb64a821957f1cb2d": {
      "model_module": "@jupyter-widgets/controls",
      "model_module_version": "2.0.0",
      "model_name": "HTMLModel",
      "state": {
       "_dom_classes": [],
       "_model_module": "@jupyter-widgets/controls",
       "_model_module_version": "2.0.0",
       "_model_name": "HTMLModel",
       "_view_count": null,
       "_view_module": "@jupyter-widgets/controls",
       "_view_module_version": "2.0.0",
       "_view_name": "HTMLView",
       "description": "",
       "description_allow_html": false,
       "layout": "IPY_MODEL_17d02df08af74e22ab7096442d78989e",
       "placeholder": "​",
       "style": "IPY_MODEL_7f5f593cc3714eacb43c7b1608d75e9c",
       "tabbable": null,
       "tooltip": null,
       "value": "train-00000-of-00001.parquet: 100%"
      }
     },
     "1bd046b4fa234b5a90fecb82549cda6a": {
      "model_module": "@jupyter-widgets/controls",
      "model_module_version": "2.0.0",
      "model_name": "FloatProgressModel",
      "state": {
       "_dom_classes": [],
       "_model_module": "@jupyter-widgets/controls",
       "_model_module_version": "2.0.0",
       "_model_name": "FloatProgressModel",
       "_view_count": null,
       "_view_module": "@jupyter-widgets/controls",
       "_view_module_version": "2.0.0",
       "_view_name": "ProgressView",
       "bar_style": "success",
       "description": "",
       "description_allow_html": false,
       "layout": "IPY_MODEL_6d79a2b767ef43c88fcff9e7335018b8",
       "max": 3140.0,
       "min": 0.0,
       "orientation": "horizontal",
       "style": "IPY_MODEL_b36ca751e0114a74a3545fbe972c55e4",
       "tabbable": null,
       "tooltip": null,
       "value": 3140.0
      }
     },
     "1c367f555a674aa28d4837998a2bf72c": {
      "model_module": "@jupyter-widgets/base",
      "model_module_version": "2.0.0",
      "model_name": "LayoutModel",
      "state": {
       "_model_module": "@jupyter-widgets/base",
       "_model_module_version": "2.0.0",
       "_model_name": "LayoutModel",
       "_view_count": null,
       "_view_module": "@jupyter-widgets/base",
       "_view_module_version": "2.0.0",
       "_view_name": "LayoutView",
       "align_content": null,
       "align_items": null,
       "align_self": null,
       "border_bottom": null,
       "border_left": null,
       "border_right": null,
       "border_top": null,
       "bottom": null,
       "display": null,
       "flex": null,
       "flex_flow": null,
       "grid_area": null,
       "grid_auto_columns": null,
       "grid_auto_flow": null,
       "grid_auto_rows": null,
       "grid_column": null,
       "grid_gap": null,
       "grid_row": null,
       "grid_template_areas": null,
       "grid_template_columns": null,
       "grid_template_rows": null,
       "height": null,
       "justify_content": null,
       "justify_items": null,
       "left": null,
       "margin": null,
       "max_height": null,
       "max_width": null,
       "min_height": null,
       "min_width": null,
       "object_fit": null,
       "object_position": null,
       "order": null,
       "overflow": null,
       "padding": null,
       "right": null,
       "top": null,
       "visibility": null,
       "width": null
      }
     },
     "1c995a65b9d84cb8b5e54de5639bf425": {
      "model_module": "@jupyter-widgets/controls",
      "model_module_version": "2.0.0",
      "model_name": "HTMLModel",
      "state": {
       "_dom_classes": [],
       "_model_module": "@jupyter-widgets/controls",
       "_model_module_version": "2.0.0",
       "_model_name": "HTMLModel",
       "_view_count": null,
       "_view_module": "@jupyter-widgets/controls",
       "_view_module_version": "2.0.0",
       "_view_name": "HTMLView",
       "description": "",
       "description_allow_html": false,
       "layout": "IPY_MODEL_ec906c96efb64c9f90898b9e7d2cf6f0",
       "placeholder": "​",
       "style": "IPY_MODEL_bf51e506da46487d96e999f5eeb61b0c",
       "tabbable": null,
       "tooltip": null,
       "value": " 500k/500k [00:00&lt;00:00, 56.3MB/s]"
      }
     },
     "1cd1c9f517954101a6a6c5649b59c98d": {
      "model_module": "@jupyter-widgets/base",
      "model_module_version": "2.0.0",
      "model_name": "LayoutModel",
      "state": {
       "_model_module": "@jupyter-widgets/base",
       "_model_module_version": "2.0.0",
       "_model_name": "LayoutModel",
       "_view_count": null,
       "_view_module": "@jupyter-widgets/base",
       "_view_module_version": "2.0.0",
       "_view_name": "LayoutView",
       "align_content": null,
       "align_items": null,
       "align_self": null,
       "border_bottom": null,
       "border_left": null,
       "border_right": null,
       "border_top": null,
       "bottom": null,
       "display": null,
       "flex": null,
       "flex_flow": null,
       "grid_area": null,
       "grid_auto_columns": null,
       "grid_auto_flow": null,
       "grid_auto_rows": null,
       "grid_column": null,
       "grid_gap": null,
       "grid_row": null,
       "grid_template_areas": null,
       "grid_template_columns": null,
       "grid_template_rows": null,
       "height": null,
       "justify_content": null,
       "justify_items": null,
       "left": null,
       "margin": null,
       "max_height": null,
       "max_width": null,
       "min_height": null,
       "min_width": null,
       "object_fit": null,
       "object_position": null,
       "order": null,
       "overflow": null,
       "padding": null,
       "right": null,
       "top": null,
       "visibility": null,
       "width": null
      }
     },
     "20a8b36bb98f403b9dbc6812e19b00a9": {
      "model_module": "@jupyter-widgets/controls",
      "model_module_version": "2.0.0",
      "model_name": "ProgressStyleModel",
      "state": {
       "_model_module": "@jupyter-widgets/controls",
       "_model_module_version": "2.0.0",
       "_model_name": "ProgressStyleModel",
       "_view_count": null,
       "_view_module": "@jupyter-widgets/base",
       "_view_module_version": "2.0.0",
       "_view_name": "StyleView",
       "bar_color": null,
       "description_width": ""
      }
     },
     "21fb41d915f146f2bb4c2d5f7372e7aa": {
      "model_module": "@jupyter-widgets/controls",
      "model_module_version": "2.0.0",
      "model_name": "ProgressStyleModel",
      "state": {
       "_model_module": "@jupyter-widgets/controls",
       "_model_module_version": "2.0.0",
       "_model_name": "ProgressStyleModel",
       "_view_count": null,
       "_view_module": "@jupyter-widgets/base",
       "_view_module_version": "2.0.0",
       "_view_name": "StyleView",
       "bar_color": null,
       "description_width": ""
      }
     },
     "2506f63d1c174a67a88fda9f652da5c1": {
      "model_module": "@jupyter-widgets/controls",
      "model_module_version": "2.0.0",
      "model_name": "HTMLStyleModel",
      "state": {
       "_model_module": "@jupyter-widgets/controls",
       "_model_module_version": "2.0.0",
       "_model_name": "HTMLStyleModel",
       "_view_count": null,
       "_view_module": "@jupyter-widgets/base",
       "_view_module_version": "2.0.0",
       "_view_name": "StyleView",
       "background": null,
       "description_width": "",
       "font_size": null,
       "text_color": null
      }
     },
     "260994ffc4bb43abbc819cb4b191ac82": {
      "model_module": "@jupyter-widgets/controls",
      "model_module_version": "2.0.0",
      "model_name": "HTMLModel",
      "state": {
       "_dom_classes": [],
       "_model_module": "@jupyter-widgets/controls",
       "_model_module_version": "2.0.0",
       "_model_name": "HTMLModel",
       "_view_count": null,
       "_view_module": "@jupyter-widgets/controls",
       "_view_module_version": "2.0.0",
       "_view_name": "HTMLView",
       "description": "",
       "description_allow_html": false,
       "layout": "IPY_MODEL_d76bb14f8a25417a934bd56953d6da4e",
       "placeholder": "​",
       "style": "IPY_MODEL_2506f63d1c174a67a88fda9f652da5c1",
       "tabbable": null,
       "tooltip": null,
       "value": "README.md: 100%"
      }
     },
     "27804cc24d94494e8a43ab6914151dc3": {
      "model_module": "@jupyter-widgets/base",
      "model_module_version": "2.0.0",
      "model_name": "LayoutModel",
      "state": {
       "_model_module": "@jupyter-widgets/base",
       "_model_module_version": "2.0.0",
       "_model_name": "LayoutModel",
       "_view_count": null,
       "_view_module": "@jupyter-widgets/base",
       "_view_module_version": "2.0.0",
       "_view_name": "LayoutView",
       "align_content": null,
       "align_items": null,
       "align_self": null,
       "border_bottom": null,
       "border_left": null,
       "border_right": null,
       "border_top": null,
       "bottom": null,
       "display": null,
       "flex": null,
       "flex_flow": null,
       "grid_area": null,
       "grid_auto_columns": null,
       "grid_auto_flow": null,
       "grid_auto_rows": null,
       "grid_column": null,
       "grid_gap": null,
       "grid_row": null,
       "grid_template_areas": null,
       "grid_template_columns": null,
       "grid_template_rows": null,
       "height": null,
       "justify_content": null,
       "justify_items": null,
       "left": null,
       "margin": null,
       "max_height": null,
       "max_width": null,
       "min_height": null,
       "min_width": null,
       "object_fit": null,
       "object_position": null,
       "order": null,
       "overflow": null,
       "padding": null,
       "right": null,
       "top": null,
       "visibility": null,
       "width": null
      }
     },
     "2807b302d15f40ef9c5f57a78ce63bdb": {
      "model_module": "@jupyter-widgets/base",
      "model_module_version": "2.0.0",
      "model_name": "LayoutModel",
      "state": {
       "_model_module": "@jupyter-widgets/base",
       "_model_module_version": "2.0.0",
       "_model_name": "LayoutModel",
       "_view_count": null,
       "_view_module": "@jupyter-widgets/base",
       "_view_module_version": "2.0.0",
       "_view_name": "LayoutView",
       "align_content": null,
       "align_items": null,
       "align_self": null,
       "border_bottom": null,
       "border_left": null,
       "border_right": null,
       "border_top": null,
       "bottom": null,
       "display": null,
       "flex": null,
       "flex_flow": null,
       "grid_area": null,
       "grid_auto_columns": null,
       "grid_auto_flow": null,
       "grid_auto_rows": null,
       "grid_column": null,
       "grid_gap": null,
       "grid_row": null,
       "grid_template_areas": null,
       "grid_template_columns": null,
       "grid_template_rows": null,
       "height": null,
       "justify_content": null,
       "justify_items": null,
       "left": null,
       "margin": null,
       "max_height": null,
       "max_width": null,
       "min_height": null,
       "min_width": null,
       "object_fit": null,
       "object_position": null,
       "order": null,
       "overflow": null,
       "padding": null,
       "right": null,
       "top": null,
       "visibility": null,
       "width": null
      }
     },
     "281c3035dfc7429faea18a22e86aac83": {
      "model_module": "@jupyter-widgets/controls",
      "model_module_version": "2.0.0",
      "model_name": "HTMLModel",
      "state": {
       "_dom_classes": [],
       "_model_module": "@jupyter-widgets/controls",
       "_model_module_version": "2.0.0",
       "_model_name": "HTMLModel",
       "_view_count": null,
       "_view_module": "@jupyter-widgets/controls",
       "_view_module_version": "2.0.0",
       "_view_name": "HTMLView",
       "description": "",
       "description_allow_html": false,
       "layout": "IPY_MODEL_bbb841a1228f445c84c61e8eea9e31db",
       "placeholder": "​",
       "style": "IPY_MODEL_60aeceb25ed54cc0abef9934ed00355b",
       "tabbable": null,
       "tooltip": null,
       "value": " 3/3 [00:00&lt;00:00,  6.76it/s]"
      }
     },
     "2daa5b265e8740b98aae30e0742aef51": {
      "model_module": "@jupyter-widgets/controls",
      "model_module_version": "2.0.0",
      "model_name": "HTMLModel",
      "state": {
       "_dom_classes": [],
       "_model_module": "@jupyter-widgets/controls",
       "_model_module_version": "2.0.0",
       "_model_name": "HTMLModel",
       "_view_count": null,
       "_view_module": "@jupyter-widgets/controls",
       "_view_module_version": "2.0.0",
       "_view_name": "HTMLView",
       "description": "",
       "description_allow_html": false,
       "layout": "IPY_MODEL_19f8c86202b04d128337a413b1f9034a",
       "placeholder": "​",
       "style": "IPY_MODEL_52ef1a55973c475eb87ec759f6297dda",
       "tabbable": null,
       "tooltip": null,
       "value": "dataset_infos.json: 100%"
      }
     },
     "3083eed266d74471a736e8ef3928ece4": {
      "model_module": "@jupyter-widgets/base",
      "model_module_version": "2.0.0",
      "model_name": "LayoutModel",
      "state": {
       "_model_module": "@jupyter-widgets/base",
       "_model_module_version": "2.0.0",
       "_model_name": "LayoutModel",
       "_view_count": null,
       "_view_module": "@jupyter-widgets/base",
       "_view_module_version": "2.0.0",
       "_view_name": "LayoutView",
       "align_content": null,
       "align_items": null,
       "align_self": null,
       "border_bottom": null,
       "border_left": null,
       "border_right": null,
       "border_top": null,
       "bottom": null,
       "display": null,
       "flex": null,
       "flex_flow": null,
       "grid_area": null,
       "grid_auto_columns": null,
       "grid_auto_flow": null,
       "grid_auto_rows": null,
       "grid_column": null,
       "grid_gap": null,
       "grid_row": null,
       "grid_template_areas": null,
       "grid_template_columns": null,
       "grid_template_rows": null,
       "height": null,
       "justify_content": null,
       "justify_items": null,
       "left": null,
       "margin": null,
       "max_height": null,
       "max_width": null,
       "min_height": null,
       "min_width": null,
       "object_fit": null,
       "object_position": null,
       "order": null,
       "overflow": null,
       "padding": null,
       "right": null,
       "top": null,
       "visibility": null,
       "width": null
      }
     },
     "3778d6fef8404f4ba6919b70344baca8": {
      "model_module": "@jupyter-widgets/controls",
      "model_module_version": "2.0.0",
      "model_name": "FloatProgressModel",
      "state": {
       "_dom_classes": [],
       "_model_module": "@jupyter-widgets/controls",
       "_model_module_version": "2.0.0",
       "_model_name": "FloatProgressModel",
       "_view_count": null,
       "_view_module": "@jupyter-widgets/controls",
       "_view_module_version": "2.0.0",
       "_view_name": "ProgressView",
       "bar_style": "success",
       "description": "",
       "description_allow_html": false,
       "layout": "IPY_MODEL_f5b764df0aa74ec9acc5088e50408cfd",
       "max": 500080.0,
       "min": 0.0,
       "orientation": "horizontal",
       "style": "IPY_MODEL_bdbd9cc2a15040f4b8d7de18b6bf7393",
       "tabbable": null,
       "tooltip": null,
       "value": 500080.0
      }
     },
     "3bfcb3c6db194e3bb349571c610d6a60": {
      "model_module": "@jupyter-widgets/controls",
      "model_module_version": "2.0.0",
      "model_name": "HTMLModel",
      "state": {
       "_dom_classes": [],
       "_model_module": "@jupyter-widgets/controls",
       "_model_module_version": "2.0.0",
       "_model_name": "HTMLModel",
       "_view_count": null,
       "_view_module": "@jupyter-widgets/controls",
       "_view_module_version": "2.0.0",
       "_view_name": "HTMLView",
       "description": "",
       "description_allow_html": false,
       "layout": "IPY_MODEL_27804cc24d94494e8a43ab6914151dc3",
       "placeholder": "​",
       "style": "IPY_MODEL_e45afd0772ab429dbb49b2b63edaab78",
       "tabbable": null,
       "tooltip": null,
       "value": "Generating train split: 100%"
      }
     },
     "3ca73648b52447c9905916aff4eece0e": {
      "model_module": "@jupyter-widgets/base",
      "model_module_version": "2.0.0",
      "model_name": "LayoutModel",
      "state": {
       "_model_module": "@jupyter-widgets/base",
       "_model_module_version": "2.0.0",
       "_model_name": "LayoutModel",
       "_view_count": null,
       "_view_module": "@jupyter-widgets/base",
       "_view_module_version": "2.0.0",
       "_view_name": "LayoutView",
       "align_content": null,
       "align_items": null,
       "align_self": null,
       "border_bottom": null,
       "border_left": null,
       "border_right": null,
       "border_top": null,
       "bottom": null,
       "display": null,
       "flex": null,
       "flex_flow": null,
       "grid_area": null,
       "grid_auto_columns": null,
       "grid_auto_flow": null,
       "grid_auto_rows": null,
       "grid_column": null,
       "grid_gap": null,
       "grid_row": null,
       "grid_template_areas": null,
       "grid_template_columns": null,
       "grid_template_rows": null,
       "height": null,
       "justify_content": null,
       "justify_items": null,
       "left": null,
       "margin": null,
       "max_height": null,
       "max_width": null,
       "min_height": null,
       "min_width": null,
       "object_fit": null,
       "object_position": null,
       "order": null,
       "overflow": null,
       "padding": null,
       "right": null,
       "top": null,
       "visibility": null,
       "width": null
      }
     },
     "3e83ea917bd74c88b08161de3c73643b": {
      "model_module": "@jupyter-widgets/base",
      "model_module_version": "2.0.0",
      "model_name": "LayoutModel",
      "state": {
       "_model_module": "@jupyter-widgets/base",
       "_model_module_version": "2.0.0",
       "_model_name": "LayoutModel",
       "_view_count": null,
       "_view_module": "@jupyter-widgets/base",
       "_view_module_version": "2.0.0",
       "_view_name": "LayoutView",
       "align_content": null,
       "align_items": null,
       "align_self": null,
       "border_bottom": null,
       "border_left": null,
       "border_right": null,
       "border_top": null,
       "bottom": null,
       "display": null,
       "flex": null,
       "flex_flow": null,
       "grid_area": null,
       "grid_auto_columns": null,
       "grid_auto_flow": null,
       "grid_auto_rows": null,
       "grid_column": null,
       "grid_gap": null,
       "grid_row": null,
       "grid_template_areas": null,
       "grid_template_columns": null,
       "grid_template_rows": null,
       "height": null,
       "justify_content": null,
       "justify_items": null,
       "left": null,
       "margin": null,
       "max_height": null,
       "max_width": null,
       "min_height": null,
       "min_width": null,
       "object_fit": null,
       "object_position": null,
       "order": null,
       "overflow": null,
       "padding": null,
       "right": null,
       "top": null,
       "visibility": null,
       "width": null
      }
     },
     "402ce7d3354a487c9739a1d2e7f5a495": {
      "model_module": "@jupyter-widgets/base",
      "model_module_version": "2.0.0",
      "model_name": "LayoutModel",
      "state": {
       "_model_module": "@jupyter-widgets/base",
       "_model_module_version": "2.0.0",
       "_model_name": "LayoutModel",
       "_view_count": null,
       "_view_module": "@jupyter-widgets/base",
       "_view_module_version": "2.0.0",
       "_view_name": "LayoutView",
       "align_content": null,
       "align_items": null,
       "align_self": null,
       "border_bottom": null,
       "border_left": null,
       "border_right": null,
       "border_top": null,
       "bottom": null,
       "display": null,
       "flex": null,
       "flex_flow": null,
       "grid_area": null,
       "grid_auto_columns": null,
       "grid_auto_flow": null,
       "grid_auto_rows": null,
       "grid_column": null,
       "grid_gap": null,
       "grid_row": null,
       "grid_template_areas": null,
       "grid_template_columns": null,
       "grid_template_rows": null,
       "height": null,
       "justify_content": null,
       "justify_items": null,
       "left": null,
       "margin": null,
       "max_height": null,
       "max_width": null,
       "min_height": null,
       "min_width": null,
       "object_fit": null,
       "object_position": null,
       "order": null,
       "overflow": null,
       "padding": null,
       "right": null,
       "top": null,
       "visibility": null,
       "width": null
      }
     },
     "40cb7301571947d49e87a6ea5ce86622": {
      "model_module": "@jupyter-widgets/controls",
      "model_module_version": "2.0.0",
      "model_name": "HBoxModel",
      "state": {
       "_dom_classes": [],
       "_model_module": "@jupyter-widgets/controls",
       "_model_module_version": "2.0.0",
       "_model_name": "HBoxModel",
       "_view_count": null,
       "_view_module": "@jupyter-widgets/controls",
       "_view_module_version": "2.0.0",
       "_view_name": "HBoxView",
       "box_style": "",
       "children": [
        "IPY_MODEL_3bfcb3c6db194e3bb349571c610d6a60",
        "IPY_MODEL_bfc0d4fa5406451689e589589f7c5121",
        "IPY_MODEL_7fabfb9d014842fe9198cfc1916d4da7"
       ],
       "layout": "IPY_MODEL_99f00f8850a3436ea0fb17dfafdee26c",
       "tabbable": null,
       "tooltip": null
      }
     },
     "48936a3d1ab6482cbd91acafec29880c": {
      "model_module": "@jupyter-widgets/base",
      "model_module_version": "2.0.0",
      "model_name": "LayoutModel",
      "state": {
       "_model_module": "@jupyter-widgets/base",
       "_model_module_version": "2.0.0",
       "_model_name": "LayoutModel",
       "_view_count": null,
       "_view_module": "@jupyter-widgets/base",
       "_view_module_version": "2.0.0",
       "_view_name": "LayoutView",
       "align_content": null,
       "align_items": null,
       "align_self": null,
       "border_bottom": null,
       "border_left": null,
       "border_right": null,
       "border_top": null,
       "bottom": null,
       "display": null,
       "flex": null,
       "flex_flow": null,
       "grid_area": null,
       "grid_auto_columns": null,
       "grid_auto_flow": null,
       "grid_auto_rows": null,
       "grid_column": null,
       "grid_gap": null,
       "grid_row": null,
       "grid_template_areas": null,
       "grid_template_columns": null,
       "grid_template_rows": null,
       "height": null,
       "justify_content": null,
       "justify_items": null,
       "left": null,
       "margin": null,
       "max_height": null,
       "max_width": null,
       "min_height": null,
       "min_width": null,
       "object_fit": null,
       "object_position": null,
       "order": null,
       "overflow": null,
       "padding": null,
       "right": null,
       "top": null,
       "visibility": null,
       "width": null
      }
     },
     "493ef69b2aa0433a869141f0e24bdf0b": {
      "model_module": "@jupyter-widgets/controls",
      "model_module_version": "2.0.0",
      "model_name": "HTMLModel",
      "state": {
       "_dom_classes": [],
       "_model_module": "@jupyter-widgets/controls",
       "_model_module_version": "2.0.0",
       "_model_name": "HTMLModel",
       "_view_count": null,
       "_view_module": "@jupyter-widgets/controls",
       "_view_module_version": "2.0.0",
       "_view_name": "HTMLView",
       "description": "",
       "description_allow_html": false,
       "layout": "IPY_MODEL_9032bb2dff974a6b83edb57ae29730f7",
       "placeholder": "​",
       "style": "IPY_MODEL_9d43b66348d14d32a874d73611bdf998",
       "tabbable": null,
       "tooltip": null,
       "value": " 2507/2507 [00:00&lt;00:00, 162498.57 examples/s]"
      }
     },
     "51ceb5f808584bfa88d3818e7ac47a6d": {
      "model_module": "@jupyter-widgets/controls",
      "model_module_version": "2.0.0",
      "model_name": "HBoxModel",
      "state": {
       "_dom_classes": [],
       "_model_module": "@jupyter-widgets/controls",
       "_model_module_version": "2.0.0",
       "_model_name": "HBoxModel",
       "_view_count": null,
       "_view_module": "@jupyter-widgets/controls",
       "_view_module_version": "2.0.0",
       "_view_name": "HBoxView",
       "box_style": "",
       "children": [
        "IPY_MODEL_ec93dab7bd3a4a4f8e56456db0d2215c",
        "IPY_MODEL_c22c0812133049b2a3d77251a7bb25ce",
        "IPY_MODEL_70f27e5326c14158b5c9981b3367ad48"
       ],
       "layout": "IPY_MODEL_9504e396acf9481b8ccc9d3e4e65ba16",
       "tabbable": null,
       "tooltip": null
      }
     },
     "52abe54aa41a4ad69d9e22ce5f4587b9": {
      "model_module": "@jupyter-widgets/base",
      "model_module_version": "2.0.0",
      "model_name": "LayoutModel",
      "state": {
       "_model_module": "@jupyter-widgets/base",
       "_model_module_version": "2.0.0",
       "_model_name": "LayoutModel",
       "_view_count": null,
       "_view_module": "@jupyter-widgets/base",
       "_view_module_version": "2.0.0",
       "_view_name": "LayoutView",
       "align_content": null,
       "align_items": null,
       "align_self": null,
       "border_bottom": null,
       "border_left": null,
       "border_right": null,
       "border_top": null,
       "bottom": null,
       "display": null,
       "flex": null,
       "flex_flow": null,
       "grid_area": null,
       "grid_auto_columns": null,
       "grid_auto_flow": null,
       "grid_auto_rows": null,
       "grid_column": null,
       "grid_gap": null,
       "grid_row": null,
       "grid_template_areas": null,
       "grid_template_columns": null,
       "grid_template_rows": null,
       "height": null,
       "justify_content": null,
       "justify_items": null,
       "left": null,
       "margin": null,
       "max_height": null,
       "max_width": null,
       "min_height": null,
       "min_width": null,
       "object_fit": null,
       "object_position": null,
       "order": null,
       "overflow": null,
       "padding": null,
       "right": null,
       "top": null,
       "visibility": null,
       "width": null
      }
     },
     "52ef1a55973c475eb87ec759f6297dda": {
      "model_module": "@jupyter-widgets/controls",
      "model_module_version": "2.0.0",
      "model_name": "HTMLStyleModel",
      "state": {
       "_model_module": "@jupyter-widgets/controls",
       "_model_module_version": "2.0.0",
       "_model_name": "HTMLStyleModel",
       "_view_count": null,
       "_view_module": "@jupyter-widgets/base",
       "_view_module_version": "2.0.0",
       "_view_name": "StyleView",
       "background": null,
       "description_width": "",
       "font_size": null,
       "text_color": null
      }
     },
     "599ae8e5e8af437f9ed1fee5c940fa91": {
      "model_module": "@jupyter-widgets/controls",
      "model_module_version": "2.0.0",
      "model_name": "FloatProgressModel",
      "state": {
       "_dom_classes": [],
       "_model_module": "@jupyter-widgets/controls",
       "_model_module_version": "2.0.0",
       "_model_name": "FloatProgressModel",
       "_view_count": null,
       "_view_module": "@jupyter-widgets/controls",
       "_view_module_version": "2.0.0",
       "_view_name": "ProgressView",
       "bar_style": "success",
       "description": "",
       "description_allow_html": false,
       "layout": "IPY_MODEL_2807b302d15f40ef9c5f57a78ce63bdb",
       "max": 2507.0,
       "min": 0.0,
       "orientation": "horizontal",
       "style": "IPY_MODEL_ac793ea89b184331880fd89d228b245b",
       "tabbable": null,
       "tooltip": null,
       "value": 2507.0
      }
     },
     "5fcca665d2a94f3cb25fd6fe429038ef": {
      "model_module": "@jupyter-widgets/controls",
      "model_module_version": "2.0.0",
      "model_name": "HTMLStyleModel",
      "state": {
       "_model_module": "@jupyter-widgets/controls",
       "_model_module_version": "2.0.0",
       "_model_name": "HTMLStyleModel",
       "_view_count": null,
       "_view_module": "@jupyter-widgets/base",
       "_view_module_version": "2.0.0",
       "_view_name": "StyleView",
       "background": null,
       "description_width": "",
       "font_size": null,
       "text_color": null
      }
     },
     "60aeceb25ed54cc0abef9934ed00355b": {
      "model_module": "@jupyter-widgets/controls",
      "model_module_version": "2.0.0",
      "model_name": "HTMLStyleModel",
      "state": {
       "_model_module": "@jupyter-widgets/controls",
       "_model_module_version": "2.0.0",
       "_model_name": "HTMLStyleModel",
       "_view_count": null,
       "_view_module": "@jupyter-widgets/base",
       "_view_module_version": "2.0.0",
       "_view_name": "StyleView",
       "background": null,
       "description_width": "",
       "font_size": null,
       "text_color": null
      }
     },
     "60f8291eb9314b979b0777ff28608e12": {
      "model_module": "@jupyter-widgets/base",
      "model_module_version": "2.0.0",
      "model_name": "LayoutModel",
      "state": {
       "_model_module": "@jupyter-widgets/base",
       "_model_module_version": "2.0.0",
       "_model_name": "LayoutModel",
       "_view_count": null,
       "_view_module": "@jupyter-widgets/base",
       "_view_module_version": "2.0.0",
       "_view_name": "LayoutView",
       "align_content": null,
       "align_items": null,
       "align_self": null,
       "border_bottom": null,
       "border_left": null,
       "border_right": null,
       "border_top": null,
       "bottom": null,
       "display": null,
       "flex": null,
       "flex_flow": null,
       "grid_area": null,
       "grid_auto_columns": null,
       "grid_auto_flow": null,
       "grid_auto_rows": null,
       "grid_column": null,
       "grid_gap": null,
       "grid_row": null,
       "grid_template_areas": null,
       "grid_template_columns": null,
       "grid_template_rows": null,
       "height": null,
       "justify_content": null,
       "justify_items": null,
       "left": null,
       "margin": null,
       "max_height": null,
       "max_width": null,
       "min_height": null,
       "min_width": null,
       "object_fit": null,
       "object_position": null,
       "order": null,
       "overflow": null,
       "padding": null,
       "right": null,
       "top": null,
       "visibility": null,
       "width": null
      }
     },
     "63a19a4c9c1b4071bf9be3c75e9e3a4e": {
      "model_module": "@jupyter-widgets/controls",
      "model_module_version": "2.0.0",
      "model_name": "HTMLModel",
      "state": {
       "_dom_classes": [],
       "_model_module": "@jupyter-widgets/controls",
       "_model_module_version": "2.0.0",
       "_model_name": "HTMLModel",
       "_view_count": null,
       "_view_module": "@jupyter-widgets/controls",
       "_view_module_version": "2.0.0",
       "_view_name": "HTMLView",
       "description": "",
       "description_allow_html": false,
       "layout": "IPY_MODEL_c559f6a4e11043faa4009a1991245ae1",
       "placeholder": "​",
       "style": "IPY_MODEL_c2ef2687dbfd4ffb8ce05ea12cd4ab07",
       "tabbable": null,
       "tooltip": null,
       "value": "Generating test split: 100%"
      }
     },
     "669ca2bd7df142cf95df37f154bd925d": {
      "model_module": "@jupyter-widgets/controls",
      "model_module_version": "2.0.0",
      "model_name": "FloatProgressModel",
      "state": {
       "_dom_classes": [],
       "_model_module": "@jupyter-widgets/controls",
       "_model_module_version": "2.0.0",
       "_model_name": "FloatProgressModel",
       "_view_count": null,
       "_view_module": "@jupyter-widgets/controls",
       "_view_module_version": "2.0.0",
       "_view_name": "ProgressView",
       "bar_style": "success",
       "description": "",
       "description_allow_html": false,
       "layout": "IPY_MODEL_d62ee57763344661ab7d838e9b31ac51",
       "max": 85707.0,
       "min": 0.0,
       "orientation": "horizontal",
       "style": "IPY_MODEL_be4809580f15468382ef5044a4b45cbd",
       "tabbable": null,
       "tooltip": null,
       "value": 85707.0
      }
     },
     "69576e9fbca749d1903e2c1ec7c229f0": {
      "model_module": "@jupyter-widgets/base",
      "model_module_version": "2.0.0",
      "model_name": "LayoutModel",
      "state": {
       "_model_module": "@jupyter-widgets/base",
       "_model_module_version": "2.0.0",
       "_model_name": "LayoutModel",
       "_view_count": null,
       "_view_module": "@jupyter-widgets/base",
       "_view_module_version": "2.0.0",
       "_view_name": "LayoutView",
       "align_content": null,
       "align_items": null,
       "align_self": null,
       "border_bottom": null,
       "border_left": null,
       "border_right": null,
       "border_top": null,
       "bottom": null,
       "display": null,
       "flex": null,
       "flex_flow": null,
       "grid_area": null,
       "grid_auto_columns": null,
       "grid_auto_flow": null,
       "grid_auto_rows": null,
       "grid_column": null,
       "grid_gap": null,
       "grid_row": null,
       "grid_template_areas": null,
       "grid_template_columns": null,
       "grid_template_rows": null,
       "height": null,
       "justify_content": null,
       "justify_items": null,
       "left": null,
       "margin": null,
       "max_height": null,
       "max_width": null,
       "min_height": null,
       "min_width": null,
       "object_fit": null,
       "object_position": null,
       "order": null,
       "overflow": null,
       "padding": null,
       "right": null,
       "top": null,
       "visibility": null,
       "width": null
      }
     },
     "6d79a2b767ef43c88fcff9e7335018b8": {
      "model_module": "@jupyter-widgets/base",
      "model_module_version": "2.0.0",
      "model_name": "LayoutModel",
      "state": {
       "_model_module": "@jupyter-widgets/base",
       "_model_module_version": "2.0.0",
       "_model_name": "LayoutModel",
       "_view_count": null,
       "_view_module": "@jupyter-widgets/base",
       "_view_module_version": "2.0.0",
       "_view_name": "LayoutView",
       "align_content": null,
       "align_items": null,
       "align_self": null,
       "border_bottom": null,
       "border_left": null,
       "border_right": null,
       "border_top": null,
       "bottom": null,
       "display": null,
       "flex": null,
       "flex_flow": null,
       "grid_area": null,
       "grid_auto_columns": null,
       "grid_auto_flow": null,
       "grid_auto_rows": null,
       "grid_column": null,
       "grid_gap": null,
       "grid_row": null,
       "grid_template_areas": null,
       "grid_template_columns": null,
       "grid_template_rows": null,
       "height": null,
       "justify_content": null,
       "justify_items": null,
       "left": null,
       "margin": null,
       "max_height": null,
       "max_width": null,
       "min_height": null,
       "min_width": null,
       "object_fit": null,
       "object_position": null,
       "order": null,
       "overflow": null,
       "padding": null,
       "right": null,
       "top": null,
       "visibility": null,
       "width": null
      }
     },
     "6ea855bc69c3496faffb5ce033317243": {
      "model_module": "@jupyter-widgets/controls",
      "model_module_version": "2.0.0",
      "model_name": "FloatProgressModel",
      "state": {
       "_dom_classes": [],
       "_model_module": "@jupyter-widgets/controls",
       "_model_module_version": "2.0.0",
       "_model_name": "FloatProgressModel",
       "_view_count": null,
       "_view_module": "@jupyter-widgets/controls",
       "_view_module_version": "2.0.0",
       "_view_name": "ProgressView",
       "bar_style": "success",
       "description": "",
       "description_allow_html": false,
       "layout": "IPY_MODEL_3ca73648b52447c9905916aff4eece0e",
       "max": 3.0,
       "min": 0.0,
       "orientation": "horizontal",
       "style": "IPY_MODEL_d2bc767d85db4b4084d7a3bb2bd10fa1",
       "tabbable": null,
       "tooltip": null,
       "value": 3.0
      }
     },
     "70f27e5326c14158b5c9981b3367ad48": {
      "model_module": "@jupyter-widgets/controls",
      "model_module_version": "2.0.0",
      "model_name": "HTMLModel",
      "state": {
       "_dom_classes": [],
       "_model_module": "@jupyter-widgets/controls",
       "_model_module_version": "2.0.0",
       "_model_name": "HTMLModel",
       "_view_count": null,
       "_view_module": "@jupyter-widgets/controls",
       "_view_module_version": "2.0.0",
       "_view_name": "HTMLView",
       "description": "",
       "description_allow_html": false,
       "layout": "IPY_MODEL_402ce7d3354a487c9739a1d2e7f5a495",
       "placeholder": "​",
       "style": "IPY_MODEL_73ef0938ad8142d9a971dff17c2280d0",
       "tabbable": null,
       "tooltip": null,
       "value": " 520/520 [00:00&lt;00:00, 44493.73 examples/s]"
      }
     },
     "723cca1dce5f4f3ab89d970b1193f9f5": {
      "model_module": "@jupyter-widgets/base",
      "model_module_version": "2.0.0",
      "model_name": "LayoutModel",
      "state": {
       "_model_module": "@jupyter-widgets/base",
       "_model_module_version": "2.0.0",
       "_model_name": "LayoutModel",
       "_view_count": null,
       "_view_module": "@jupyter-widgets/base",
       "_view_module_version": "2.0.0",
       "_view_name": "LayoutView",
       "align_content": null,
       "align_items": null,
       "align_self": null,
       "border_bottom": null,
       "border_left": null,
       "border_right": null,
       "border_top": null,
       "bottom": null,
       "display": null,
       "flex": null,
       "flex_flow": null,
       "grid_area": null,
       "grid_auto_columns": null,
       "grid_auto_flow": null,
       "grid_auto_rows": null,
       "grid_column": null,
       "grid_gap": null,
       "grid_row": null,
       "grid_template_areas": null,
       "grid_template_columns": null,
       "grid_template_rows": null,
       "height": null,
       "justify_content": null,
       "justify_items": null,
       "left": null,
       "margin": null,
       "max_height": null,
       "max_width": null,
       "min_height": null,
       "min_width": null,
       "object_fit": null,
       "object_position": null,
       "order": null,
       "overflow": null,
       "padding": null,
       "right": null,
       "top": null,
       "visibility": null,
       "width": null
      }
     },
     "73ef0938ad8142d9a971dff17c2280d0": {
      "model_module": "@jupyter-widgets/controls",
      "model_module_version": "2.0.0",
      "model_name": "HTMLStyleModel",
      "state": {
       "_model_module": "@jupyter-widgets/controls",
       "_model_module_version": "2.0.0",
       "_model_name": "HTMLStyleModel",
       "_view_count": null,
       "_view_module": "@jupyter-widgets/base",
       "_view_module_version": "2.0.0",
       "_view_name": "StyleView",
       "background": null,
       "description_width": "",
       "font_size": null,
       "text_color": null
      }
     },
     "78b2a099529e46ef8e3302d53bacdb01": {
      "model_module": "@jupyter-widgets/controls",
      "model_module_version": "2.0.0",
      "model_name": "HTMLStyleModel",
      "state": {
       "_model_module": "@jupyter-widgets/controls",
       "_model_module_version": "2.0.0",
       "_model_name": "HTMLStyleModel",
       "_view_count": null,
       "_view_module": "@jupyter-widgets/base",
       "_view_module_version": "2.0.0",
       "_view_name": "StyleView",
       "background": null,
       "description_width": "",
       "font_size": null,
       "text_color": null
      }
     },
     "7f5f593cc3714eacb43c7b1608d75e9c": {
      "model_module": "@jupyter-widgets/controls",
      "model_module_version": "2.0.0",
      "model_name": "HTMLStyleModel",
      "state": {
       "_model_module": "@jupyter-widgets/controls",
       "_model_module_version": "2.0.0",
       "_model_name": "HTMLStyleModel",
       "_view_count": null,
       "_view_module": "@jupyter-widgets/base",
       "_view_module_version": "2.0.0",
       "_view_name": "StyleView",
       "background": null,
       "description_width": "",
       "font_size": null,
       "text_color": null
      }
     },
     "7fabfb9d014842fe9198cfc1916d4da7": {
      "model_module": "@jupyter-widgets/controls",
      "model_module_version": "2.0.0",
      "model_name": "HTMLModel",
      "state": {
       "_dom_classes": [],
       "_model_module": "@jupyter-widgets/controls",
       "_model_module_version": "2.0.0",
       "_model_name": "HTMLModel",
       "_view_count": null,
       "_view_module": "@jupyter-widgets/controls",
       "_view_module_version": "2.0.0",
       "_view_name": "HTMLView",
       "description": "",
       "description_allow_html": false,
       "layout": "IPY_MODEL_3083eed266d74471a736e8ef3928ece4",
       "placeholder": "​",
       "style": "IPY_MODEL_fd6ea44d61bb46918dc45342f7bc95b9",
       "tabbable": null,
       "tooltip": null,
       "value": " 1659083/1659083 [00:01&lt;00:00, 974809.32 examples/s]"
      }
     },
     "87028c3ff83f4b0a8e4c35b78ba8de9e": {
      "model_module": "@jupyter-widgets/controls",
      "model_module_version": "2.0.0",
      "model_name": "HTMLModel",
      "state": {
       "_dom_classes": [],
       "_model_module": "@jupyter-widgets/controls",
       "_model_module_version": "2.0.0",
       "_model_name": "HTMLModel",
       "_view_count": null,
       "_view_module": "@jupyter-widgets/controls",
       "_view_module_version": "2.0.0",
       "_view_name": "HTMLView",
       "description": "",
       "description_allow_html": false,
       "layout": "IPY_MODEL_f5a66730110949da8a28724a6f7e3ce8",
       "placeholder": "​",
       "style": "IPY_MODEL_15356322c6e3424f939ac206ee94f0fb",
       "tabbable": null,
       "tooltip": null,
       "value": "test-00000-of-00001.parquet: 100%"
      }
     },
     "89adc4517ecd4532ab9f4f286a252c00": {
      "model_module": "@jupyter-widgets/controls",
      "model_module_version": "2.0.0",
      "model_name": "HTMLStyleModel",
      "state": {
       "_model_module": "@jupyter-widgets/controls",
       "_model_module_version": "2.0.0",
       "_model_name": "HTMLStyleModel",
       "_view_count": null,
       "_view_module": "@jupyter-widgets/base",
       "_view_module_version": "2.0.0",
       "_view_name": "StyleView",
       "background": null,
       "description_width": "",
       "font_size": null,
       "text_color": null
      }
     },
     "8c22744507e946dfa3adbefb84ce2bf8": {
      "model_module": "@jupyter-widgets/controls",
      "model_module_version": "2.0.0",
      "model_name": "HBoxModel",
      "state": {
       "_dom_classes": [],
       "_model_module": "@jupyter-widgets/controls",
       "_model_module_version": "2.0.0",
       "_model_name": "HBoxModel",
       "_view_count": null,
       "_view_module": "@jupyter-widgets/controls",
       "_view_module_version": "2.0.0",
       "_view_name": "HBoxView",
       "box_style": "",
       "children": [
        "IPY_MODEL_ed74e58e3a0c4dc085a78599ec354766",
        "IPY_MODEL_669ca2bd7df142cf95df37f154bd925d",
        "IPY_MODEL_9c34bb410e3a425db0cba0ef37812457"
       ],
       "layout": "IPY_MODEL_d9cf3c9481b34e10b592cf9a0c94b961",
       "tabbable": null,
       "tooltip": null
      }
     },
     "9032bb2dff974a6b83edb57ae29730f7": {
      "model_module": "@jupyter-widgets/base",
      "model_module_version": "2.0.0",
      "model_name": "LayoutModel",
      "state": {
       "_model_module": "@jupyter-widgets/base",
       "_model_module_version": "2.0.0",
       "_model_name": "LayoutModel",
       "_view_count": null,
       "_view_module": "@jupyter-widgets/base",
       "_view_module_version": "2.0.0",
       "_view_name": "LayoutView",
       "align_content": null,
       "align_items": null,
       "align_self": null,
       "border_bottom": null,
       "border_left": null,
       "border_right": null,
       "border_top": null,
       "bottom": null,
       "display": null,
       "flex": null,
       "flex_flow": null,
       "grid_area": null,
       "grid_auto_columns": null,
       "grid_auto_flow": null,
       "grid_auto_rows": null,
       "grid_column": null,
       "grid_gap": null,
       "grid_row": null,
       "grid_template_areas": null,
       "grid_template_columns": null,
       "grid_template_rows": null,
       "height": null,
       "justify_content": null,
       "justify_items": null,
       "left": null,
       "margin": null,
       "max_height": null,
       "max_width": null,
       "min_height": null,
       "min_width": null,
       "object_fit": null,
       "object_position": null,
       "order": null,
       "overflow": null,
       "padding": null,
       "right": null,
       "top": null,
       "visibility": null,
       "width": null
      }
     },
     "944a302c05034bf98da986fe8ccb8d36": {
      "model_module": "@jupyter-widgets/base",
      "model_module_version": "2.0.0",
      "model_name": "LayoutModel",
      "state": {
       "_model_module": "@jupyter-widgets/base",
       "_model_module_version": "2.0.0",
       "_model_name": "LayoutModel",
       "_view_count": null,
       "_view_module": "@jupyter-widgets/base",
       "_view_module_version": "2.0.0",
       "_view_name": "LayoutView",
       "align_content": null,
       "align_items": null,
       "align_self": null,
       "border_bottom": null,
       "border_left": null,
       "border_right": null,
       "border_top": null,
       "bottom": null,
       "display": null,
       "flex": null,
       "flex_flow": null,
       "grid_area": null,
       "grid_auto_columns": null,
       "grid_auto_flow": null,
       "grid_auto_rows": null,
       "grid_column": null,
       "grid_gap": null,
       "grid_row": null,
       "grid_template_areas": null,
       "grid_template_columns": null,
       "grid_template_rows": null,
       "height": null,
       "justify_content": null,
       "justify_items": null,
       "left": null,
       "margin": null,
       "max_height": null,
       "max_width": null,
       "min_height": null,
       "min_width": null,
       "object_fit": null,
       "object_position": null,
       "order": null,
       "overflow": null,
       "padding": null,
       "right": null,
       "top": null,
       "visibility": null,
       "width": null
      }
     },
     "9504e396acf9481b8ccc9d3e4e65ba16": {
      "model_module": "@jupyter-widgets/base",
      "model_module_version": "2.0.0",
      "model_name": "LayoutModel",
      "state": {
       "_model_module": "@jupyter-widgets/base",
       "_model_module_version": "2.0.0",
       "_model_name": "LayoutModel",
       "_view_count": null,
       "_view_module": "@jupyter-widgets/base",
       "_view_module_version": "2.0.0",
       "_view_name": "LayoutView",
       "align_content": null,
       "align_items": null,
       "align_self": null,
       "border_bottom": null,
       "border_left": null,
       "border_right": null,
       "border_top": null,
       "bottom": null,
       "display": null,
       "flex": null,
       "flex_flow": null,
       "grid_area": null,
       "grid_auto_columns": null,
       "grid_auto_flow": null,
       "grid_auto_rows": null,
       "grid_column": null,
       "grid_gap": null,
       "grid_row": null,
       "grid_template_areas": null,
       "grid_template_columns": null,
       "grid_template_rows": null,
       "height": null,
       "justify_content": null,
       "justify_items": null,
       "left": null,
       "margin": null,
       "max_height": null,
       "max_width": null,
       "min_height": null,
       "min_width": null,
       "object_fit": null,
       "object_position": null,
       "order": null,
       "overflow": null,
       "padding": null,
       "right": null,
       "top": null,
       "visibility": null,
       "width": null
      }
     },
     "98b78de693284ab7bca9fd58259d8b9f": {
      "model_module": "@jupyter-widgets/controls",
      "model_module_version": "2.0.0",
      "model_name": "HTMLStyleModel",
      "state": {
       "_model_module": "@jupyter-widgets/controls",
       "_model_module_version": "2.0.0",
       "_model_name": "HTMLStyleModel",
       "_view_count": null,
       "_view_module": "@jupyter-widgets/base",
       "_view_module_version": "2.0.0",
       "_view_name": "StyleView",
       "background": null,
       "description_width": "",
       "font_size": null,
       "text_color": null
      }
     },
     "99f00f8850a3436ea0fb17dfafdee26c": {
      "model_module": "@jupyter-widgets/base",
      "model_module_version": "2.0.0",
      "model_name": "LayoutModel",
      "state": {
       "_model_module": "@jupyter-widgets/base",
       "_model_module_version": "2.0.0",
       "_model_name": "LayoutModel",
       "_view_count": null,
       "_view_module": "@jupyter-widgets/base",
       "_view_module_version": "2.0.0",
       "_view_name": "LayoutView",
       "align_content": null,
       "align_items": null,
       "align_self": null,
       "border_bottom": null,
       "border_left": null,
       "border_right": null,
       "border_top": null,
       "bottom": null,
       "display": null,
       "flex": null,
       "flex_flow": null,
       "grid_area": null,
       "grid_auto_columns": null,
       "grid_auto_flow": null,
       "grid_auto_rows": null,
       "grid_column": null,
       "grid_gap": null,
       "grid_row": null,
       "grid_template_areas": null,
       "grid_template_columns": null,
       "grid_template_rows": null,
       "height": null,
       "justify_content": null,
       "justify_items": null,
       "left": null,
       "margin": null,
       "max_height": null,
       "max_width": null,
       "min_height": null,
       "min_width": null,
       "object_fit": null,
       "object_position": null,
       "order": null,
       "overflow": null,
       "padding": null,
       "right": null,
       "top": null,
       "visibility": null,
       "width": null
      }
     },
     "9b37abbcf02d4d2382205068081b04d4": {
      "model_module": "@jupyter-widgets/base",
      "model_module_version": "2.0.0",
      "model_name": "LayoutModel",
      "state": {
       "_model_module": "@jupyter-widgets/base",
       "_model_module_version": "2.0.0",
       "_model_name": "LayoutModel",
       "_view_count": null,
       "_view_module": "@jupyter-widgets/base",
       "_view_module_version": "2.0.0",
       "_view_name": "LayoutView",
       "align_content": null,
       "align_items": null,
       "align_self": null,
       "border_bottom": null,
       "border_left": null,
       "border_right": null,
       "border_top": null,
       "bottom": null,
       "display": null,
       "flex": null,
       "flex_flow": null,
       "grid_area": null,
       "grid_auto_columns": null,
       "grid_auto_flow": null,
       "grid_auto_rows": null,
       "grid_column": null,
       "grid_gap": null,
       "grid_row": null,
       "grid_template_areas": null,
       "grid_template_columns": null,
       "grid_template_rows": null,
       "height": null,
       "justify_content": null,
       "justify_items": null,
       "left": null,
       "margin": null,
       "max_height": null,
       "max_width": null,
       "min_height": null,
       "min_width": null,
       "object_fit": null,
       "object_position": null,
       "order": null,
       "overflow": null,
       "padding": null,
       "right": null,
       "top": null,
       "visibility": null,
       "width": null
      }
     },
     "9c34bb410e3a425db0cba0ef37812457": {
      "model_module": "@jupyter-widgets/controls",
      "model_module_version": "2.0.0",
      "model_name": "HTMLModel",
      "state": {
       "_dom_classes": [],
       "_model_module": "@jupyter-widgets/controls",
       "_model_module_version": "2.0.0",
       "_model_name": "HTMLModel",
       "_view_count": null,
       "_view_module": "@jupyter-widgets/controls",
       "_view_module_version": "2.0.0",
       "_view_name": "HTMLView",
       "description": "",
       "description_allow_html": false,
       "layout": "IPY_MODEL_9b37abbcf02d4d2382205068081b04d4",
       "placeholder": "​",
       "style": "IPY_MODEL_b6844ae6aee248e7a6038073f54fdf7d",
       "tabbable": null,
       "tooltip": null,
       "value": " 85.7k/85.7k [00:00&lt;00:00, 9.17MB/s]"
      }
     },
     "9d43b66348d14d32a874d73611bdf998": {
      "model_module": "@jupyter-widgets/controls",
      "model_module_version": "2.0.0",
      "model_name": "HTMLStyleModel",
      "state": {
       "_model_module": "@jupyter-widgets/controls",
       "_model_module_version": "2.0.0",
       "_model_name": "HTMLStyleModel",
       "_view_count": null,
       "_view_module": "@jupyter-widgets/base",
       "_view_module_version": "2.0.0",
       "_view_name": "StyleView",
       "background": null,
       "description_width": "",
       "font_size": null,
       "text_color": null
      }
     },
     "9f2e45e4860c4ee2b32b40981d68111a": {
      "model_module": "@jupyter-widgets/base",
      "model_module_version": "2.0.0",
      "model_name": "LayoutModel",
      "state": {
       "_model_module": "@jupyter-widgets/base",
       "_model_module_version": "2.0.0",
       "_model_name": "LayoutModel",
       "_view_count": null,
       "_view_module": "@jupyter-widgets/base",
       "_view_module_version": "2.0.0",
       "_view_name": "LayoutView",
       "align_content": null,
       "align_items": null,
       "align_self": null,
       "border_bottom": null,
       "border_left": null,
       "border_right": null,
       "border_top": null,
       "bottom": null,
       "display": null,
       "flex": null,
       "flex_flow": null,
       "grid_area": null,
       "grid_auto_columns": null,
       "grid_auto_flow": null,
       "grid_auto_rows": null,
       "grid_column": null,
       "grid_gap": null,
       "grid_row": null,
       "grid_template_areas": null,
       "grid_template_columns": null,
       "grid_template_rows": null,
       "height": null,
       "justify_content": null,
       "justify_items": null,
       "left": null,
       "margin": null,
       "max_height": null,
       "max_width": null,
       "min_height": null,
       "min_width": null,
       "object_fit": null,
       "object_position": null,
       "order": null,
       "overflow": null,
       "padding": null,
       "right": null,
       "top": null,
       "visibility": null,
       "width": null
      }
     },
     "a064a47621eb442eb75319747cddeeb2": {
      "model_module": "@jupyter-widgets/controls",
      "model_module_version": "2.0.0",
      "model_name": "HTMLModel",
      "state": {
       "_dom_classes": [],
       "_model_module": "@jupyter-widgets/controls",
       "_model_module_version": "2.0.0",
       "_model_name": "HTMLModel",
       "_view_count": null,
       "_view_module": "@jupyter-widgets/controls",
       "_view_module_version": "2.0.0",
       "_view_name": "HTMLView",
       "description": "",
       "description_allow_html": false,
       "layout": "IPY_MODEL_48936a3d1ab6482cbd91acafec29880c",
       "placeholder": "​",
       "style": "IPY_MODEL_98b78de693284ab7bca9fd58259d8b9f",
       "tabbable": null,
       "tooltip": null,
       "value": "Computing checksums: 100%"
      }
     },
     "a10b738f78054e9c85849cd3c3e1a8ed": {
      "model_module": "@jupyter-widgets/controls",
      "model_module_version": "2.0.0",
      "model_name": "ProgressStyleModel",
      "state": {
       "_model_module": "@jupyter-widgets/controls",
       "_model_module_version": "2.0.0",
       "_model_name": "ProgressStyleModel",
       "_view_count": null,
       "_view_module": "@jupyter-widgets/base",
       "_view_module_version": "2.0.0",
       "_view_name": "StyleView",
       "bar_color": null,
       "description_width": ""
      }
     },
     "a769898e5147435d87b8f6a3380f64ba": {
      "model_module": "@jupyter-widgets/controls",
      "model_module_version": "2.0.0",
      "model_name": "HTMLStyleModel",
      "state": {
       "_model_module": "@jupyter-widgets/controls",
       "_model_module_version": "2.0.0",
       "_model_name": "HTMLStyleModel",
       "_view_count": null,
       "_view_module": "@jupyter-widgets/base",
       "_view_module_version": "2.0.0",
       "_view_name": "StyleView",
       "background": null,
       "description_width": "",
       "font_size": null,
       "text_color": null
      }
     },
     "a76d1dc9c7874d0db08216fb552ef924": {
      "model_module": "@jupyter-widgets/controls",
      "model_module_version": "2.0.0",
      "model_name": "HTMLModel",
      "state": {
       "_dom_classes": [],
       "_model_module": "@jupyter-widgets/controls",
       "_model_module_version": "2.0.0",
       "_model_name": "HTMLModel",
       "_view_count": null,
       "_view_module": "@jupyter-widgets/controls",
       "_view_module_version": "2.0.0",
       "_view_name": "HTMLView",
       "description": "",
       "description_allow_html": false,
       "layout": "IPY_MODEL_944a302c05034bf98da986fe8ccb8d36",
       "placeholder": "​",
       "style": "IPY_MODEL_89adc4517ecd4532ab9f4f286a252c00",
       "tabbable": null,
       "tooltip": null,
       "value": " 190M/190M [00:00&lt;00:00, 360MB/s]"
      }
     },
     "ac793ea89b184331880fd89d228b245b": {
      "model_module": "@jupyter-widgets/controls",
      "model_module_version": "2.0.0",
      "model_name": "ProgressStyleModel",
      "state": {
       "_model_module": "@jupyter-widgets/controls",
       "_model_module_version": "2.0.0",
       "_model_name": "ProgressStyleModel",
       "_view_count": null,
       "_view_module": "@jupyter-widgets/base",
       "_view_module_version": "2.0.0",
       "_view_name": "StyleView",
       "bar_color": null,
       "description_width": ""
      }
     },
     "acae4991d81c416c954e1eaa9521ff94": {
      "model_module": "@jupyter-widgets/controls",
      "model_module_version": "2.0.0",
      "model_name": "HBoxModel",
      "state": {
       "_dom_classes": [],
       "_model_module": "@jupyter-widgets/controls",
       "_model_module_version": "2.0.0",
       "_model_name": "HBoxModel",
       "_view_count": null,
       "_view_module": "@jupyter-widgets/controls",
       "_view_module_version": "2.0.0",
       "_view_name": "HBoxView",
       "box_style": "",
       "children": [
        "IPY_MODEL_a064a47621eb442eb75319747cddeeb2",
        "IPY_MODEL_6ea855bc69c3496faffb5ce033317243",
        "IPY_MODEL_281c3035dfc7429faea18a22e86aac83"
       ],
       "layout": "IPY_MODEL_60f8291eb9314b979b0777ff28608e12",
       "tabbable": null,
       "tooltip": null
      }
     },
     "b36ca751e0114a74a3545fbe972c55e4": {
      "model_module": "@jupyter-widgets/controls",
      "model_module_version": "2.0.0",
      "model_name": "ProgressStyleModel",
      "state": {
       "_model_module": "@jupyter-widgets/controls",
       "_model_module_version": "2.0.0",
       "_model_name": "ProgressStyleModel",
       "_view_count": null,
       "_view_module": "@jupyter-widgets/base",
       "_view_module_version": "2.0.0",
       "_view_name": "StyleView",
       "bar_color": null,
       "description_width": ""
      }
     },
     "b5c227416ce24e199f7553784a74bbc0": {
      "model_module": "@jupyter-widgets/base",
      "model_module_version": "2.0.0",
      "model_name": "LayoutModel",
      "state": {
       "_model_module": "@jupyter-widgets/base",
       "_model_module_version": "2.0.0",
       "_model_name": "LayoutModel",
       "_view_count": null,
       "_view_module": "@jupyter-widgets/base",
       "_view_module_version": "2.0.0",
       "_view_name": "LayoutView",
       "align_content": null,
       "align_items": null,
       "align_self": null,
       "border_bottom": null,
       "border_left": null,
       "border_right": null,
       "border_top": null,
       "bottom": null,
       "display": null,
       "flex": null,
       "flex_flow": null,
       "grid_area": null,
       "grid_auto_columns": null,
       "grid_auto_flow": null,
       "grid_auto_rows": null,
       "grid_column": null,
       "grid_gap": null,
       "grid_row": null,
       "grid_template_areas": null,
       "grid_template_columns": null,
       "grid_template_rows": null,
       "height": null,
       "justify_content": null,
       "justify_items": null,
       "left": null,
       "margin": null,
       "max_height": null,
       "max_width": null,
       "min_height": null,
       "min_width": null,
       "object_fit": null,
       "object_position": null,
       "order": null,
       "overflow": null,
       "padding": null,
       "right": null,
       "top": null,
       "visibility": null,
       "width": null
      }
     },
     "b6844ae6aee248e7a6038073f54fdf7d": {
      "model_module": "@jupyter-widgets/controls",
      "model_module_version": "2.0.0",
      "model_name": "HTMLStyleModel",
      "state": {
       "_model_module": "@jupyter-widgets/controls",
       "_model_module_version": "2.0.0",
       "_model_name": "HTMLStyleModel",
       "_view_count": null,
       "_view_module": "@jupyter-widgets/base",
       "_view_module_version": "2.0.0",
       "_view_name": "StyleView",
       "background": null,
       "description_width": "",
       "font_size": null,
       "text_color": null
      }
     },
     "b7e96d534cef481ba8930ae96f0c0078": {
      "model_module": "@jupyter-widgets/controls",
      "model_module_version": "2.0.0",
      "model_name": "HBoxModel",
      "state": {
       "_dom_classes": [],
       "_model_module": "@jupyter-widgets/controls",
       "_model_module_version": "2.0.0",
       "_model_name": "HBoxModel",
       "_view_count": null,
       "_view_module": "@jupyter-widgets/controls",
       "_view_module_version": "2.0.0",
       "_view_name": "HBoxView",
       "box_style": "",
       "children": [
        "IPY_MODEL_2daa5b265e8740b98aae30e0742aef51",
        "IPY_MODEL_e55383e4cd97468b8fb1974cbcf02f5c",
        "IPY_MODEL_ca747663ddde4f8f826311544be8cb9c"
       ],
       "layout": "IPY_MODEL_10a4ff8fcd31477aba84e629d6317c79",
       "tabbable": null,
       "tooltip": null
      }
     },
     "bbb841a1228f445c84c61e8eea9e31db": {
      "model_module": "@jupyter-widgets/base",
      "model_module_version": "2.0.0",
      "model_name": "LayoutModel",
      "state": {
       "_model_module": "@jupyter-widgets/base",
       "_model_module_version": "2.0.0",
       "_model_name": "LayoutModel",
       "_view_count": null,
       "_view_module": "@jupyter-widgets/base",
       "_view_module_version": "2.0.0",
       "_view_name": "LayoutView",
       "align_content": null,
       "align_items": null,
       "align_self": null,
       "border_bottom": null,
       "border_left": null,
       "border_right": null,
       "border_top": null,
       "bottom": null,
       "display": null,
       "flex": null,
       "flex_flow": null,
       "grid_area": null,
       "grid_auto_columns": null,
       "grid_auto_flow": null,
       "grid_auto_rows": null,
       "grid_column": null,
       "grid_gap": null,
       "grid_row": null,
       "grid_template_areas": null,
       "grid_template_columns": null,
       "grid_template_rows": null,
       "height": null,
       "justify_content": null,
       "justify_items": null,
       "left": null,
       "margin": null,
       "max_height": null,
       "max_width": null,
       "min_height": null,
       "min_width": null,
       "object_fit": null,
       "object_position": null,
       "order": null,
       "overflow": null,
       "padding": null,
       "right": null,
       "top": null,
       "visibility": null,
       "width": null
      }
     },
     "bcf4a54482914d558801de1ed3255f2e": {
      "model_module": "@jupyter-widgets/base",
      "model_module_version": "2.0.0",
      "model_name": "LayoutModel",
      "state": {
       "_model_module": "@jupyter-widgets/base",
       "_model_module_version": "2.0.0",
       "_model_name": "LayoutModel",
       "_view_count": null,
       "_view_module": "@jupyter-widgets/base",
       "_view_module_version": "2.0.0",
       "_view_name": "LayoutView",
       "align_content": null,
       "align_items": null,
       "align_self": null,
       "border_bottom": null,
       "border_left": null,
       "border_right": null,
       "border_top": null,
       "bottom": null,
       "display": null,
       "flex": null,
       "flex_flow": null,
       "grid_area": null,
       "grid_auto_columns": null,
       "grid_auto_flow": null,
       "grid_auto_rows": null,
       "grid_column": null,
       "grid_gap": null,
       "grid_row": null,
       "grid_template_areas": null,
       "grid_template_columns": null,
       "grid_template_rows": null,
       "height": null,
       "justify_content": null,
       "justify_items": null,
       "left": null,
       "margin": null,
       "max_height": null,
       "max_width": null,
       "min_height": null,
       "min_width": null,
       "object_fit": null,
       "object_position": null,
       "order": null,
       "overflow": null,
       "padding": null,
       "right": null,
       "top": null,
       "visibility": null,
       "width": null
      }
     },
     "bdbd9cc2a15040f4b8d7de18b6bf7393": {
      "model_module": "@jupyter-widgets/controls",
      "model_module_version": "2.0.0",
      "model_name": "ProgressStyleModel",
      "state": {
       "_model_module": "@jupyter-widgets/controls",
       "_model_module_version": "2.0.0",
       "_model_name": "ProgressStyleModel",
       "_view_count": null,
       "_view_module": "@jupyter-widgets/base",
       "_view_module_version": "2.0.0",
       "_view_name": "StyleView",
       "bar_color": null,
       "description_width": ""
      }
     },
     "be4809580f15468382ef5044a4b45cbd": {
      "model_module": "@jupyter-widgets/controls",
      "model_module_version": "2.0.0",
      "model_name": "ProgressStyleModel",
      "state": {
       "_model_module": "@jupyter-widgets/controls",
       "_model_module_version": "2.0.0",
       "_model_name": "ProgressStyleModel",
       "_view_count": null,
       "_view_module": "@jupyter-widgets/base",
       "_view_module_version": "2.0.0",
       "_view_name": "StyleView",
       "bar_color": null,
       "description_width": ""
      }
     },
     "bf51e506da46487d96e999f5eeb61b0c": {
      "model_module": "@jupyter-widgets/controls",
      "model_module_version": "2.0.0",
      "model_name": "HTMLStyleModel",
      "state": {
       "_model_module": "@jupyter-widgets/controls",
       "_model_module_version": "2.0.0",
       "_model_name": "HTMLStyleModel",
       "_view_count": null,
       "_view_module": "@jupyter-widgets/base",
       "_view_module_version": "2.0.0",
       "_view_name": "StyleView",
       "background": null,
       "description_width": "",
       "font_size": null,
       "text_color": null
      }
     },
     "bfc0d4fa5406451689e589589f7c5121": {
      "model_module": "@jupyter-widgets/controls",
      "model_module_version": "2.0.0",
      "model_name": "FloatProgressModel",
      "state": {
       "_dom_classes": [],
       "_model_module": "@jupyter-widgets/controls",
       "_model_module_version": "2.0.0",
       "_model_name": "FloatProgressModel",
       "_view_count": null,
       "_view_module": "@jupyter-widgets/controls",
       "_view_module_version": "2.0.0",
       "_view_name": "ProgressView",
       "bar_style": "success",
       "description": "",
       "description_allow_html": false,
       "layout": "IPY_MODEL_9f2e45e4860c4ee2b32b40981d68111a",
       "max": 1659083.0,
       "min": 0.0,
       "orientation": "horizontal",
       "style": "IPY_MODEL_20a8b36bb98f403b9dbc6812e19b00a9",
       "tabbable": null,
       "tooltip": null,
       "value": 1659083.0
      }
     },
     "c22c0812133049b2a3d77251a7bb25ce": {
      "model_module": "@jupyter-widgets/controls",
      "model_module_version": "2.0.0",
      "model_name": "FloatProgressModel",
      "state": {
       "_dom_classes": [],
       "_model_module": "@jupyter-widgets/controls",
       "_model_module_version": "2.0.0",
       "_model_name": "FloatProgressModel",
       "_view_count": null,
       "_view_module": "@jupyter-widgets/controls",
       "_view_module_version": "2.0.0",
       "_view_name": "ProgressView",
       "bar_style": "success",
       "description": "",
       "description_allow_html": false,
       "layout": "IPY_MODEL_723cca1dce5f4f3ab89d970b1193f9f5",
       "max": 520.0,
       "min": 0.0,
       "orientation": "horizontal",
       "style": "IPY_MODEL_a10b738f78054e9c85849cd3c3e1a8ed",
       "tabbable": null,
       "tooltip": null,
       "value": 520.0
      }
     },
     "c2ef2687dbfd4ffb8ce05ea12cd4ab07": {
      "model_module": "@jupyter-widgets/controls",
      "model_module_version": "2.0.0",
      "model_name": "HTMLStyleModel",
      "state": {
       "_model_module": "@jupyter-widgets/controls",
       "_model_module_version": "2.0.0",
       "_model_name": "HTMLStyleModel",
       "_view_count": null,
       "_view_module": "@jupyter-widgets/base",
       "_view_module_version": "2.0.0",
       "_view_name": "StyleView",
       "background": null,
       "description_width": "",
       "font_size": null,
       "text_color": null
      }
     },
     "c541e32abd0943b9b0e36f508fd00c69": {
      "model_module": "@jupyter-widgets/controls",
      "model_module_version": "2.0.0",
      "model_name": "HBoxModel",
      "state": {
       "_dom_classes": [],
       "_model_module": "@jupyter-widgets/controls",
       "_model_module_version": "2.0.0",
       "_model_name": "HBoxModel",
       "_view_count": null,
       "_view_module": "@jupyter-widgets/controls",
       "_view_module_version": "2.0.0",
       "_view_name": "HBoxView",
       "box_style": "",
       "children": [
        "IPY_MODEL_260994ffc4bb43abbc819cb4b191ac82",
        "IPY_MODEL_1bd046b4fa234b5a90fecb82549cda6a",
        "IPY_MODEL_e270a4c8f42f4ad8b9fd1433462f6178"
       ],
       "layout": "IPY_MODEL_69576e9fbca749d1903e2c1ec7c229f0",
       "tabbable": null,
       "tooltip": null
      }
     },
     "c559f6a4e11043faa4009a1991245ae1": {
      "model_module": "@jupyter-widgets/base",
      "model_module_version": "2.0.0",
      "model_name": "LayoutModel",
      "state": {
       "_model_module": "@jupyter-widgets/base",
       "_model_module_version": "2.0.0",
       "_model_name": "LayoutModel",
       "_view_count": null,
       "_view_module": "@jupyter-widgets/base",
       "_view_module_version": "2.0.0",
       "_view_name": "LayoutView",
       "align_content": null,
       "align_items": null,
       "align_self": null,
       "border_bottom": null,
       "border_left": null,
       "border_right": null,
       "border_top": null,
       "bottom": null,
       "display": null,
       "flex": null,
       "flex_flow": null,
       "grid_area": null,
       "grid_auto_columns": null,
       "grid_auto_flow": null,
       "grid_auto_rows": null,
       "grid_column": null,
       "grid_gap": null,
       "grid_row": null,
       "grid_template_areas": null,
       "grid_template_columns": null,
       "grid_template_rows": null,
       "height": null,
       "justify_content": null,
       "justify_items": null,
       "left": null,
       "margin": null,
       "max_height": null,
       "max_width": null,
       "min_height": null,
       "min_width": null,
       "object_fit": null,
       "object_position": null,
       "order": null,
       "overflow": null,
       "padding": null,
       "right": null,
       "top": null,
       "visibility": null,
       "width": null
      }
     },
     "c68cbcd6b5f0440c8c2bd0d7b87e739d": {
      "model_module": "@jupyter-widgets/controls",
      "model_module_version": "2.0.0",
      "model_name": "HBoxModel",
      "state": {
       "_dom_classes": [],
       "_model_module": "@jupyter-widgets/controls",
       "_model_module_version": "2.0.0",
       "_model_name": "HBoxModel",
       "_view_count": null,
       "_view_module": "@jupyter-widgets/controls",
       "_view_module_version": "2.0.0",
       "_view_name": "HBoxView",
       "box_style": "",
       "children": [
        "IPY_MODEL_63a19a4c9c1b4071bf9be3c75e9e3a4e",
        "IPY_MODEL_599ae8e5e8af437f9ed1fee5c940fa91",
        "IPY_MODEL_493ef69b2aa0433a869141f0e24bdf0b"
       ],
       "layout": "IPY_MODEL_52abe54aa41a4ad69d9e22ce5f4587b9",
       "tabbable": null,
       "tooltip": null
      }
     },
     "ca747663ddde4f8f826311544be8cb9c": {
      "model_module": "@jupyter-widgets/controls",
      "model_module_version": "2.0.0",
      "model_name": "HTMLModel",
      "state": {
       "_dom_classes": [],
       "_model_module": "@jupyter-widgets/controls",
       "_model_module_version": "2.0.0",
       "_model_name": "HTMLModel",
       "_view_count": null,
       "_view_module": "@jupyter-widgets/controls",
       "_view_module_version": "2.0.0",
       "_view_name": "HTMLView",
       "description": "",
       "description_allow_html": false,
       "layout": "IPY_MODEL_1c367f555a674aa28d4837998a2bf72c",
       "placeholder": "​",
       "style": "IPY_MODEL_a769898e5147435d87b8f6a3380f64ba",
       "tabbable": null,
       "tooltip": null,
       "value": " 953/953 [00:00&lt;00:00, 108kB/s]"
      }
     },
     "cfa05311e8fd4a9eb17386f1f1f96331": {
      "model_module": "@jupyter-widgets/controls",
      "model_module_version": "2.0.0",
      "model_name": "HTMLStyleModel",
      "state": {
       "_model_module": "@jupyter-widgets/controls",
       "_model_module_version": "2.0.0",
       "_model_name": "HTMLStyleModel",
       "_view_count": null,
       "_view_module": "@jupyter-widgets/base",
       "_view_module_version": "2.0.0",
       "_view_name": "StyleView",
       "background": null,
       "description_width": "",
       "font_size": null,
       "text_color": null
      }
     },
     "d2bc767d85db4b4084d7a3bb2bd10fa1": {
      "model_module": "@jupyter-widgets/controls",
      "model_module_version": "2.0.0",
      "model_name": "ProgressStyleModel",
      "state": {
       "_model_module": "@jupyter-widgets/controls",
       "_model_module_version": "2.0.0",
       "_model_name": "ProgressStyleModel",
       "_view_count": null,
       "_view_module": "@jupyter-widgets/base",
       "_view_module_version": "2.0.0",
       "_view_name": "StyleView",
       "bar_color": null,
       "description_width": ""
      }
     },
     "d62ee57763344661ab7d838e9b31ac51": {
      "model_module": "@jupyter-widgets/base",
      "model_module_version": "2.0.0",
      "model_name": "LayoutModel",
      "state": {
       "_model_module": "@jupyter-widgets/base",
       "_model_module_version": "2.0.0",
       "_model_name": "LayoutModel",
       "_view_count": null,
       "_view_module": "@jupyter-widgets/base",
       "_view_module_version": "2.0.0",
       "_view_name": "LayoutView",
       "align_content": null,
       "align_items": null,
       "align_self": null,
       "border_bottom": null,
       "border_left": null,
       "border_right": null,
       "border_top": null,
       "bottom": null,
       "display": null,
       "flex": null,
       "flex_flow": null,
       "grid_area": null,
       "grid_auto_columns": null,
       "grid_auto_flow": null,
       "grid_auto_rows": null,
       "grid_column": null,
       "grid_gap": null,
       "grid_row": null,
       "grid_template_areas": null,
       "grid_template_columns": null,
       "grid_template_rows": null,
       "height": null,
       "justify_content": null,
       "justify_items": null,
       "left": null,
       "margin": null,
       "max_height": null,
       "max_width": null,
       "min_height": null,
       "min_width": null,
       "object_fit": null,
       "object_position": null,
       "order": null,
       "overflow": null,
       "padding": null,
       "right": null,
       "top": null,
       "visibility": null,
       "width": null
      }
     },
     "d76bb14f8a25417a934bd56953d6da4e": {
      "model_module": "@jupyter-widgets/base",
      "model_module_version": "2.0.0",
      "model_name": "LayoutModel",
      "state": {
       "_model_module": "@jupyter-widgets/base",
       "_model_module_version": "2.0.0",
       "_model_name": "LayoutModel",
       "_view_count": null,
       "_view_module": "@jupyter-widgets/base",
       "_view_module_version": "2.0.0",
       "_view_name": "LayoutView",
       "align_content": null,
       "align_items": null,
       "align_self": null,
       "border_bottom": null,
       "border_left": null,
       "border_right": null,
       "border_top": null,
       "bottom": null,
       "display": null,
       "flex": null,
       "flex_flow": null,
       "grid_area": null,
       "grid_auto_columns": null,
       "grid_auto_flow": null,
       "grid_auto_rows": null,
       "grid_column": null,
       "grid_gap": null,
       "grid_row": null,
       "grid_template_areas": null,
       "grid_template_columns": null,
       "grid_template_rows": null,
       "height": null,
       "justify_content": null,
       "justify_items": null,
       "left": null,
       "margin": null,
       "max_height": null,
       "max_width": null,
       "min_height": null,
       "min_width": null,
       "object_fit": null,
       "object_position": null,
       "order": null,
       "overflow": null,
       "padding": null,
       "right": null,
       "top": null,
       "visibility": null,
       "width": null
      }
     },
     "d9cf3c9481b34e10b592cf9a0c94b961": {
      "model_module": "@jupyter-widgets/base",
      "model_module_version": "2.0.0",
      "model_name": "LayoutModel",
      "state": {
       "_model_module": "@jupyter-widgets/base",
       "_model_module_version": "2.0.0",
       "_model_name": "LayoutModel",
       "_view_count": null,
       "_view_module": "@jupyter-widgets/base",
       "_view_module_version": "2.0.0",
       "_view_name": "LayoutView",
       "align_content": null,
       "align_items": null,
       "align_self": null,
       "border_bottom": null,
       "border_left": null,
       "border_right": null,
       "border_top": null,
       "bottom": null,
       "display": null,
       "flex": null,
       "flex_flow": null,
       "grid_area": null,
       "grid_auto_columns": null,
       "grid_auto_flow": null,
       "grid_auto_rows": null,
       "grid_column": null,
       "grid_gap": null,
       "grid_row": null,
       "grid_template_areas": null,
       "grid_template_columns": null,
       "grid_template_rows": null,
       "height": null,
       "justify_content": null,
       "justify_items": null,
       "left": null,
       "margin": null,
       "max_height": null,
       "max_width": null,
       "min_height": null,
       "min_width": null,
       "object_fit": null,
       "object_position": null,
       "order": null,
       "overflow": null,
       "padding": null,
       "right": null,
       "top": null,
       "visibility": null,
       "width": null
      }
     },
     "e270a4c8f42f4ad8b9fd1433462f6178": {
      "model_module": "@jupyter-widgets/controls",
      "model_module_version": "2.0.0",
      "model_name": "HTMLModel",
      "state": {
       "_dom_classes": [],
       "_model_module": "@jupyter-widgets/controls",
       "_model_module_version": "2.0.0",
       "_model_name": "HTMLModel",
       "_view_count": null,
       "_view_module": "@jupyter-widgets/controls",
       "_view_module_version": "2.0.0",
       "_view_name": "HTMLView",
       "description": "",
       "description_allow_html": false,
       "layout": "IPY_MODEL_bcf4a54482914d558801de1ed3255f2e",
       "placeholder": "​",
       "style": "IPY_MODEL_5fcca665d2a94f3cb25fd6fe429038ef",
       "tabbable": null,
       "tooltip": null,
       "value": " 3.14k/3.14k [00:00&lt;00:00, 338kB/s]"
      }
     },
     "e45afd0772ab429dbb49b2b63edaab78": {
      "model_module": "@jupyter-widgets/controls",
      "model_module_version": "2.0.0",
      "model_name": "HTMLStyleModel",
      "state": {
       "_model_module": "@jupyter-widgets/controls",
       "_model_module_version": "2.0.0",
       "_model_name": "HTMLStyleModel",
       "_view_count": null,
       "_view_module": "@jupyter-widgets/base",
       "_view_module_version": "2.0.0",
       "_view_name": "StyleView",
       "background": null,
       "description_width": "",
       "font_size": null,
       "text_color": null
      }
     },
     "e55383e4cd97468b8fb1974cbcf02f5c": {
      "model_module": "@jupyter-widgets/controls",
      "model_module_version": "2.0.0",
      "model_name": "FloatProgressModel",
      "state": {
       "_dom_classes": [],
       "_model_module": "@jupyter-widgets/controls",
       "_model_module_version": "2.0.0",
       "_model_name": "FloatProgressModel",
       "_view_count": null,
       "_view_module": "@jupyter-widgets/controls",
       "_view_module_version": "2.0.0",
       "_view_name": "ProgressView",
       "bar_style": "success",
       "description": "",
       "description_allow_html": false,
       "layout": "IPY_MODEL_f54a51ebccd24397b49f21cf1a1541b4",
       "max": 953.0,
       "min": 0.0,
       "orientation": "horizontal",
       "style": "IPY_MODEL_21fb41d915f146f2bb4c2d5f7372e7aa",
       "tabbable": null,
       "tooltip": null,
       "value": 953.0
      }
     },
     "eaf7d2f283c04739ab88021ca4498776": {
      "model_module": "@jupyter-widgets/controls",
      "model_module_version": "2.0.0",
      "model_name": "FloatProgressModel",
      "state": {
       "_dom_classes": [],
       "_model_module": "@jupyter-widgets/controls",
       "_model_module_version": "2.0.0",
       "_model_name": "FloatProgressModel",
       "_view_count": null,
       "_view_module": "@jupyter-widgets/controls",
       "_view_module_version": "2.0.0",
       "_view_name": "ProgressView",
       "bar_style": "success",
       "description": "",
       "description_allow_html": false,
       "layout": "IPY_MODEL_b5c227416ce24e199f7553784a74bbc0",
       "max": 189602204.0,
       "min": 0.0,
       "orientation": "horizontal",
       "style": "IPY_MODEL_fa1a2859d121478db251b7b1d10783f2",
       "tabbable": null,
       "tooltip": null,
       "value": 189602204.0
      }
     },
     "ec906c96efb64c9f90898b9e7d2cf6f0": {
      "model_module": "@jupyter-widgets/base",
      "model_module_version": "2.0.0",
      "model_name": "LayoutModel",
      "state": {
       "_model_module": "@jupyter-widgets/base",
       "_model_module_version": "2.0.0",
       "_model_name": "LayoutModel",
       "_view_count": null,
       "_view_module": "@jupyter-widgets/base",
       "_view_module_version": "2.0.0",
       "_view_name": "LayoutView",
       "align_content": null,
       "align_items": null,
       "align_self": null,
       "border_bottom": null,
       "border_left": null,
       "border_right": null,
       "border_top": null,
       "bottom": null,
       "display": null,
       "flex": null,
       "flex_flow": null,
       "grid_area": null,
       "grid_auto_columns": null,
       "grid_auto_flow": null,
       "grid_auto_rows": null,
       "grid_column": null,
       "grid_gap": null,
       "grid_row": null,
       "grid_template_areas": null,
       "grid_template_columns": null,
       "grid_template_rows": null,
       "height": null,
       "justify_content": null,
       "justify_items": null,
       "left": null,
       "margin": null,
       "max_height": null,
       "max_width": null,
       "min_height": null,
       "min_width": null,
       "object_fit": null,
       "object_position": null,
       "order": null,
       "overflow": null,
       "padding": null,
       "right": null,
       "top": null,
       "visibility": null,
       "width": null
      }
     },
     "ec93dab7bd3a4a4f8e56456db0d2215c": {
      "model_module": "@jupyter-widgets/controls",
      "model_module_version": "2.0.0",
      "model_name": "HTMLModel",
      "state": {
       "_dom_classes": [],
       "_model_module": "@jupyter-widgets/controls",
       "_model_module_version": "2.0.0",
       "_model_name": "HTMLModel",
       "_view_count": null,
       "_view_module": "@jupyter-widgets/controls",
       "_view_module_version": "2.0.0",
       "_view_name": "HTMLView",
       "description": "",
       "description_allow_html": false,
       "layout": "IPY_MODEL_1cd1c9f517954101a6a6c5649b59c98d",
       "placeholder": "​",
       "style": "IPY_MODEL_cfa05311e8fd4a9eb17386f1f1f96331",
       "tabbable": null,
       "tooltip": null,
       "value": "Generating validation split: 100%"
      }
     },
     "ed06cec582724f1a94ed0566d9476218": {
      "model_module": "@jupyter-widgets/controls",
      "model_module_version": "2.0.0",
      "model_name": "HBoxModel",
      "state": {
       "_dom_classes": [],
       "_model_module": "@jupyter-widgets/controls",
       "_model_module_version": "2.0.0",
       "_model_name": "HBoxModel",
       "_view_count": null,
       "_view_module": "@jupyter-widgets/controls",
       "_view_module_version": "2.0.0",
       "_view_name": "HBoxView",
       "box_style": "",
       "children": [
        "IPY_MODEL_1a21d1531109443cb64a821957f1cb2d",
        "IPY_MODEL_eaf7d2f283c04739ab88021ca4498776",
        "IPY_MODEL_a76d1dc9c7874d0db08216fb552ef924"
       ],
       "layout": "IPY_MODEL_1828b794fde749c7840ed27a62a61e49",
       "tabbable": null,
       "tooltip": null
      }
     },
     "ed74e58e3a0c4dc085a78599ec354766": {
      "model_module": "@jupyter-widgets/controls",
      "model_module_version": "2.0.0",
      "model_name": "HTMLModel",
      "state": {
       "_dom_classes": [],
       "_model_module": "@jupyter-widgets/controls",
       "_model_module_version": "2.0.0",
       "_model_name": "HTMLModel",
       "_view_count": null,
       "_view_module": "@jupyter-widgets/controls",
       "_view_module_version": "2.0.0",
       "_view_name": "HTMLView",
       "description": "",
       "description_allow_html": false,
       "layout": "IPY_MODEL_3e83ea917bd74c88b08161de3c73643b",
       "placeholder": "​",
       "style": "IPY_MODEL_78b2a099529e46ef8e3302d53bacdb01",
       "tabbable": null,
       "tooltip": null,
       "value": "validation-00000-of-00001.parquet: 100%"
      }
     },
     "f1a63d2dc2c248028c4aeb16beabdfc3": {
      "model_module": "@jupyter-widgets/base",
      "model_module_version": "2.0.0",
      "model_name": "LayoutModel",
      "state": {
       "_model_module": "@jupyter-widgets/base",
       "_model_module_version": "2.0.0",
       "_model_name": "LayoutModel",
       "_view_count": null,
       "_view_module": "@jupyter-widgets/base",
       "_view_module_version": "2.0.0",
       "_view_name": "LayoutView",
       "align_content": null,
       "align_items": null,
       "align_self": null,
       "border_bottom": null,
       "border_left": null,
       "border_right": null,
       "border_top": null,
       "bottom": null,
       "display": null,
       "flex": null,
       "flex_flow": null,
       "grid_area": null,
       "grid_auto_columns": null,
       "grid_auto_flow": null,
       "grid_auto_rows": null,
       "grid_column": null,
       "grid_gap": null,
       "grid_row": null,
       "grid_template_areas": null,
       "grid_template_columns": null,
       "grid_template_rows": null,
       "height": null,
       "justify_content": null,
       "justify_items": null,
       "left": null,
       "margin": null,
       "max_height": null,
       "max_width": null,
       "min_height": null,
       "min_width": null,
       "object_fit": null,
       "object_position": null,
       "order": null,
       "overflow": null,
       "padding": null,
       "right": null,
       "top": null,
       "visibility": null,
       "width": null
      }
     },
     "f54a51ebccd24397b49f21cf1a1541b4": {
      "model_module": "@jupyter-widgets/base",
      "model_module_version": "2.0.0",
      "model_name": "LayoutModel",
      "state": {
       "_model_module": "@jupyter-widgets/base",
       "_model_module_version": "2.0.0",
       "_model_name": "LayoutModel",
       "_view_count": null,
       "_view_module": "@jupyter-widgets/base",
       "_view_module_version": "2.0.0",
       "_view_name": "LayoutView",
       "align_content": null,
       "align_items": null,
       "align_self": null,
       "border_bottom": null,
       "border_left": null,
       "border_right": null,
       "border_top": null,
       "bottom": null,
       "display": null,
       "flex": null,
       "flex_flow": null,
       "grid_area": null,
       "grid_auto_columns": null,
       "grid_auto_flow": null,
       "grid_auto_rows": null,
       "grid_column": null,
       "grid_gap": null,
       "grid_row": null,
       "grid_template_areas": null,
       "grid_template_columns": null,
       "grid_template_rows": null,
       "height": null,
       "justify_content": null,
       "justify_items": null,
       "left": null,
       "margin": null,
       "max_height": null,
       "max_width": null,
       "min_height": null,
       "min_width": null,
       "object_fit": null,
       "object_position": null,
       "order": null,
       "overflow": null,
       "padding": null,
       "right": null,
       "top": null,
       "visibility": null,
       "width": null
      }
     },
     "f5a66730110949da8a28724a6f7e3ce8": {
      "model_module": "@jupyter-widgets/base",
      "model_module_version": "2.0.0",
      "model_name": "LayoutModel",
      "state": {
       "_model_module": "@jupyter-widgets/base",
       "_model_module_version": "2.0.0",
       "_model_name": "LayoutModel",
       "_view_count": null,
       "_view_module": "@jupyter-widgets/base",
       "_view_module_version": "2.0.0",
       "_view_name": "LayoutView",
       "align_content": null,
       "align_items": null,
       "align_self": null,
       "border_bottom": null,
       "border_left": null,
       "border_right": null,
       "border_top": null,
       "bottom": null,
       "display": null,
       "flex": null,
       "flex_flow": null,
       "grid_area": null,
       "grid_auto_columns": null,
       "grid_auto_flow": null,
       "grid_auto_rows": null,
       "grid_column": null,
       "grid_gap": null,
       "grid_row": null,
       "grid_template_areas": null,
       "grid_template_columns": null,
       "grid_template_rows": null,
       "height": null,
       "justify_content": null,
       "justify_items": null,
       "left": null,
       "margin": null,
       "max_height": null,
       "max_width": null,
       "min_height": null,
       "min_width": null,
       "object_fit": null,
       "object_position": null,
       "order": null,
       "overflow": null,
       "padding": null,
       "right": null,
       "top": null,
       "visibility": null,
       "width": null
      }
     },
     "f5b764df0aa74ec9acc5088e50408cfd": {
      "model_module": "@jupyter-widgets/base",
      "model_module_version": "2.0.0",
      "model_name": "LayoutModel",
      "state": {
       "_model_module": "@jupyter-widgets/base",
       "_model_module_version": "2.0.0",
       "_model_name": "LayoutModel",
       "_view_count": null,
       "_view_module": "@jupyter-widgets/base",
       "_view_module_version": "2.0.0",
       "_view_name": "LayoutView",
       "align_content": null,
       "align_items": null,
       "align_self": null,
       "border_bottom": null,
       "border_left": null,
       "border_right": null,
       "border_top": null,
       "bottom": null,
       "display": null,
       "flex": null,
       "flex_flow": null,
       "grid_area": null,
       "grid_auto_columns": null,
       "grid_auto_flow": null,
       "grid_auto_rows": null,
       "grid_column": null,
       "grid_gap": null,
       "grid_row": null,
       "grid_template_areas": null,
       "grid_template_columns": null,
       "grid_template_rows": null,
       "height": null,
       "justify_content": null,
       "justify_items": null,
       "left": null,
       "margin": null,
       "max_height": null,
       "max_width": null,
       "min_height": null,
       "min_width": null,
       "object_fit": null,
       "object_position": null,
       "order": null,
       "overflow": null,
       "padding": null,
       "right": null,
       "top": null,
       "visibility": null,
       "width": null
      }
     },
     "fa1a2859d121478db251b7b1d10783f2": {
      "model_module": "@jupyter-widgets/controls",
      "model_module_version": "2.0.0",
      "model_name": "ProgressStyleModel",
      "state": {
       "_model_module": "@jupyter-widgets/controls",
       "_model_module_version": "2.0.0",
       "_model_name": "ProgressStyleModel",
       "_view_count": null,
       "_view_module": "@jupyter-widgets/base",
       "_view_module_version": "2.0.0",
       "_view_name": "StyleView",
       "bar_color": null,
       "description_width": ""
      }
     },
     "fd6ea44d61bb46918dc45342f7bc95b9": {
      "model_module": "@jupyter-widgets/controls",
      "model_module_version": "2.0.0",
      "model_name": "HTMLStyleModel",
      "state": {
       "_model_module": "@jupyter-widgets/controls",
       "_model_module_version": "2.0.0",
       "_model_name": "HTMLStyleModel",
       "_view_count": null,
       "_view_module": "@jupyter-widgets/base",
       "_view_module_version": "2.0.0",
       "_view_name": "StyleView",
       "background": null,
       "description_width": "",
       "font_size": null,
       "text_color": null
      }
     }
    },
    "version_major": 2,
    "version_minor": 0
   }
  }
 },
 "nbformat": 4,
 "nbformat_minor": 5
}
